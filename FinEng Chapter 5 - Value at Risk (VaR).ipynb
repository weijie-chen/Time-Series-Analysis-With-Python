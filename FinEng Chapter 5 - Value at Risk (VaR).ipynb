{
 "cells": [
  {
   "cell_type": "code",
   "execution_count": 1,
   "id": "955f4004-d1a2-4d37-b4bf-faf281aa48d2",
   "metadata": {},
   "outputs": [
    {
     "ename": "ModuleNotFoundError",
     "evalue": "No module named 'yfinance'",
     "output_type": "error",
     "traceback": [
      "\u001b[1;31m---------------------------------------------------------------------------\u001b[0m",
      "\u001b[1;31mModuleNotFoundError\u001b[0m                       Traceback (most recent call last)",
      "Cell \u001b[1;32mIn[1], line 7\u001b[0m\n\u001b[0;32m      5\u001b[0m \u001b[38;5;28;01mimport\u001b[39;00m \u001b[38;5;21;01mscipy\u001b[39;00m\u001b[38;5;21;01m.\u001b[39;00m\u001b[38;5;21;01mstats\u001b[39;00m\n\u001b[0;32m      6\u001b[0m \u001b[38;5;28;01mimport\u001b[39;00m \u001b[38;5;21;01mdatetime\u001b[39;00m \u001b[38;5;28;01mas\u001b[39;00m \u001b[38;5;21;01mdt\u001b[39;00m\n\u001b[1;32m----> 7\u001b[0m \u001b[38;5;28;01mimport\u001b[39;00m \u001b[38;5;21;01myfinance\u001b[39;00m \u001b[38;5;28;01mas\u001b[39;00m \u001b[38;5;21;01myf\u001b[39;00m\n\u001b[0;32m      8\u001b[0m \u001b[38;5;28;01mimport\u001b[39;00m \u001b[38;5;21;01mfin_func\u001b[39;00m \u001b[38;5;28;01mas\u001b[39;00m \u001b[38;5;21;01mff\u001b[39;00m   \n",
      "\u001b[1;31mModuleNotFoundError\u001b[0m: No module named 'yfinance'"
     ]
    }
   ],
   "source": [
    "import numpy as np\n",
    "import matplotlib.pyplot as plt\n",
    "import pandas as pd\n",
    "import scipy as sp\n",
    "import scipy.stats\n",
    "import datetime as dt\n",
    "import yfinance as yf\n",
    "import fin_func as ff   "
   ]
  },
  {
   "cell_type": "markdown",
   "id": "1ef03658-00f2-4b4e-93a8-41e3d1b7aad9",
   "metadata": {},
   "source": [
    "# <font face=\"gotham\" color=\"purple\"> Value at Risk</font>"
   ]
  },
  {
   "cell_type": "markdown",
   "id": "057806a1-e4dd-47fd-9d90-d05e748eb588",
   "metadata": {},
   "source": [
    "Though returns are hardly normal distribution, they can be seen as a linear combination of standard normal distribution\n",
    "$$\n",
    "r(t) = \\mu+ \\sigma*N(0, 1)\n",
    "$$"
   ]
  },
  {
   "cell_type": "markdown",
   "id": "cbec51fe-165f-43a9-afb7-0b4ede83356a",
   "metadata": {},
   "source": [
    "With this knowledge, we can characterize losses in price units, for instance, 'with 5% degree of confidence your portfolio could lose up to USD23000 next week'."
   ]
  },
  {
   "cell_type": "markdown",
   "id": "c20d9812-868b-4830-9956-c7029856e164",
   "metadata": {},
   "source": [
    "$$\n",
    "\\text{Prob}(\\delta \\pi\\leq -\\text{VaR}) = 1-\\text{Confi. Lvl.}\n",
    "$$\n",
    "where $\\delta \\pi$ means the change of portfolio."
   ]
  },
  {
   "cell_type": "markdown",
   "id": "07af5e16-12a7-4d8e-a16d-1469a6d2a1da",
   "metadata": {},
   "source": [
    "Here's how you translate the time interval\n",
    "$$\n",
    "\\sigma_{\\text{n-day}} = \\sigma_{\\text{daily}}\\sqrt{n}\\\\\n",
    "\\mu_{\\text{n-day}} = \\mu_{\\text{daily}}n\n",
    "$$"
   ]
  },
  {
   "cell_type": "markdown",
   "id": "1a792fa9-4958-4692-b493-6fd2a844bd75",
   "metadata": {},
   "source": [
    "This is the formula of $\\text{VaR}$\n",
    "$$\n",
    "\\text{VaR} = \\Delta S [\\underbrace{\\mu \\delta t}_{\\text{from }  \\mu_{\\text{daily}}n} -\\underbrace{\\sigma \\sqrt{\\delta t}}_{\\text{from }\\sigma_{\\text{daily}}\\sqrt{n}}F^{-1}(1-C)]\n",
    "$$\n",
    "where $F^{-1}$ is the inverse cumulative distribution function."
   ]
  },
  {
   "cell_type": "code",
   "execution_count": null,
   "id": "80522039-db86-42e9-b046-4cfdab156ef2",
   "metadata": {},
   "outputs": [
    {
     "name": "stdout",
     "output_type": "stream",
     "text": [
      "VaR tomorrow under 0.05 significance level is $59675.94\n",
      "VaR in 2 days under 0.05 significance level is $84985.07\n"
     ]
    }
   ],
   "source": [
    "def download_data(stocks, dropna, start_date, end_date, column):\n",
    "    # dropna decides if you want to drop all NaN values, column for instance ['Close']\n",
    "    try:\n",
    "        if isinstance(stocks, list):\n",
    "            stock_data = {}\n",
    "            for stock in stocks:\n",
    "                ticker = yf.Ticker(stock)\n",
    "                stock_data[stock]=ticker.history(start=start_date, end=end_date)\n",
    "                stock_data[stock] = stock_data[stock][column]\n",
    "            if dropna == True:\n",
    "                df = pd.DataFrame(stock_data).dropna()\n",
    "            else:\n",
    "                df = pd.DataFrame(stock_data)\n",
    "        return df\n",
    "    except:\n",
    "        print('Tickers should be contained in a list, for instance, [\"LULU\"]')\n",
    "\n",
    "def calculate_var(porfolio, confi, mu, sigma):\n",
    "    F_inv = sp.stats.norm.ppf(1 - confi)\n",
    "    var = porfolio * (mu - sigma*F_inv) # if the data is daily, and this calculates the VaR tomorrow\n",
    "    print('VaR tomorrow under {:.2f} significance level is ${:.2f}'.format((1-confi), var))\n",
    "    return var\n",
    "\n",
    "def calculate_var_n(porfolio, confi, mu, sigma, n):\n",
    "    F_inv = sp.stats.norm.ppf(1 - confi)\n",
    "    var = porfolio * (mu *n - sigma*np.sqrt(n)*F_inv) # if the data is daily, and this calculates the VaR tomorrow\n",
    "    print('VaR in {} days under {:.2f} significance level is ${:.2f}'.format(n, (1-confi), var))\n",
    "    return var\n",
    "\n",
    "if __name__ == '__main__':\n",
    "    df['return'] = (np.log(df['TSLA']) - np.log(df['TSLA'].shift())).dropna()\n",
    "    mu = df['return'].mean()\n",
    "    sigma = df['return'].std()\n",
    "    porfolio = 1e6\n",
    "    confi = .95\n",
    "    \n",
    "    df=download_data(stocks=['TSLA'], dropna=True, start_date='2015-01-01', \n",
    "                     end_date=dt.datetime.today(), column='Close')\n",
    "    VaR = calculate_var(porfolio, confi, mu, sigma)\n",
    "    VaR_ = calculate_var_n(porfolio, confi, mu, sigma, 2)\n",
    "    "
   ]
  },
  {
   "cell_type": "markdown",
   "id": "4d381240-8ca9-4623-a3d8-76e08e0ab4bd",
   "metadata": {},
   "source": [
    "## <font face=\"gotham\" color=\"purple\">  Monte Carlo Approach</font>"
   ]
  },
  {
   "cell_type": "markdown",
   "id": "4e31b788-64ff-4bf0-8bb4-188127ed53de",
   "metadata": {},
   "source": [
    "We will simulate stock prices with \n",
    "$$\n",
    "S(t)=S(0) e^{\\left(\\mu-\\frac{1}{2} \\sigma^2\\right) t+\\sigma \\sqrt{t}  N(0, 1)}\n",
    "$$"
   ]
  },
  {
   "cell_type": "code",
   "execution_count": null,
   "id": "ae68487f-c540-4025-9b27-9b96400dfe35",
   "metadata": {},
   "outputs": [
    {
     "data": {
      "text/plain": [
       "401101.9170862766"
      ]
     },
     "execution_count": 118,
     "metadata": {},
     "output_type": "execute_result"
    }
   ],
   "source": [
    "class VaR_MC:\n",
    "    def __init__(self, S, mu, sigma, confi, n, iterations):\n",
    "        self.S = S\n",
    "        self.mu = mu\n",
    "        self.sigma = sigma\n",
    "        self.confi = confi\n",
    "        self.n = n\n",
    "        self.iterations = iterations\n",
    "        \n",
    "    def simulation(self):\n",
    "        rand_W = np.random.normal(0, 1, [1, self.iterations]) # size 1 by x, this will give a 2-d array\n",
    "        stock_price = self.S * np.exp((self.mu - .5*self.sigma**2)*self.n + self.sigma * np.sqrt(self.n) * rand_W)\n",
    "        stock_price = np.sort(stock_price)\n",
    "        percentile = np.percentile(stock_price, (1-self.confi)*100)                            \n",
    "        return self.S - percentile\n",
    "\n",
    "if __name__ == '__main__':\n",
    "    df['return'] = (np.log(df['TSLA']) - np.log(df['TSLA'].shift())).dropna()\n",
    "    mu = df['return'].mean()\n",
    "    sigma = df['return'].std()\n",
    "    model = VaR_MC(1e6, mu, sigma, .95, 100, 1000)\n",
    "    var = model.simulation()\n",
    "var"
   ]
  },
  {
   "cell_type": "code",
   "execution_count": null,
   "id": "86b5ed6c-0883-4a79-a5c8-f78cca9bada0",
   "metadata": {},
   "outputs": [
    {
     "data": {
      "text/plain": [
       "415237.6243181953"
      ]
     },
     "execution_count": 93,
     "metadata": {},
     "output_type": "execute_result"
    }
   ],
   "source": [
    "var"
   ]
  },
  {
   "cell_type": "code",
   "execution_count": null,
   "id": "5e73a018-0fb7-4999-a269-7ddfe26b1d4d",
   "metadata": {},
   "outputs": [],
   "source": []
  }
 ],
 "metadata": {
  "kernelspec": {
   "display_name": "Python 3 (ipykernel)",
   "language": "python",
   "name": "python3"
  },
  "language_info": {
   "codemirror_mode": {
    "name": "ipython",
    "version": 3
   },
   "file_extension": ".py",
   "mimetype": "text/x-python",
   "name": "python",
   "nbconvert_exporter": "python",
   "pygments_lexer": "ipython3",
   "version": "3.12.0"
  }
 },
 "nbformat": 4,
 "nbformat_minor": 5
}
