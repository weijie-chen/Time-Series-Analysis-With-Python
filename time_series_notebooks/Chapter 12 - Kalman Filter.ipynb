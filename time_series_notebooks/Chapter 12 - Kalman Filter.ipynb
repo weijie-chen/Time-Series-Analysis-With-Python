{
 "cells": [
  {
   "cell_type": "code",
   "execution_count": 2,
   "id": "1ce723a2-f80f-4e32-98f4-7d707ae5f2c1",
   "metadata": {},
   "outputs": [],
   "source": [
    "import numpy as np"
   ]
  },
  {
   "cell_type": "markdown",
   "id": "78a31a6f-c9a3-4f07-90a8-b43c9f38a15d",
   "metadata": {},
   "source": [
    "Name after Rudolf Kálmán, the first well-know application of Kalman filter is estimating the trajectory of spaceship in Apollo project. \n",
    "\n",
    "Simply speaking, the Kalman filter is an algorithm to estimate unobserved variable based on what you can observe, or combine several sources of data subject to noises. "
   ]
  },
  {
   "cell_type": "markdown",
   "id": "0e34ca83-cfba-4324-9601-453792fa25fc",
   "metadata": {},
   "source": [
    "# <font face=\"gotham\" color=\"purple\"> State Space Model </font>"
   ]
  },
  {
   "cell_type": "markdown",
   "id": "82bbb092-47ee-4cfe-b438-6064e7341516",
   "metadata": {},
   "source": [
    "For MA, you have to specify number of lags, the longer the lags the smoother the trend, but not an accurate estimate of most recent status."
   ]
  },
  {
   "cell_type": "markdown",
   "id": "20798bce-58d3-4334-8268-9b5a91827604",
   "metadata": {},
   "source": [
    "In state space model, parameters can adapt over time. To use the cointegration example, hedge ratio $\\beta$ is _state_ that evolves over time, due to market noises, we are unable to directly observe it.\n",
    "\n",
    "The goal state space model is to infer the states as new information comes in. The Kalman filter is the most representative algorithm. "
   ]
  },
  {
   "cell_type": "markdown",
   "id": "97259dc8-71b6-4490-b2c3-f5b6f97fe778",
   "metadata": {},
   "source": [
    "Bayesian is a natural framework for SS model."
   ]
  },
  {
   "cell_type": "markdown",
   "id": "ae66cdba-6cec-4bb0-853a-0e5d4c5b0e2e",
   "metadata": {},
   "source": [
    "Since the states of the system are time-dependent, we need to subscript them with . We will use $\\theta_t$ to represent a column vector of the _states_. State equation\n",
    "$$\n",
    "\\theta_t = G_t \\theta_{t-1}+w_t \n",
    "$$"
   ]
  },
  {
   "cell_type": "markdown",
   "id": "09819de3-361a-4367-88e8-2bf788fea96d",
   "metadata": {},
   "source": [
    "Another equation is\n",
    "$$\n",
    "y_t=F_t^T \\theta_t+v_t\n",
    "$$\n",
    "where $y_t$ is _observation_ and $v_t$ is _measurement error_."
   ]
  },
  {
   "cell_type": "markdown",
   "id": "fca1386c-9506-4575-a681-b4b960d12c08",
   "metadata": {},
   "source": [
    "To fully specify the model\n",
    "$$\n",
    "\\begin{aligned}\n",
    "\\theta_0 & \\sim \\mathcal{N}\\left(m_0, C_0\\right) \\\\\n",
    "v_t & \\sim \\mathcal{N}\\left(0, V_t\\right) \\\\\n",
    "w_t & \\sim \\mathcal{N}\\left(0, W_t\\right)\n",
    "\\end{aligned}\n",
    "$$"
   ]
  },
  {
   "cell_type": "markdown",
   "id": "7cfe4f33-28a4-48c5-ae3a-8d95342d95e8",
   "metadata": {},
   "source": [
    "How to solve it? Kalman filter is the solution. "
   ]
  },
  {
   "cell_type": "markdown",
   "id": "4ab0b244-f41f-439f-8369-fe5ec2e9ece1",
   "metadata": {},
   "source": [
    "Prior\n",
    "$$\n",
    "\\theta_t|D_{t-1}\\sim N(a_t, R_t)\n",
    "$$\n",
    "Likelihood\n",
    "$$\n",
    "y_t |\\theta_t \\sim N(F_t^T\\theta_t, V_t)\n",
    "$$\n",
    "Posterior\n",
    "$$\n",
    "\\theta_t | D_t \\sim N(m_t, C_t)\n",
    "$$\n"
   ]
  },
  {
   "cell_type": "markdown",
   "id": "bf2fe5c1-f2ba-4adb-80c4-8a138fe2a7c5",
   "metadata": {},
   "source": [
    "You can introduce a rolling window looking back for a certain period to update hedge ratio, in this way you estimate linear regression whenever a new bar comes out.\n",
    "\n",
    "Kalman filter could help us adjust hedge ratio estimation over time. We treat hedge ratio $\\beta$ an observable status, the observable is the prices. "
   ]
  },
  {
   "cell_type": "markdown",
   "id": "7a527197-61ff-4b82-8a71-f8f7e8f049ce",
   "metadata": {},
   "source": [
    "This is how you formulate a linear regression into State-Space model\n",
    "$$\n",
    "y_t = F_t X_t + v_t\n",
    "=[\\beta_0 \\quad \\beta_1]\\ \n",
    "\\begin{bmatrix}\n",
    "1 \\\\\n",
    "x_t\n",
    "\\end{bmatrix} + v_t\n",
    "$$"
   ]
  },
  {
   "cell_type": "markdown",
   "id": "4e6c0d34-fad3-4d15-bbad-cccb0b4dbbb0",
   "metadata": {},
   "source": [
    "The Kalman Filter is used to dynamically track the hedging ratio between the two in order to keep the spread stationary (and hence mean reverting)."
   ]
  },
  {
   "cell_type": "code",
   "execution_count": 3,
   "id": "38806cb7-bfd9-47a2-8be4-a08813bb664a",
   "metadata": {},
   "outputs": [],
   "source": [
    "delta = 1e-5\n",
    "trans_cov = delta / (1 - delta) * np.eye(2)"
   ]
  },
  {
   "cell_type": "code",
   "execution_count": 4,
   "id": "0afd3d04-41df-449c-9d35-1cfd9a14cf32",
   "metadata": {},
   "outputs": [
    {
     "data": {
      "text/plain": [
       "array([[1.00001e-05, 0.00000e+00],\n",
       "       [0.00000e+00, 1.00001e-05]])"
      ]
     },
     "execution_count": 4,
     "metadata": {},
     "output_type": "execute_result"
    }
   ],
   "source": [
    "trans_cov"
   ]
  },
  {
   "cell_type": "markdown",
   "id": "5b758467-0118-433d-9f0c-2d2b690d6e1d",
   "metadata": {},
   "source": []
  }
 ],
 "metadata": {
  "kernelspec": {
   "display_name": "Python 3 (ipykernel)",
   "language": "python",
   "name": "python3"
  },
  "language_info": {
   "codemirror_mode": {
    "name": "ipython",
    "version": 3
   },
   "file_extension": ".py",
   "mimetype": "text/x-python",
   "name": "python",
   "nbconvert_exporter": "python",
   "pygments_lexer": "ipython3",
   "version": "3.9.12"
  }
 },
 "nbformat": 4,
 "nbformat_minor": 5
}
