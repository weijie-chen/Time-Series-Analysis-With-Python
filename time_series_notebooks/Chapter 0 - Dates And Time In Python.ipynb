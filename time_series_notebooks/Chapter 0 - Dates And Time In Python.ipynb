{
 "cells": [
  {
   "cell_type": "code",
   "execution_count": 1,
   "id": "1b514cb1-bf09-4d0c-83d5-77cee7d15d53",
   "metadata": {},
   "outputs": [],
   "source": [
    "import datetime as dt\n",
    "import pandas as pd\n",
    "import numpy as np\n",
    "import matplotlib.pyplot as plt\n",
    "import dateutil as du"
   ]
  },
  {
   "cell_type": "markdown",
   "id": "206a027f-1122-4d97-9fff-66fa4d34eecb",
   "metadata": {},
   "source": [
    "# <font face=\"gotham\" color=\"purple\"> Date Objects</font>"
   ]
  },
  {
   "cell_type": "markdown",
   "id": "07edd017-0750-4219-b81a-c41e1d6c9cc0",
   "metadata": {},
   "source": [
    "Though economic or financial time series data are neatly labeled with time stamp which doesn't require much extra manipulations, we will still cover the basics of ```datetime``` library in this chapter. It will be useful when engaging in commercial time series data rather than economic or financial ones.  \n",
    "\n",
    "All necessary libraries have been imported at the top of file.\n",
    "\n",
    "First we create a date object on Christmas in 2021."
   ]
  },
  {
   "cell_type": "code",
   "execution_count": 2,
   "id": "147909fd-42f2-4e87-996d-fb44ca5b736c",
   "metadata": {},
   "outputs": [],
   "source": [
    "christmas_2021 = dt.date(2021, 12, 25)"
   ]
  },
  {
   "cell_type": "markdown",
   "id": "2ae79c17-ee07-4999-8ebf-b154d2111ab2",
   "metadata": {},
   "source": [
    "```christmas_2021``` is not a string, it is a ```date``` object."
   ]
  },
  {
   "cell_type": "code",
   "execution_count": 3,
   "id": "b8ac41a5-2f62-4670-8961-59fbe2c0a909",
   "metadata": {},
   "outputs": [
    {
     "name": "stdout",
     "output_type": "stream",
     "text": [
      "2021-12-25\n"
     ]
    },
    {
     "data": {
      "text/plain": [
       "datetime.date"
      ]
     },
     "execution_count": 3,
     "metadata": {},
     "output_type": "execute_result"
    }
   ],
   "source": [
    "print(christmas_2021)\n",
    "type(christmas_2021)"
   ]
  },
  {
   "cell_type": "markdown",
   "id": "4f9bcba1-0f91-44cf-a496-5da95bbc8b34",
   "metadata": {},
   "source": [
    "We can check what methods and attributes it has, we filter out the _magic methods_ with a loop."
   ]
  },
  {
   "cell_type": "code",
   "execution_count": 4,
   "id": "cee7227f-6323-48a5-9afe-abbfe1a097cf",
   "metadata": {},
   "outputs": [],
   "source": [
    "def filter_dunder(any_obj):\n",
    "    temp_list = dir(any_obj)\n",
    "    date_obj_meth_attr = []\n",
    "    for i in temp_list:\n",
    "        if i[0:2] != '__':\n",
    "            date_obj_meth_attr.append(i)\n",
    "    date_obj_meth_attr = {'meth_attr':date_obj_meth_attr}\n",
    "    return pd.DataFrame(date_obj_meth_attr)"
   ]
  },
  {
   "cell_type": "code",
   "execution_count": 5,
   "id": "e3ec790e-7af3-41b4-b9ad-9263db57328a",
   "metadata": {},
   "outputs": [
    {
     "data": {
      "text/html": [
       "<div>\n",
       "<style scoped>\n",
       "    .dataframe tbody tr th:only-of-type {\n",
       "        vertical-align: middle;\n",
       "    }\n",
       "\n",
       "    .dataframe tbody tr th {\n",
       "        vertical-align: top;\n",
       "    }\n",
       "\n",
       "    .dataframe thead th {\n",
       "        text-align: right;\n",
       "    }\n",
       "</style>\n",
       "<table border=\"1\" class=\"dataframe\">\n",
       "  <thead>\n",
       "    <tr style=\"text-align: right;\">\n",
       "      <th></th>\n",
       "      <th>meth_attr</th>\n",
       "    </tr>\n",
       "  </thead>\n",
       "  <tbody>\n",
       "    <tr>\n",
       "      <th>0</th>\n",
       "      <td>ctime</td>\n",
       "    </tr>\n",
       "    <tr>\n",
       "      <th>1</th>\n",
       "      <td>day</td>\n",
       "    </tr>\n",
       "    <tr>\n",
       "      <th>2</th>\n",
       "      <td>fromisocalendar</td>\n",
       "    </tr>\n",
       "    <tr>\n",
       "      <th>3</th>\n",
       "      <td>fromisoformat</td>\n",
       "    </tr>\n",
       "    <tr>\n",
       "      <th>4</th>\n",
       "      <td>fromordinal</td>\n",
       "    </tr>\n",
       "    <tr>\n",
       "      <th>5</th>\n",
       "      <td>fromtimestamp</td>\n",
       "    </tr>\n",
       "    <tr>\n",
       "      <th>6</th>\n",
       "      <td>isocalendar</td>\n",
       "    </tr>\n",
       "    <tr>\n",
       "      <th>7</th>\n",
       "      <td>isoformat</td>\n",
       "    </tr>\n",
       "    <tr>\n",
       "      <th>8</th>\n",
       "      <td>isoweekday</td>\n",
       "    </tr>\n",
       "    <tr>\n",
       "      <th>9</th>\n",
       "      <td>max</td>\n",
       "    </tr>\n",
       "    <tr>\n",
       "      <th>10</th>\n",
       "      <td>min</td>\n",
       "    </tr>\n",
       "    <tr>\n",
       "      <th>11</th>\n",
       "      <td>month</td>\n",
       "    </tr>\n",
       "    <tr>\n",
       "      <th>12</th>\n",
       "      <td>replace</td>\n",
       "    </tr>\n",
       "    <tr>\n",
       "      <th>13</th>\n",
       "      <td>resolution</td>\n",
       "    </tr>\n",
       "    <tr>\n",
       "      <th>14</th>\n",
       "      <td>strftime</td>\n",
       "    </tr>\n",
       "    <tr>\n",
       "      <th>15</th>\n",
       "      <td>timetuple</td>\n",
       "    </tr>\n",
       "    <tr>\n",
       "      <th>16</th>\n",
       "      <td>today</td>\n",
       "    </tr>\n",
       "    <tr>\n",
       "      <th>17</th>\n",
       "      <td>toordinal</td>\n",
       "    </tr>\n",
       "    <tr>\n",
       "      <th>18</th>\n",
       "      <td>weekday</td>\n",
       "    </tr>\n",
       "    <tr>\n",
       "      <th>19</th>\n",
       "      <td>year</td>\n",
       "    </tr>\n",
       "  </tbody>\n",
       "</table>\n",
       "</div>"
      ],
      "text/plain": [
       "          meth_attr\n",
       "0             ctime\n",
       "1               day\n",
       "2   fromisocalendar\n",
       "3     fromisoformat\n",
       "4       fromordinal\n",
       "5     fromtimestamp\n",
       "6       isocalendar\n",
       "7         isoformat\n",
       "8        isoweekday\n",
       "9               max\n",
       "10              min\n",
       "11            month\n",
       "12          replace\n",
       "13       resolution\n",
       "14         strftime\n",
       "15        timetuple\n",
       "16            today\n",
       "17        toordinal\n",
       "18          weekday\n",
       "19             year"
      ]
     },
     "execution_count": 5,
     "metadata": {},
     "output_type": "execute_result"
    }
   ],
   "source": [
    "date_obj_meth_attr = filter_dunder(christmas_2021)\n",
    "date_obj_meth_attr"
   ]
  },
  {
   "cell_type": "markdown",
   "id": "18c573b0-68a4-4f90-a38a-c69b0f4db628",
   "metadata": {},
   "source": [
    "Obviously ```year```, ```month```, ```day``` and etc. are attributes."
   ]
  },
  {
   "cell_type": "code",
   "execution_count": 6,
   "id": "e764d14b-39db-41ed-b5ee-0ce25fdc8c87",
   "metadata": {},
   "outputs": [
    {
     "name": "stdout",
     "output_type": "stream",
     "text": [
      "2021\n",
      "12\n",
      "25\n"
     ]
    }
   ],
   "source": [
    "print(christmas_2021.year)\n",
    "print(christmas_2021.month)\n",
    "print(christmas_2021.day)"
   ]
  },
  {
   "cell_type": "markdown",
   "id": "19cac45e-ed36-4282-bf72-80a334404dca",
   "metadata": {},
   "source": [
    "However, ```weekday``` is a method, which returns the day of the week, by default Monday $=0$."
   ]
  },
  {
   "cell_type": "code",
   "execution_count": 7,
   "id": "d4f36cf6-7db5-4981-b707-7d99d9844383",
   "metadata": {},
   "outputs": [
    {
     "data": {
      "text/plain": [
       "5"
      ]
     },
     "execution_count": 7,
     "metadata": {},
     "output_type": "execute_result"
    }
   ],
   "source": [
    "christmas_2021.weekday()"
   ]
  },
  {
   "cell_type": "markdown",
   "id": "d0138bc0-9b10-4d8b-8cc3-02796ac78fc0",
   "metadata": {},
   "source": [
    "```isocalendar()``` returns the number of weeks and day of the week."
   ]
  },
  {
   "cell_type": "code",
   "execution_count": 8,
   "id": "c11c484b-4499-4ded-ba03-5408328b04c7",
   "metadata": {},
   "outputs": [
    {
     "data": {
      "text/plain": [
       "(2021, 51, 6)"
      ]
     },
     "execution_count": 8,
     "metadata": {},
     "output_type": "execute_result"
    }
   ],
   "source": [
    "christmas_2021.isocalendar()"
   ]
  },
  {
   "cell_type": "markdown",
   "id": "e18f6250-6a2b-4793-be01-9766485ba358",
   "metadata": {},
   "source": [
    "# <font face=\"gotham\" color=\"purple\"> Subtracting Days </font>"
   ]
  },
  {
   "cell_type": "markdown",
   "id": "3bc749ff-0e11-4f61-a563-382fe3fa6b5a",
   "metadata": {},
   "source": [
    "Create another date object of ```2021-11-11``` which is Polish Independence Day (PID), then calculate how many days between PID and Christmas?"
   ]
  },
  {
   "cell_type": "code",
   "execution_count": 9,
   "id": "44a16fd5-bdcd-4597-a581-242a40f05d69",
   "metadata": {},
   "outputs": [],
   "source": [
    "inde_day_2021 = dt.date(2021, 11, 11) # Polish Independence day"
   ]
  },
  {
   "cell_type": "code",
   "execution_count": 10,
   "id": "2925026c-e8c5-4262-a6c9-4a046771d619",
   "metadata": {},
   "outputs": [
    {
     "name": "stdout",
     "output_type": "stream",
     "text": [
      "44 days, 0:00:00\n"
     ]
    },
    {
     "data": {
      "text/plain": [
       "datetime.timedelta"
      ]
     },
     "execution_count": 10,
     "metadata": {},
     "output_type": "execute_result"
    }
   ],
   "source": [
    "date_delta = christmas_2021 - inde_day_2021\n",
    "print(date_delta)\n",
    "type(date_delta)"
   ]
  },
  {
   "cell_type": "markdown",
   "id": "4a889a7d-3998-4ed5-ba1b-a36b81299bbf",
   "metadata": {},
   "source": [
    "Note the result is an object called ```timedelta```, it can be created mannually or automatically via any date objects' subtraction."
   ]
  },
  {
   "cell_type": "code",
   "execution_count": 11,
   "id": "937fbeae-10ee-4e35-891e-9ee3bc312400",
   "metadata": {},
   "outputs": [
    {
     "data": {
      "text/html": [
       "<div>\n",
       "<style scoped>\n",
       "    .dataframe tbody tr th:only-of-type {\n",
       "        vertical-align: middle;\n",
       "    }\n",
       "\n",
       "    .dataframe tbody tr th {\n",
       "        vertical-align: top;\n",
       "    }\n",
       "\n",
       "    .dataframe thead th {\n",
       "        text-align: right;\n",
       "    }\n",
       "</style>\n",
       "<table border=\"1\" class=\"dataframe\">\n",
       "  <thead>\n",
       "    <tr style=\"text-align: right;\">\n",
       "      <th></th>\n",
       "      <th>meth_attr</th>\n",
       "    </tr>\n",
       "  </thead>\n",
       "  <tbody>\n",
       "    <tr>\n",
       "      <th>0</th>\n",
       "      <td>days</td>\n",
       "    </tr>\n",
       "    <tr>\n",
       "      <th>1</th>\n",
       "      <td>max</td>\n",
       "    </tr>\n",
       "    <tr>\n",
       "      <th>2</th>\n",
       "      <td>microseconds</td>\n",
       "    </tr>\n",
       "    <tr>\n",
       "      <th>3</th>\n",
       "      <td>min</td>\n",
       "    </tr>\n",
       "    <tr>\n",
       "      <th>4</th>\n",
       "      <td>resolution</td>\n",
       "    </tr>\n",
       "    <tr>\n",
       "      <th>5</th>\n",
       "      <td>seconds</td>\n",
       "    </tr>\n",
       "    <tr>\n",
       "      <th>6</th>\n",
       "      <td>total_seconds</td>\n",
       "    </tr>\n",
       "  </tbody>\n",
       "</table>\n",
       "</div>"
      ],
      "text/plain": [
       "       meth_attr\n",
       "0           days\n",
       "1            max\n",
       "2   microseconds\n",
       "3            min\n",
       "4     resolution\n",
       "5        seconds\n",
       "6  total_seconds"
      ]
     },
     "execution_count": 11,
     "metadata": {},
     "output_type": "execute_result"
    }
   ],
   "source": [
    "delta_obj_meth_attr = filter_dunder(date_delta)\n",
    "delta_obj_meth_attr"
   ]
  },
  {
   "cell_type": "markdown",
   "id": "e0f83500-9b38-4ec0-b797-75ac5ea13f54",
   "metadata": {},
   "source": [
    "Check how many seconds there are between two dates."
   ]
  },
  {
   "cell_type": "code",
   "execution_count": 12,
   "id": "c81db760-52a0-4a30-a158-80d2c921c857",
   "metadata": {},
   "outputs": [
    {
     "data": {
      "text/plain": [
       "3801600.0"
      ]
     },
     "execution_count": 12,
     "metadata": {},
     "output_type": "execute_result"
    }
   ],
   "source": [
    "date_delta.total_seconds()"
   ]
  },
  {
   "cell_type": "markdown",
   "id": "7bc50ece-c18a-4425-9ae3-261f5e8115f2",
   "metadata": {},
   "source": [
    "Or days."
   ]
  },
  {
   "cell_type": "code",
   "execution_count": 13,
   "id": "92275d07-cfa5-4dd5-bf2e-1fbf879a3e1f",
   "metadata": {},
   "outputs": [
    {
     "data": {
      "text/plain": [
       "44"
      ]
     },
     "execution_count": 13,
     "metadata": {},
     "output_type": "execute_result"
    }
   ],
   "source": [
    "date_delta.days"
   ]
  },
  {
   "cell_type": "markdown",
   "id": "a2d2b007-2244-4cf2-bb89-13665d8c9773",
   "metadata": {},
   "source": [
    "Time delta can be specified by us. Here shows the date one week before PID."
   ]
  },
  {
   "cell_type": "code",
   "execution_count": 57,
   "id": "4f6b68c2-c8b2-4b6c-9002-1ced22377511",
   "metadata": {},
   "outputs": [
    {
     "data": {
      "text/plain": [
       "datetime.date(2021, 11, 4)"
      ]
     },
     "execution_count": 57,
     "metadata": {},
     "output_type": "execute_result"
    }
   ],
   "source": [
    "offset = dt.timedelta(weeks = 1)\n",
    "inde_day_2021 - offset"
   ]
  },
  {
   "cell_type": "markdown",
   "id": "c9c12e94-86eb-4710-98e1-694e07664cfe",
   "metadata": {},
   "source": [
    "# <font face=\"gotham\" color=\"purple\"> Datetime Objects</font>"
   ]
  },
  {
   "cell_type": "markdown",
   "id": "e18bab68-5f06-4217-8a3b-f247685e5cbf",
   "metadata": {},
   "source": [
    "```datatime``` object grants us detailed time stamp at seconds' level. For instance, we create a ```datetime``` object at midnight of Christmas then convert to string by ```.isoformat()``` method."
   ]
  },
  {
   "cell_type": "code",
   "execution_count": 14,
   "id": "2cd879fc-cd75-49cd-aa11-0c4f8bad3a43",
   "metadata": {},
   "outputs": [
    {
     "data": {
      "text/plain": [
       "'2021-12-25T23:59:59'"
      ]
     },
     "execution_count": 14,
     "metadata": {},
     "output_type": "execute_result"
    }
   ],
   "source": [
    "christmas_2021_midnight = dt.datetime(2021, 12, 25, 23, 59, 59)\n",
    "christmas_2021_midnight.isoformat()"
   ]
  },
  {
   "cell_type": "markdown",
   "id": "f0470776-87cd-4f5f-8282-d3a105ff243e",
   "metadata": {},
   "source": [
    "```datetime``` is more flexible and has much more methods and attributes."
   ]
  },
  {
   "cell_type": "code",
   "execution_count": 15,
   "id": "da405b47-2453-46c9-a70d-f7653b1c0061",
   "metadata": {},
   "outputs": [
    {
     "data": {
      "text/html": [
       "<div>\n",
       "<style scoped>\n",
       "    .dataframe tbody tr th:only-of-type {\n",
       "        vertical-align: middle;\n",
       "    }\n",
       "\n",
       "    .dataframe tbody tr th {\n",
       "        vertical-align: top;\n",
       "    }\n",
       "\n",
       "    .dataframe thead th {\n",
       "        text-align: right;\n",
       "    }\n",
       "</style>\n",
       "<table border=\"1\" class=\"dataframe\">\n",
       "  <thead>\n",
       "    <tr style=\"text-align: right;\">\n",
       "      <th></th>\n",
       "      <th>meth_attr</th>\n",
       "    </tr>\n",
       "  </thead>\n",
       "  <tbody>\n",
       "    <tr>\n",
       "      <th>0</th>\n",
       "      <td>astimezone</td>\n",
       "    </tr>\n",
       "    <tr>\n",
       "      <th>1</th>\n",
       "      <td>combine</td>\n",
       "    </tr>\n",
       "    <tr>\n",
       "      <th>2</th>\n",
       "      <td>ctime</td>\n",
       "    </tr>\n",
       "    <tr>\n",
       "      <th>3</th>\n",
       "      <td>date</td>\n",
       "    </tr>\n",
       "    <tr>\n",
       "      <th>4</th>\n",
       "      <td>day</td>\n",
       "    </tr>\n",
       "    <tr>\n",
       "      <th>5</th>\n",
       "      <td>dst</td>\n",
       "    </tr>\n",
       "    <tr>\n",
       "      <th>6</th>\n",
       "      <td>fold</td>\n",
       "    </tr>\n",
       "    <tr>\n",
       "      <th>7</th>\n",
       "      <td>fromisocalendar</td>\n",
       "    </tr>\n",
       "    <tr>\n",
       "      <th>8</th>\n",
       "      <td>fromisoformat</td>\n",
       "    </tr>\n",
       "    <tr>\n",
       "      <th>9</th>\n",
       "      <td>fromordinal</td>\n",
       "    </tr>\n",
       "    <tr>\n",
       "      <th>10</th>\n",
       "      <td>fromtimestamp</td>\n",
       "    </tr>\n",
       "    <tr>\n",
       "      <th>11</th>\n",
       "      <td>hour</td>\n",
       "    </tr>\n",
       "    <tr>\n",
       "      <th>12</th>\n",
       "      <td>isocalendar</td>\n",
       "    </tr>\n",
       "    <tr>\n",
       "      <th>13</th>\n",
       "      <td>isoformat</td>\n",
       "    </tr>\n",
       "    <tr>\n",
       "      <th>14</th>\n",
       "      <td>isoweekday</td>\n",
       "    </tr>\n",
       "    <tr>\n",
       "      <th>15</th>\n",
       "      <td>max</td>\n",
       "    </tr>\n",
       "    <tr>\n",
       "      <th>16</th>\n",
       "      <td>microsecond</td>\n",
       "    </tr>\n",
       "    <tr>\n",
       "      <th>17</th>\n",
       "      <td>min</td>\n",
       "    </tr>\n",
       "    <tr>\n",
       "      <th>18</th>\n",
       "      <td>minute</td>\n",
       "    </tr>\n",
       "    <tr>\n",
       "      <th>19</th>\n",
       "      <td>month</td>\n",
       "    </tr>\n",
       "    <tr>\n",
       "      <th>20</th>\n",
       "      <td>now</td>\n",
       "    </tr>\n",
       "    <tr>\n",
       "      <th>21</th>\n",
       "      <td>replace</td>\n",
       "    </tr>\n",
       "    <tr>\n",
       "      <th>22</th>\n",
       "      <td>resolution</td>\n",
       "    </tr>\n",
       "    <tr>\n",
       "      <th>23</th>\n",
       "      <td>second</td>\n",
       "    </tr>\n",
       "    <tr>\n",
       "      <th>24</th>\n",
       "      <td>strftime</td>\n",
       "    </tr>\n",
       "    <tr>\n",
       "      <th>25</th>\n",
       "      <td>strptime</td>\n",
       "    </tr>\n",
       "    <tr>\n",
       "      <th>26</th>\n",
       "      <td>time</td>\n",
       "    </tr>\n",
       "    <tr>\n",
       "      <th>27</th>\n",
       "      <td>timestamp</td>\n",
       "    </tr>\n",
       "    <tr>\n",
       "      <th>28</th>\n",
       "      <td>timetuple</td>\n",
       "    </tr>\n",
       "    <tr>\n",
       "      <th>29</th>\n",
       "      <td>timetz</td>\n",
       "    </tr>\n",
       "    <tr>\n",
       "      <th>30</th>\n",
       "      <td>today</td>\n",
       "    </tr>\n",
       "    <tr>\n",
       "      <th>31</th>\n",
       "      <td>toordinal</td>\n",
       "    </tr>\n",
       "    <tr>\n",
       "      <th>32</th>\n",
       "      <td>tzinfo</td>\n",
       "    </tr>\n",
       "    <tr>\n",
       "      <th>33</th>\n",
       "      <td>tzname</td>\n",
       "    </tr>\n",
       "    <tr>\n",
       "      <th>34</th>\n",
       "      <td>utcfromtimestamp</td>\n",
       "    </tr>\n",
       "    <tr>\n",
       "      <th>35</th>\n",
       "      <td>utcnow</td>\n",
       "    </tr>\n",
       "    <tr>\n",
       "      <th>36</th>\n",
       "      <td>utcoffset</td>\n",
       "    </tr>\n",
       "    <tr>\n",
       "      <th>37</th>\n",
       "      <td>utctimetuple</td>\n",
       "    </tr>\n",
       "    <tr>\n",
       "      <th>38</th>\n",
       "      <td>weekday</td>\n",
       "    </tr>\n",
       "    <tr>\n",
       "      <th>39</th>\n",
       "      <td>year</td>\n",
       "    </tr>\n",
       "  </tbody>\n",
       "</table>\n",
       "</div>"
      ],
      "text/plain": [
       "           meth_attr\n",
       "0         astimezone\n",
       "1            combine\n",
       "2              ctime\n",
       "3               date\n",
       "4                day\n",
       "5                dst\n",
       "6               fold\n",
       "7    fromisocalendar\n",
       "8      fromisoformat\n",
       "9        fromordinal\n",
       "10     fromtimestamp\n",
       "11              hour\n",
       "12       isocalendar\n",
       "13         isoformat\n",
       "14        isoweekday\n",
       "15               max\n",
       "16       microsecond\n",
       "17               min\n",
       "18            minute\n",
       "19             month\n",
       "20               now\n",
       "21           replace\n",
       "22        resolution\n",
       "23            second\n",
       "24          strftime\n",
       "25          strptime\n",
       "26              time\n",
       "27         timestamp\n",
       "28         timetuple\n",
       "29            timetz\n",
       "30             today\n",
       "31         toordinal\n",
       "32            tzinfo\n",
       "33            tzname\n",
       "34  utcfromtimestamp\n",
       "35            utcnow\n",
       "36         utcoffset\n",
       "37      utctimetuple\n",
       "38           weekday\n",
       "39              year"
      ]
     },
     "execution_count": 15,
     "metadata": {},
     "output_type": "execute_result"
    }
   ],
   "source": [
    "filter_dunder(christmas_2021_midnight)"
   ]
  },
  {
   "cell_type": "markdown",
   "id": "e52689f3-11ae-4832-86b4-6f0ebf064465",
   "metadata": {},
   "source": [
    "```.replace()``` can modify the time attributes and assign onto an object."
   ]
  },
  {
   "cell_type": "code",
   "execution_count": 16,
   "id": "3f9efe77-1270-4ea4-8f30-d584fd1875ab",
   "metadata": {},
   "outputs": [
    {
     "name": "stdout",
     "output_type": "stream",
     "text": [
      "2022-12-24 11:59:59\n"
     ]
    }
   ],
   "source": [
    "christmas_eve_2022_noon = christmas_2021_midnight.replace(year=2022, month=12, day=24, hour=11, minute=59, second=59)\n",
    "print(christmas_eve_2022_noon)"
   ]
  },
  {
   "cell_type": "markdown",
   "id": "1e6ea822-4025-4d82-abc0-129fd8f14a13",
   "metadata": {},
   "source": [
    "Here are most common attributes of ```datetime``` object."
   ]
  },
  {
   "cell_type": "code",
   "execution_count": 17,
   "id": "312d3362-6d06-41f2-9f7c-bfa19c06b348",
   "metadata": {},
   "outputs": [
    {
     "name": "stdout",
     "output_type": "stream",
     "text": [
      "2021\n",
      "12\n",
      "25\n",
      "23\n",
      "59\n",
      "59\n"
     ]
    }
   ],
   "source": [
    "print(christmas_2021_midnight.year)\n",
    "print(christmas_2021_midnight.month)\n",
    "print(christmas_2021_midnight.day)\n",
    "print(christmas_2021_midnight.hour)\n",
    "print(christmas_2021_midnight.minute)\n",
    "print(christmas_2021_midnight.second)"
   ]
  },
  {
   "cell_type": "markdown",
   "id": "2e54a4bc-e208-4fda-91de-0f66138854a9",
   "metadata": {},
   "source": [
    "# <font face=\"gotham\" color=\"purple\"> Formats</font>"
   ]
  },
  {
   "cell_type": "markdown",
   "id": "7fdd48a5-824f-4570-be2d-3d72a1e3b968",
   "metadata": {},
   "source": [
    "```.strptime()``` turn strings into datetime object (p means parse), ```.strftime()``` turns datetime object into strings (f means format)."
   ]
  },
  {
   "cell_type": "code",
   "execution_count": 18,
   "id": "65590562-48ed-4c7e-849a-11e7261046c0",
   "metadata": {},
   "outputs": [
    {
     "data": {
      "text/plain": [
       "'2021-12-25'"
      ]
     },
     "execution_count": 18,
     "metadata": {},
     "output_type": "execute_result"
    }
   ],
   "source": [
    "christmas_2021.isoformat() # ordinary ISO format"
   ]
  },
  {
   "cell_type": "markdown",
   "id": "07616b2c-349f-4a47-833b-e1431cbff164",
   "metadata": {},
   "source": [
    "Check <a href='https://docs.python.org/3/library/datetime.html'>here</a> to find a proper format codes."
   ]
  },
  {
   "cell_type": "code",
   "execution_count": 19,
   "id": "c106dd61-26a4-40ef-9048-fc142e5bff0f",
   "metadata": {},
   "outputs": [
    {
     "data": {
      "text/plain": [
       "'25-12-2021'"
      ]
     },
     "execution_count": 19,
     "metadata": {},
     "output_type": "execute_result"
    }
   ],
   "source": [
    "christmas_2021.strftime('%d-%m-%Y')"
   ]
  },
  {
   "cell_type": "code",
   "execution_count": 20,
   "id": "b8039108-c55c-4421-8d44-7606c2869d17",
   "metadata": {},
   "outputs": [
    {
     "data": {
      "text/plain": [
       "'25-December-2021'"
      ]
     },
     "execution_count": 20,
     "metadata": {},
     "output_type": "execute_result"
    }
   ],
   "source": [
    "christmas_2021.strftime('%d-%B-%Y')"
   ]
  },
  {
   "cell_type": "markdown",
   "id": "4e66f9f7-08ae-4223-b0a0-0a362a001744",
   "metadata": {},
   "source": [
    "Use whatever separator you prefer, what matthers are the designated symbol right after ```%```."
   ]
  },
  {
   "cell_type": "code",
   "execution_count": 21,
   "id": "ac55bfd5-795e-40a8-b047-ea74a4c7332b",
   "metadata": {},
   "outputs": [
    {
     "data": {
      "text/plain": [
       "'2021  ~*~+#  12  ~*~#&*  25'"
      ]
     },
     "execution_count": 21,
     "metadata": {},
     "output_type": "execute_result"
    }
   ],
   "source": [
    "christmas_2021.strftime('%Y  ~*~+#  %m  ~*~#&*  %d')"
   ]
  },
  {
   "cell_type": "code",
   "execution_count": 22,
   "id": "194e5f0c-12f3-4359-9c4b-6860f150a9d4",
   "metadata": {},
   "outputs": [
    {
     "data": {
      "text/plain": [
       "'2021, the number of day 359'"
      ]
     },
     "execution_count": 22,
     "metadata": {},
     "output_type": "execute_result"
    }
   ],
   "source": [
    "christmas_2021.strftime('%Y, the number of day %j')"
   ]
  },
  {
   "cell_type": "markdown",
   "id": "3b9fafc0-5c59-4940-b92a-966586c468f6",
   "metadata": {},
   "source": [
    "# <font face=\"gotham\" color=\"purple\"> Load Data </font>"
   ]
  },
  {
   "cell_type": "markdown",
   "id": "94b5fd92-f028-4b6a-90b4-57a1c200e3cd",
   "metadata": {},
   "source": [
    "Now we will try a dateset from Kaggle. It records the time, duration and location of bikes from a bike sharing business."
   ]
  },
  {
   "cell_type": "code",
   "execution_count": 23,
   "id": "3b432f65-0c0f-48f0-84ab-6b7d5f4d8479",
   "metadata": {},
   "outputs": [],
   "source": [
    "df_bike = pd.read_csv('metro-bike-share-trip-data.csv')"
   ]
  },
  {
   "cell_type": "code",
   "execution_count": 24,
   "id": "9c2d4573-2c7f-4871-9367-97b4443d689f",
   "metadata": {},
   "outputs": [
    {
     "data": {
      "text/html": [
       "<div>\n",
       "<style scoped>\n",
       "    .dataframe tbody tr th:only-of-type {\n",
       "        vertical-align: middle;\n",
       "    }\n",
       "\n",
       "    .dataframe tbody tr th {\n",
       "        vertical-align: top;\n",
       "    }\n",
       "\n",
       "    .dataframe thead th {\n",
       "        text-align: right;\n",
       "    }\n",
       "</style>\n",
       "<table border=\"1\" class=\"dataframe\">\n",
       "  <thead>\n",
       "    <tr style=\"text-align: right;\">\n",
       "      <th></th>\n",
       "      <th>Trip ID</th>\n",
       "      <th>Duration</th>\n",
       "      <th>Start Time</th>\n",
       "      <th>End Time</th>\n",
       "      <th>Starting Station ID</th>\n",
       "      <th>Starting Station Latitude</th>\n",
       "      <th>Starting Station Longitude</th>\n",
       "      <th>Ending Station ID</th>\n",
       "      <th>Ending Station Latitude</th>\n",
       "      <th>Ending Station Longitude</th>\n",
       "      <th>...</th>\n",
       "      <th>Trip Route Category</th>\n",
       "      <th>Passholder Type</th>\n",
       "      <th>Starting Lat-Long</th>\n",
       "      <th>Ending Lat-Long</th>\n",
       "      <th>Neighborhood Councils (Certified)</th>\n",
       "      <th>Council Districts</th>\n",
       "      <th>Zip Codes</th>\n",
       "      <th>LA Specific Plans</th>\n",
       "      <th>Precinct Boundaries</th>\n",
       "      <th>Census Tracts</th>\n",
       "    </tr>\n",
       "  </thead>\n",
       "  <tbody>\n",
       "    <tr>\n",
       "      <th>0</th>\n",
       "      <td>18222186</td>\n",
       "      <td>15060</td>\n",
       "      <td>2017-01-19T17:05:00.000</td>\n",
       "      <td>2017-01-19T21:16:00.000</td>\n",
       "      <td>3031.0</td>\n",
       "      <td>34.044701</td>\n",
       "      <td>-118.252441</td>\n",
       "      <td>3000.0</td>\n",
       "      <td>NaN</td>\n",
       "      <td>NaN</td>\n",
       "      <td>...</td>\n",
       "      <td>One Way</td>\n",
       "      <td>Walk-up</td>\n",
       "      <td>NaN</td>\n",
       "      <td>NaN</td>\n",
       "      <td>NaN</td>\n",
       "      <td>NaN</td>\n",
       "      <td>NaN</td>\n",
       "      <td>NaN</td>\n",
       "      <td>NaN</td>\n",
       "      <td>NaN</td>\n",
       "    </tr>\n",
       "    <tr>\n",
       "      <th>1</th>\n",
       "      <td>9518671</td>\n",
       "      <td>77160</td>\n",
       "      <td>2016-10-09T14:37:00.000</td>\n",
       "      <td>2016-10-10T12:03:00.000</td>\n",
       "      <td>NaN</td>\n",
       "      <td>NaN</td>\n",
       "      <td>NaN</td>\n",
       "      <td>3000.0</td>\n",
       "      <td>NaN</td>\n",
       "      <td>NaN</td>\n",
       "      <td>...</td>\n",
       "      <td>One Way</td>\n",
       "      <td>Monthly Pass</td>\n",
       "      <td>NaN</td>\n",
       "      <td>NaN</td>\n",
       "      <td>NaN</td>\n",
       "      <td>NaN</td>\n",
       "      <td>NaN</td>\n",
       "      <td>NaN</td>\n",
       "      <td>NaN</td>\n",
       "      <td>NaN</td>\n",
       "    </tr>\n",
       "    <tr>\n",
       "      <th>2</th>\n",
       "      <td>20444932</td>\n",
       "      <td>86400</td>\n",
       "      <td>2017-02-18T10:15:00.000</td>\n",
       "      <td>2017-02-20T15:20:00.000</td>\n",
       "      <td>3026.0</td>\n",
       "      <td>34.063179</td>\n",
       "      <td>-118.245880</td>\n",
       "      <td>3000.0</td>\n",
       "      <td>NaN</td>\n",
       "      <td>NaN</td>\n",
       "      <td>...</td>\n",
       "      <td>One Way</td>\n",
       "      <td>Walk-up</td>\n",
       "      <td>NaN</td>\n",
       "      <td>NaN</td>\n",
       "      <td>NaN</td>\n",
       "      <td>NaN</td>\n",
       "      <td>NaN</td>\n",
       "      <td>NaN</td>\n",
       "      <td>NaN</td>\n",
       "      <td>NaN</td>\n",
       "    </tr>\n",
       "  </tbody>\n",
       "</table>\n",
       "<p>3 rows × 22 columns</p>\n",
       "</div>"
      ],
      "text/plain": [
       "    Trip ID  Duration               Start Time                 End Time  \\\n",
       "0  18222186     15060  2017-01-19T17:05:00.000  2017-01-19T21:16:00.000   \n",
       "1   9518671     77160  2016-10-09T14:37:00.000  2016-10-10T12:03:00.000   \n",
       "2  20444932     86400  2017-02-18T10:15:00.000  2017-02-20T15:20:00.000   \n",
       "\n",
       "   Starting Station ID  Starting Station Latitude  Starting Station Longitude  \\\n",
       "0               3031.0                  34.044701                 -118.252441   \n",
       "1                  NaN                        NaN                         NaN   \n",
       "2               3026.0                  34.063179                 -118.245880   \n",
       "\n",
       "   Ending Station ID  Ending Station Latitude  Ending Station Longitude  ...  \\\n",
       "0             3000.0                      NaN                       NaN  ...   \n",
       "1             3000.0                      NaN                       NaN  ...   \n",
       "2             3000.0                      NaN                       NaN  ...   \n",
       "\n",
       "   Trip Route Category  Passholder Type Starting Lat-Long Ending Lat-Long  \\\n",
       "0              One Way          Walk-up               NaN             NaN   \n",
       "1              One Way     Monthly Pass               NaN             NaN   \n",
       "2              One Way          Walk-up               NaN             NaN   \n",
       "\n",
       "  Neighborhood Councils (Certified) Council Districts  Zip Codes  \\\n",
       "0                               NaN               NaN        NaN   \n",
       "1                               NaN               NaN        NaN   \n",
       "2                               NaN               NaN        NaN   \n",
       "\n",
       "   LA Specific Plans  Precinct Boundaries  Census Tracts  \n",
       "0                NaN                  NaN            NaN  \n",
       "1                NaN                  NaN            NaN  \n",
       "2                NaN                  NaN            NaN  \n",
       "\n",
       "[3 rows x 22 columns]"
      ]
     },
     "execution_count": 24,
     "metadata": {},
     "output_type": "execute_result"
    }
   ],
   "source": [
    "df_bike.head(3)"
   ]
  },
  {
   "cell_type": "markdown",
   "id": "a1125e6c-c6bf-4aa3-adcb-7cc0de8fa455",
   "metadata": {},
   "source": [
    "Take a look at what data type is in _Start Time_ and _End Time_."
   ]
  },
  {
   "cell_type": "code",
   "execution_count": 25,
   "id": "19e609aa-5740-4fc7-9d8c-2f6a8884ee1b",
   "metadata": {},
   "outputs": [
    {
     "data": {
      "text/plain": [
       "str"
      ]
     },
     "execution_count": 25,
     "metadata": {},
     "output_type": "execute_result"
    }
   ],
   "source": [
    "type(df_bike['Start Time'][0])"
   ]
  },
  {
   "cell_type": "markdown",
   "id": "a82fb80b-139c-46a8-944a-8ad36044bf03",
   "metadata": {},
   "source": [
    "They are strings, Python won't understand it, therefore they must be converted it to ```datetime``` object before any futher analysis."
   ]
  },
  {
   "cell_type": "markdown",
   "id": "999fbd17-5a19-41aa-ad79-5590cefc51fa",
   "metadata": {},
   "source": [
    "# <font face=\"gotham\" color=\"purple\"> Parsing String As Datetime Object </font>"
   ]
  },
  {
   "cell_type": "markdown",
   "id": "35815ffd-dc82-4970-8a63-1291d08cbda8",
   "metadata": {},
   "source": [
    "By _converting_, we actually mean _parsing_. First we define a format variable that matches exactly the strings' format in the dataframe.\n",
    "\n",
    "And try an example by picking the first element of _Start Time_."
   ]
  },
  {
   "cell_type": "code",
   "execution_count": 26,
   "id": "0ad4fabb-8db1-4150-8e4b-51445d3aaa5c",
   "metadata": {},
   "outputs": [],
   "source": [
    "fmt = '%Y-%m-%dT%H:%M:%S.%f'\n",
    "s = df_bike['Start Time'][0]"
   ]
  },
  {
   "cell_type": "markdown",
   "id": "580d1581-6da6-41b2-8cbb-6cec91148276",
   "metadata": {},
   "source": [
    "Parse it into ```datetime``` object."
   ]
  },
  {
   "cell_type": "code",
   "execution_count": 27,
   "id": "eea65eb6-6f90-48a2-9322-79b2f64cab96",
   "metadata": {},
   "outputs": [
    {
     "data": {
      "text/plain": [
       "datetime.datetime(2017, 1, 19, 17, 5)"
      ]
     },
     "execution_count": 27,
     "metadata": {},
     "output_type": "execute_result"
    }
   ],
   "source": [
    "d = dt.datetime.strptime(s, fmt); d"
   ]
  },
  {
   "cell_type": "markdown",
   "id": "6eefb660-1b00-4c77-9621-290602374365",
   "metadata": {},
   "source": [
    "As you can see,  we have parsed the string into a ```datetime``` object, however to parse the whole column, the easier way would be applying ```lambda``` function onto the whole column of strings."
   ]
  },
  {
   "cell_type": "code",
   "execution_count": 28,
   "id": "d257be95-de5c-4588-ad66-c57689fa8b91",
   "metadata": {},
   "outputs": [],
   "source": [
    "df_bike['StartTime_Parsed'] = df_bike['Start Time'].apply(lambda x: dt.datetime.strptime(x, fmt))\n",
    "df_bike['EndTime_Parsed'] = df_bike['End Time'].apply(lambda x: dt.datetime.strptime(x, fmt))"
   ]
  },
  {
   "cell_type": "markdown",
   "id": "1fe8c434-b20c-4bbb-9793-ea18d09d1da7",
   "metadata": {},
   "source": [
    "The newly added columns are at the rightmost."
   ]
  },
  {
   "cell_type": "code",
   "execution_count": 29,
   "id": "2e58e41a-f0c6-4bf9-8549-a39f3e6cc5e4",
   "metadata": {},
   "outputs": [
    {
     "data": {
      "text/html": [
       "<div>\n",
       "<style scoped>\n",
       "    .dataframe tbody tr th:only-of-type {\n",
       "        vertical-align: middle;\n",
       "    }\n",
       "\n",
       "    .dataframe tbody tr th {\n",
       "        vertical-align: top;\n",
       "    }\n",
       "\n",
       "    .dataframe thead th {\n",
       "        text-align: right;\n",
       "    }\n",
       "</style>\n",
       "<table border=\"1\" class=\"dataframe\">\n",
       "  <thead>\n",
       "    <tr style=\"text-align: right;\">\n",
       "      <th></th>\n",
       "      <th>Trip ID</th>\n",
       "      <th>Duration</th>\n",
       "      <th>Start Time</th>\n",
       "      <th>End Time</th>\n",
       "      <th>Starting Station ID</th>\n",
       "      <th>Starting Station Latitude</th>\n",
       "      <th>Starting Station Longitude</th>\n",
       "      <th>Ending Station ID</th>\n",
       "      <th>Ending Station Latitude</th>\n",
       "      <th>Ending Station Longitude</th>\n",
       "      <th>...</th>\n",
       "      <th>Starting Lat-Long</th>\n",
       "      <th>Ending Lat-Long</th>\n",
       "      <th>Neighborhood Councils (Certified)</th>\n",
       "      <th>Council Districts</th>\n",
       "      <th>Zip Codes</th>\n",
       "      <th>LA Specific Plans</th>\n",
       "      <th>Precinct Boundaries</th>\n",
       "      <th>Census Tracts</th>\n",
       "      <th>StartTime_Parsed</th>\n",
       "      <th>EndTime_Parsed</th>\n",
       "    </tr>\n",
       "  </thead>\n",
       "  <tbody>\n",
       "    <tr>\n",
       "      <th>0</th>\n",
       "      <td>18222186</td>\n",
       "      <td>15060</td>\n",
       "      <td>2017-01-19T17:05:00.000</td>\n",
       "      <td>2017-01-19T21:16:00.000</td>\n",
       "      <td>3031.0</td>\n",
       "      <td>34.044701</td>\n",
       "      <td>-118.252441</td>\n",
       "      <td>3000.0</td>\n",
       "      <td>NaN</td>\n",
       "      <td>NaN</td>\n",
       "      <td>...</td>\n",
       "      <td>NaN</td>\n",
       "      <td>NaN</td>\n",
       "      <td>NaN</td>\n",
       "      <td>NaN</td>\n",
       "      <td>NaN</td>\n",
       "      <td>NaN</td>\n",
       "      <td>NaN</td>\n",
       "      <td>NaN</td>\n",
       "      <td>2017-01-19 17:05:00</td>\n",
       "      <td>2017-01-19 21:16:00</td>\n",
       "    </tr>\n",
       "    <tr>\n",
       "      <th>1</th>\n",
       "      <td>9518671</td>\n",
       "      <td>77160</td>\n",
       "      <td>2016-10-09T14:37:00.000</td>\n",
       "      <td>2016-10-10T12:03:00.000</td>\n",
       "      <td>NaN</td>\n",
       "      <td>NaN</td>\n",
       "      <td>NaN</td>\n",
       "      <td>3000.0</td>\n",
       "      <td>NaN</td>\n",
       "      <td>NaN</td>\n",
       "      <td>...</td>\n",
       "      <td>NaN</td>\n",
       "      <td>NaN</td>\n",
       "      <td>NaN</td>\n",
       "      <td>NaN</td>\n",
       "      <td>NaN</td>\n",
       "      <td>NaN</td>\n",
       "      <td>NaN</td>\n",
       "      <td>NaN</td>\n",
       "      <td>2016-10-09 14:37:00</td>\n",
       "      <td>2016-10-10 12:03:00</td>\n",
       "    </tr>\n",
       "    <tr>\n",
       "      <th>2</th>\n",
       "      <td>20444932</td>\n",
       "      <td>86400</td>\n",
       "      <td>2017-02-18T10:15:00.000</td>\n",
       "      <td>2017-02-20T15:20:00.000</td>\n",
       "      <td>3026.0</td>\n",
       "      <td>34.063179</td>\n",
       "      <td>-118.245880</td>\n",
       "      <td>3000.0</td>\n",
       "      <td>NaN</td>\n",
       "      <td>NaN</td>\n",
       "      <td>...</td>\n",
       "      <td>NaN</td>\n",
       "      <td>NaN</td>\n",
       "      <td>NaN</td>\n",
       "      <td>NaN</td>\n",
       "      <td>NaN</td>\n",
       "      <td>NaN</td>\n",
       "      <td>NaN</td>\n",
       "      <td>NaN</td>\n",
       "      <td>2017-02-18 10:15:00</td>\n",
       "      <td>2017-02-20 15:20:00</td>\n",
       "    </tr>\n",
       "  </tbody>\n",
       "</table>\n",
       "<p>3 rows × 24 columns</p>\n",
       "</div>"
      ],
      "text/plain": [
       "    Trip ID  Duration               Start Time                 End Time  \\\n",
       "0  18222186     15060  2017-01-19T17:05:00.000  2017-01-19T21:16:00.000   \n",
       "1   9518671     77160  2016-10-09T14:37:00.000  2016-10-10T12:03:00.000   \n",
       "2  20444932     86400  2017-02-18T10:15:00.000  2017-02-20T15:20:00.000   \n",
       "\n",
       "   Starting Station ID  Starting Station Latitude  Starting Station Longitude  \\\n",
       "0               3031.0                  34.044701                 -118.252441   \n",
       "1                  NaN                        NaN                         NaN   \n",
       "2               3026.0                  34.063179                 -118.245880   \n",
       "\n",
       "   Ending Station ID  Ending Station Latitude  Ending Station Longitude  ...  \\\n",
       "0             3000.0                      NaN                       NaN  ...   \n",
       "1             3000.0                      NaN                       NaN  ...   \n",
       "2             3000.0                      NaN                       NaN  ...   \n",
       "\n",
       "   Starting Lat-Long  Ending Lat-Long Neighborhood Councils (Certified)  \\\n",
       "0                NaN              NaN                               NaN   \n",
       "1                NaN              NaN                               NaN   \n",
       "2                NaN              NaN                               NaN   \n",
       "\n",
       "  Council Districts Zip Codes LA Specific Plans  Precinct Boundaries  \\\n",
       "0               NaN       NaN               NaN                  NaN   \n",
       "1               NaN       NaN               NaN                  NaN   \n",
       "2               NaN       NaN               NaN                  NaN   \n",
       "\n",
       "   Census Tracts    StartTime_Parsed      EndTime_Parsed  \n",
       "0            NaN 2017-01-19 17:05:00 2017-01-19 21:16:00  \n",
       "1            NaN 2016-10-09 14:37:00 2016-10-10 12:03:00  \n",
       "2            NaN 2017-02-18 10:15:00 2017-02-20 15:20:00  \n",
       "\n",
       "[3 rows x 24 columns]"
      ]
     },
     "execution_count": 29,
     "metadata": {},
     "output_type": "execute_result"
    }
   ],
   "source": [
    "df_bike.head(3)"
   ]
  },
  {
   "cell_type": "markdown",
   "id": "bae170d2-bf4f-450d-a38f-c81b2c7a0c15",
   "metadata": {},
   "source": [
    "Duration can be conveniently computed by subtraction."
   ]
  },
  {
   "cell_type": "code",
   "execution_count": 30,
   "id": "68a74353-9121-42a1-ab0d-42c6e4c6f48b",
   "metadata": {},
   "outputs": [
    {
     "data": {
      "text/html": [
       "<div>\n",
       "<style scoped>\n",
       "    .dataframe tbody tr th:only-of-type {\n",
       "        vertical-align: middle;\n",
       "    }\n",
       "\n",
       "    .dataframe tbody tr th {\n",
       "        vertical-align: top;\n",
       "    }\n",
       "\n",
       "    .dataframe thead th {\n",
       "        text-align: right;\n",
       "    }\n",
       "</style>\n",
       "<table border=\"1\" class=\"dataframe\">\n",
       "  <thead>\n",
       "    <tr style=\"text-align: right;\">\n",
       "      <th></th>\n",
       "      <th>Trip ID</th>\n",
       "      <th>Duration</th>\n",
       "      <th>Start Time</th>\n",
       "      <th>End Time</th>\n",
       "      <th>Starting Station ID</th>\n",
       "      <th>Starting Station Latitude</th>\n",
       "      <th>Starting Station Longitude</th>\n",
       "      <th>Ending Station ID</th>\n",
       "      <th>Ending Station Latitude</th>\n",
       "      <th>Ending Station Longitude</th>\n",
       "      <th>...</th>\n",
       "      <th>Ending Lat-Long</th>\n",
       "      <th>Neighborhood Councils (Certified)</th>\n",
       "      <th>Council Districts</th>\n",
       "      <th>Zip Codes</th>\n",
       "      <th>LA Specific Plans</th>\n",
       "      <th>Precinct Boundaries</th>\n",
       "      <th>Census Tracts</th>\n",
       "      <th>StartTime_Parsed</th>\n",
       "      <th>EndTime_Parsed</th>\n",
       "      <th>duration</th>\n",
       "    </tr>\n",
       "  </thead>\n",
       "  <tbody>\n",
       "    <tr>\n",
       "      <th>0</th>\n",
       "      <td>18222186</td>\n",
       "      <td>15060</td>\n",
       "      <td>2017-01-19T17:05:00.000</td>\n",
       "      <td>2017-01-19T21:16:00.000</td>\n",
       "      <td>3031.0</td>\n",
       "      <td>34.044701</td>\n",
       "      <td>-118.252441</td>\n",
       "      <td>3000.0</td>\n",
       "      <td>NaN</td>\n",
       "      <td>NaN</td>\n",
       "      <td>...</td>\n",
       "      <td>NaN</td>\n",
       "      <td>NaN</td>\n",
       "      <td>NaN</td>\n",
       "      <td>NaN</td>\n",
       "      <td>NaN</td>\n",
       "      <td>NaN</td>\n",
       "      <td>NaN</td>\n",
       "      <td>2017-01-19 17:05:00</td>\n",
       "      <td>2017-01-19 21:16:00</td>\n",
       "      <td>0 days 04:11:00</td>\n",
       "    </tr>\n",
       "    <tr>\n",
       "      <th>1</th>\n",
       "      <td>9518671</td>\n",
       "      <td>77160</td>\n",
       "      <td>2016-10-09T14:37:00.000</td>\n",
       "      <td>2016-10-10T12:03:00.000</td>\n",
       "      <td>NaN</td>\n",
       "      <td>NaN</td>\n",
       "      <td>NaN</td>\n",
       "      <td>3000.0</td>\n",
       "      <td>NaN</td>\n",
       "      <td>NaN</td>\n",
       "      <td>...</td>\n",
       "      <td>NaN</td>\n",
       "      <td>NaN</td>\n",
       "      <td>NaN</td>\n",
       "      <td>NaN</td>\n",
       "      <td>NaN</td>\n",
       "      <td>NaN</td>\n",
       "      <td>NaN</td>\n",
       "      <td>2016-10-09 14:37:00</td>\n",
       "      <td>2016-10-10 12:03:00</td>\n",
       "      <td>0 days 21:26:00</td>\n",
       "    </tr>\n",
       "    <tr>\n",
       "      <th>2</th>\n",
       "      <td>20444932</td>\n",
       "      <td>86400</td>\n",
       "      <td>2017-02-18T10:15:00.000</td>\n",
       "      <td>2017-02-20T15:20:00.000</td>\n",
       "      <td>3026.0</td>\n",
       "      <td>34.063179</td>\n",
       "      <td>-118.245880</td>\n",
       "      <td>3000.0</td>\n",
       "      <td>NaN</td>\n",
       "      <td>NaN</td>\n",
       "      <td>...</td>\n",
       "      <td>NaN</td>\n",
       "      <td>NaN</td>\n",
       "      <td>NaN</td>\n",
       "      <td>NaN</td>\n",
       "      <td>NaN</td>\n",
       "      <td>NaN</td>\n",
       "      <td>NaN</td>\n",
       "      <td>2017-02-18 10:15:00</td>\n",
       "      <td>2017-02-20 15:20:00</td>\n",
       "      <td>2 days 05:05:00</td>\n",
       "    </tr>\n",
       "    <tr>\n",
       "      <th>3</th>\n",
       "      <td>20905031</td>\n",
       "      <td>18840</td>\n",
       "      <td>2017-02-27T12:26:00.000</td>\n",
       "      <td>2017-02-27T17:40:00.000</td>\n",
       "      <td>3023.0</td>\n",
       "      <td>34.050911</td>\n",
       "      <td>-118.240967</td>\n",
       "      <td>3000.0</td>\n",
       "      <td>NaN</td>\n",
       "      <td>NaN</td>\n",
       "      <td>...</td>\n",
       "      <td>NaN</td>\n",
       "      <td>NaN</td>\n",
       "      <td>NaN</td>\n",
       "      <td>NaN</td>\n",
       "      <td>NaN</td>\n",
       "      <td>NaN</td>\n",
       "      <td>NaN</td>\n",
       "      <td>2017-02-27 12:26:00</td>\n",
       "      <td>2017-02-27 17:40:00</td>\n",
       "      <td>0 days 05:14:00</td>\n",
       "    </tr>\n",
       "    <tr>\n",
       "      <th>4</th>\n",
       "      <td>21031476</td>\n",
       "      <td>86400</td>\n",
       "      <td>2017-02-27T20:26:00.000</td>\n",
       "      <td>2017-03-01T09:49:00.000</td>\n",
       "      <td>3008.0</td>\n",
       "      <td>34.046612</td>\n",
       "      <td>-118.262733</td>\n",
       "      <td>3000.0</td>\n",
       "      <td>NaN</td>\n",
       "      <td>NaN</td>\n",
       "      <td>...</td>\n",
       "      <td>NaN</td>\n",
       "      <td>NaN</td>\n",
       "      <td>NaN</td>\n",
       "      <td>NaN</td>\n",
       "      <td>NaN</td>\n",
       "      <td>NaN</td>\n",
       "      <td>NaN</td>\n",
       "      <td>2017-02-27 20:26:00</td>\n",
       "      <td>2017-03-01 09:49:00</td>\n",
       "      <td>1 days 13:23:00</td>\n",
       "    </tr>\n",
       "  </tbody>\n",
       "</table>\n",
       "<p>5 rows × 25 columns</p>\n",
       "</div>"
      ],
      "text/plain": [
       "    Trip ID  Duration               Start Time                 End Time  \\\n",
       "0  18222186     15060  2017-01-19T17:05:00.000  2017-01-19T21:16:00.000   \n",
       "1   9518671     77160  2016-10-09T14:37:00.000  2016-10-10T12:03:00.000   \n",
       "2  20444932     86400  2017-02-18T10:15:00.000  2017-02-20T15:20:00.000   \n",
       "3  20905031     18840  2017-02-27T12:26:00.000  2017-02-27T17:40:00.000   \n",
       "4  21031476     86400  2017-02-27T20:26:00.000  2017-03-01T09:49:00.000   \n",
       "\n",
       "   Starting Station ID  Starting Station Latitude  Starting Station Longitude  \\\n",
       "0               3031.0                  34.044701                 -118.252441   \n",
       "1                  NaN                        NaN                         NaN   \n",
       "2               3026.0                  34.063179                 -118.245880   \n",
       "3               3023.0                  34.050911                 -118.240967   \n",
       "4               3008.0                  34.046612                 -118.262733   \n",
       "\n",
       "   Ending Station ID  Ending Station Latitude  Ending Station Longitude  ...  \\\n",
       "0             3000.0                      NaN                       NaN  ...   \n",
       "1             3000.0                      NaN                       NaN  ...   \n",
       "2             3000.0                      NaN                       NaN  ...   \n",
       "3             3000.0                      NaN                       NaN  ...   \n",
       "4             3000.0                      NaN                       NaN  ...   \n",
       "\n",
       "   Ending Lat-Long  Neighborhood Councils (Certified) Council Districts  \\\n",
       "0              NaN                                NaN               NaN   \n",
       "1              NaN                                NaN               NaN   \n",
       "2              NaN                                NaN               NaN   \n",
       "3              NaN                                NaN               NaN   \n",
       "4              NaN                                NaN               NaN   \n",
       "\n",
       "  Zip Codes LA Specific Plans Precinct Boundaries  Census Tracts  \\\n",
       "0       NaN               NaN                 NaN            NaN   \n",
       "1       NaN               NaN                 NaN            NaN   \n",
       "2       NaN               NaN                 NaN            NaN   \n",
       "3       NaN               NaN                 NaN            NaN   \n",
       "4       NaN               NaN                 NaN            NaN   \n",
       "\n",
       "     StartTime_Parsed      EndTime_Parsed        duration  \n",
       "0 2017-01-19 17:05:00 2017-01-19 21:16:00 0 days 04:11:00  \n",
       "1 2016-10-09 14:37:00 2016-10-10 12:03:00 0 days 21:26:00  \n",
       "2 2017-02-18 10:15:00 2017-02-20 15:20:00 2 days 05:05:00  \n",
       "3 2017-02-27 12:26:00 2017-02-27 17:40:00 0 days 05:14:00  \n",
       "4 2017-02-27 20:26:00 2017-03-01 09:49:00 1 days 13:23:00  \n",
       "\n",
       "[5 rows x 25 columns]"
      ]
     },
     "execution_count": 30,
     "metadata": {},
     "output_type": "execute_result"
    }
   ],
   "source": [
    "df_bike['duration'] = df_bike['EndTime_Parsed'] - df_bike['StartTime_Parsed']\n",
    "df_bike.head()"
   ]
  },
  {
   "cell_type": "code",
   "execution_count": 31,
   "id": "85c3c94d-a21e-4387-84fd-51945d4b807e",
   "metadata": {},
   "outputs": [
    {
     "name": "stdout",
     "output_type": "stream",
     "text": [
      "Mininum duration: 0 days 00:01:00\n",
      "Maximum duration: 5 days 16:28:00\n"
     ]
    }
   ],
   "source": [
    "print('Minimum duration: '+ str(min(df_bike['duration'])))\n",
    "print('Maximum duration: '+ str(max(df_bike['duration'])))"
   ]
  },
  {
   "cell_type": "markdown",
   "id": "c4550ac3-6889-4fe4-9c9f-041817e23a16",
   "metadata": {},
   "source": [
    "To show total seconds of duration."
   ]
  },
  {
   "cell_type": "code",
   "execution_count": 32,
   "id": "3f2b572c-b933-4839-879c-399c993f3fd5",
   "metadata": {},
   "outputs": [
    {
     "data": {
      "text/plain": [
       "0          15060.0\n",
       "1          77160.0\n",
       "2         191100.0\n",
       "3          18840.0\n",
       "4         134580.0\n",
       "            ...   \n",
       "132422      2520.0\n",
       "132423      1080.0\n",
       "132424      1500.0\n",
       "132425       780.0\n",
       "132426       300.0\n",
       "Name: duration, Length: 132427, dtype: float64"
      ]
     },
     "execution_count": 32,
     "metadata": {},
     "output_type": "execute_result"
    }
   ],
   "source": [
    "df_bike['duration'].dt.total_seconds()"
   ]
  },
  {
   "cell_type": "markdown",
   "id": "a2eb0c57-0e77-432c-8ee9-65ae4d0b9755",
   "metadata": {},
   "source": [
    "Compute the mean duration."
   ]
  },
  {
   "cell_type": "code",
   "execution_count": 33,
   "id": "f5226d80-c573-45e3-9c39-f73d349696ed",
   "metadata": {},
   "outputs": [
    {
     "data": {
      "text/plain": [
       "Timedelta('0 days 00:28:13.423848610')"
      ]
     },
     "execution_count": 33,
     "metadata": {},
     "output_type": "execute_result"
    }
   ],
   "source": [
    "df_bike['duration'].mean()"
   ]
  },
  {
   "cell_type": "markdown",
   "id": "9a452e06-f97d-4f4a-850f-9946890aef3e",
   "metadata": {},
   "source": [
    "# <font face=\"gotham\" color=\"purple\"> Unix Timestamp</font>"
   ]
  },
  {
   "cell_type": "markdown",
   "id": "2577407a-74e5-4040-8f4f-231c6d79a90e",
   "metadata": {},
   "source": [
    "The Unix timestamp is the number of seconds elapsed since January 1st, 1970 at UTC, which is supposedly the day of first modern computer invented.\n",
    "\n",
    "Take a look the example below, you will grasp the meaning of Unix timestamp."
   ]
  },
  {
   "cell_type": "code",
   "execution_count": 34,
   "id": "4803019c-f718-44af-9a60-aee7878bfe79",
   "metadata": {},
   "outputs": [
    {
     "name": "stdout",
     "output_type": "stream",
     "text": [
      "1970-01-01 01:00:00\n",
      "1970-01-01 01:00:01\n",
      "1970-01-01 01:00:02\n",
      "1970-02-04 18:20:00\n",
      "1973-03-03 10:46:40\n",
      "2020-09-13 13:26:40\n",
      "2035-09-17 17:12:36\n"
     ]
    }
   ],
   "source": [
    "timestamps = [0, 1, 2, 3000000, 100000000, 1600000000, 2073658356]\n",
    "\n",
    "for ts in timestamps:\n",
    "    print(dt.datetime.fromtimestamp(ts))"
   ]
  },
  {
   "cell_type": "markdown",
   "id": "92f6f6d0-845f-4356-9e9c-50d072c2474d",
   "metadata": {},
   "source": [
    "# <font face=\"gotham\" color=\"purple\"> Time Zone And UTC Offset</font>"
   ]
  },
  {
   "cell_type": "markdown",
   "id": "bea6467d-43af-4bde-bb71-9ff85cfce114",
   "metadata": {},
   "source": [
    "UTC stands for _`Coordinated Universal Time`_, which is the reference time zone to regulate the world's clock. UK winter time is UTC+0, any time different from it is called _UTC offset_, for instance the UTC offset of Poland in winter is UTC+1, it means Poland is one hour ahead than UK in the winter.\n",
    "\n",
    "You can specify the time zone info for the ```datetime``` object, here we use UTC."
   ]
  },
  {
   "cell_type": "code",
   "execution_count": 35,
   "id": "553d6cc7-35bc-4598-9f7e-db00302a57d4",
   "metadata": {},
   "outputs": [],
   "source": [
    "national_day_event_UK_2022 = dt.datetime(2022, 4, 23, 11, 14, 15, tzinfo=dt.timezone.utc)"
   ]
  },
  {
   "cell_type": "markdown",
   "id": "a6a6affa-09ee-4a5a-b6b3-9247c084c2c9",
   "metadata": {},
   "source": [
    "So UTC offset is naturally $+00:00$."
   ]
  },
  {
   "cell_type": "code",
   "execution_count": 36,
   "id": "d51df3de-68e4-46b4-8d5d-d681d580e7e2",
   "metadata": {},
   "outputs": [
    {
     "data": {
      "text/plain": [
       "'2022-04-23T11:14:15+00:00'"
      ]
     },
     "execution_count": 36,
     "metadata": {},
     "output_type": "execute_result"
    }
   ],
   "source": [
    "national_day_event_UK_2022.isoformat()"
   ]
  },
  {
   "cell_type": "markdown",
   "id": "c1cc2efd-84d7-4ba9-af5a-346af3062999",
   "metadata": {},
   "source": [
    "Create a timezone for Eastern European Time, UTC+2, which is the winter time in Helsinki/Tallinn. The method is to create a ```timedelta```, then use it as the UTC offset, ```tzinfo=eet```."
   ]
  },
  {
   "cell_type": "code",
   "execution_count": 37,
   "id": "edbdfd1e-d7de-4c0c-9e30-3dfbebdc5e6a",
   "metadata": {},
   "outputs": [],
   "source": [
    "eet = dt.timezone(dt.timedelta(hours=2))"
   ]
  },
  {
   "cell_type": "code",
   "execution_count": 38,
   "id": "d0d3b44e-fc0b-4b03-8434-430c8e18fe07",
   "metadata": {},
   "outputs": [
    {
     "data": {
      "text/plain": [
       "'2022-04-23T18:14:15+02:00'"
      ]
     },
     "execution_count": 38,
     "metadata": {},
     "output_type": "execute_result"
    }
   ],
   "source": [
    "national_day_event_UK_2022 = dt.datetime(2022, 4, 23, 18, 14, 15, tzinfo=eet)\n",
    "national_day_event_UK_2022.isoformat()"
   ]
  },
  {
   "cell_type": "markdown",
   "id": "793f418d-28d7-4fa9-aa8d-8027da28bc4e",
   "metadata": {},
   "source": [
    "If you think the time zone or UTC offset was a mistake, then ```replace``` it with a new one. Here I just print it out, rather than assign to a new datetime object."
   ]
  },
  {
   "cell_type": "code",
   "execution_count": 39,
   "id": "98ce15e9-d36f-4215-8c56-0669248842cf",
   "metadata": {},
   "outputs": [
    {
     "name": "stdout",
     "output_type": "stream",
     "text": [
      "2022-04-23 18:14:15+08:00\n"
     ]
    }
   ],
   "source": [
    "beijing_time = dt.timezone(dt.timedelta(hours=8))\n",
    "print(national_day_event_UK_2022.replace(tzinfo=beijing_time))"
   ]
  },
  {
   "cell_type": "markdown",
   "id": "41cc12db-31fc-4d9b-bbf0-2a947fa4127a",
   "metadata": {},
   "source": [
    "Display local time in new time zone."
   ]
  },
  {
   "cell_type": "code",
   "execution_count": 40,
   "id": "c4159d0a-795a-4b85-8e87-fee4e4f1fd49",
   "metadata": {},
   "outputs": [
    {
     "data": {
      "text/plain": [
       "'2022-04-23T16:14:15+00:00'"
      ]
     },
     "execution_count": 40,
     "metadata": {},
     "output_type": "execute_result"
    }
   ],
   "source": [
    "national_day_event_UK_2022.astimezone(dt.timezone.utc).isoformat()"
   ]
  },
  {
   "cell_type": "markdown",
   "id": "0c7fb1c6-2e03-4a78-9404-ca7373d30751",
   "metadata": {},
   "source": [
    "# <font face=\"gotham\" color=\"purple\"> IANA Timezone</font>"
   ]
  },
  {
   "cell_type": "markdown",
   "id": "117e62e8-76ed-4dfc-831f-fabf323a2bde",
   "metadata": {},
   "source": [
    "If you know location, e.g. city name, you can call <a href='https://en.wikipedia.org/wiki/List_of_tz_database_time_zones'>IANA timezone</a> time directly, such as ```Europe/Paris``` or ```Asia/Chungking```.\n",
    "\n",
    "We will use ```dateutil``` library, which has been imported at the top of this file."
   ]
  },
  {
   "cell_type": "code",
   "execution_count": 41,
   "id": "e77fc729-879d-4863-8b70-2eb7d9206938",
   "metadata": {},
   "outputs": [],
   "source": [
    "ck_time = du.tz.gettz('Asia/Chungking')"
   ]
  },
  {
   "cell_type": "code",
   "execution_count": 42,
   "id": "2e76a7de-9610-4f9f-9032-9e56309e65eb",
   "metadata": {},
   "outputs": [
    {
     "data": {
      "text/plain": [
       "'2022-04-24T00:14:15+08:00'"
      ]
     },
     "execution_count": 42,
     "metadata": {},
     "output_type": "execute_result"
    }
   ],
   "source": [
    "national_day_event_UK_2022.astimezone(ck_time).isoformat()"
   ]
  },
  {
   "cell_type": "code",
   "execution_count": 43,
   "id": "e08ccf09-85f9-45e9-a45e-a22bdce8d143",
   "metadata": {},
   "outputs": [
    {
     "data": {
      "text/plain": [
       "'2022-04-23T12:14:15-04:00'"
      ]
     },
     "execution_count": 43,
     "metadata": {},
     "output_type": "execute_result"
    }
   ],
   "source": [
    "ny_time = du.tz.gettz('America/New_York')\n",
    "national_day_event_UK_2022.astimezone(ny_time).isoformat()"
   ]
  },
  {
   "cell_type": "markdown",
   "id": "593c07a2-c7be-431b-a37b-967520dab696",
   "metadata": {},
   "source": [
    "# <font face=\"gotham\" color=\"purple\"> Winter Time Change </font>"
   ]
  },
  {
   "cell_type": "markdown",
   "id": "5231e408-1755-4150-9b7c-d1b079fc5ca6",
   "metadata": {},
   "source": [
    "Time change is a common practice in European Union. For instance, Poland changes to winter time at 3:00AM, 31th Oct 2021, which means the clock rewinds back to 2:00AM at 3:00AM. We will take a look at time offset before and after the change."
   ]
  },
  {
   "cell_type": "code",
   "execution_count": 44,
   "id": "73d856b9-8743-4e8f-8d42-b9ceedeb88ed",
   "metadata": {},
   "outputs": [
    {
     "name": "stdout",
     "output_type": "stream",
     "text": [
      "2021-10-31T01:00:00+02:00 to 2021-10-31T07:00:00+01:00\n"
     ]
    }
   ],
   "source": [
    "before = dt.datetime(2021, 10, 31, 1, 0, 0, tzinfo=du.tz.gettz('Europe/Warsaw'))\n",
    "after = before + dt.timedelta(hours=6)\n",
    "print(before.isoformat() + \" to \" + after.isoformat())"
   ]
  },
  {
   "cell_type": "markdown",
   "id": "ce490a86-0a8c-4c44-97e1-2568fe9476b4",
   "metadata": {},
   "source": [
    "As you can see the UTC offset changed from ```+02:00``` to ```+01:00``` if we add $6$ hours across the time change hour, however the time change doesn't seem to reflect in the hours addition? Elapsing $6$ hours from ```T01:00:00``` should be at ```T06:00:00``` due to one hour shift backward."
   ]
  },
  {
   "cell_type": "markdown",
   "id": "7a430c02-14eb-4bc1-a719-616c81710bf8",
   "metadata": {},
   "source": [
    "We can verify how many hours that Python assumes elapsed."
   ]
  },
  {
   "cell_type": "code",
   "execution_count": 45,
   "id": "0191406d-8163-4531-bc5b-0c46893e62b6",
   "metadata": {},
   "outputs": [
    {
     "data": {
      "text/plain": [
       "6.0"
      ]
     },
     "execution_count": 45,
     "metadata": {},
     "output_type": "execute_result"
    }
   ],
   "source": [
    "(after - before).seconds/(60**2)"
   ]
  },
  {
   "cell_type": "markdown",
   "id": "30c43ce0-b2b2-42d1-810f-7840fec40436",
   "metadata": {},
   "source": [
    "If we use UTC as a reference time zone."
   ]
  },
  {
   "cell_type": "code",
   "execution_count": 46,
   "id": "cf7d22df-f4c5-4d06-bf94-a7288f950762",
   "metadata": {},
   "outputs": [
    {
     "data": {
      "text/plain": [
       "7.0"
      ]
     },
     "execution_count": 46,
     "metadata": {},
     "output_type": "execute_result"
    }
   ],
   "source": [
    "utc_delta = after.astimezone(dt.timezone.utc) - before.astimezone(dt.timezone.utc) \n",
    "utc_delta.seconds/(60**2)"
   ]
  },
  {
   "cell_type": "code",
   "execution_count": 47,
   "id": "2361d90f-0689-43d2-bf42-9106e13a86b0",
   "metadata": {},
   "outputs": [
    {
     "data": {
      "text/plain": [
       "datetime.datetime(2021, 10, 31, 6, 0, tzinfo=datetime.timezone.utc)"
      ]
     },
     "execution_count": 47,
     "metadata": {},
     "output_type": "execute_result"
    }
   ],
   "source": [
    "after.astimezone(dt.timezone.utc)"
   ]
  },
  {
   "cell_type": "code",
   "execution_count": 48,
   "id": "479315b6-f739-4445-a670-1776a8ee5aa5",
   "metadata": {},
   "outputs": [
    {
     "data": {
      "text/plain": [
       "datetime.datetime(2021, 10, 30, 23, 0, tzinfo=datetime.timezone.utc)"
      ]
     },
     "execution_count": 48,
     "metadata": {},
     "output_type": "execute_result"
    }
   ],
   "source": [
    "before.astimezone(dt.timezone.utc) "
   ]
  },
  {
   "cell_type": "markdown",
   "id": "cb44112d-e4da-4f38-beee-211db56cfb9c",
   "metadata": {},
   "source": [
    "Now use a loop to show if Oct 31 is an ambiguous date."
   ]
  },
  {
   "cell_type": "code",
   "execution_count": 49,
   "id": "912a9665-683c-44cc-b20a-3ae4a7098ac0",
   "metadata": {},
   "outputs": [
    {
     "name": "stdout",
     "output_type": "stream",
     "text": [
      "2000-10-31T01:00:00+01:00\n",
      "2001-10-31T01:00:00+01:00\n",
      "2002-10-31T01:00:00+01:00\n",
      "2003-10-31T01:00:00+01:00\n",
      "2004-10-31T01:00:00+02:00\n",
      "2005-10-31T01:00:00+01:00\n",
      "2006-10-31T01:00:00+01:00\n",
      "2007-10-31T01:00:00+01:00\n",
      "2008-10-31T01:00:00+01:00\n",
      "2009-10-31T01:00:00+01:00\n",
      "2010-10-31T01:00:00+02:00\n",
      "2011-10-31T01:00:00+01:00\n",
      "2012-10-31T01:00:00+01:00\n",
      "2013-10-31T01:00:00+01:00\n",
      "2014-10-31T01:00:00+01:00\n",
      "2015-10-31T01:00:00+01:00\n",
      "2016-10-31T01:00:00+01:00\n",
      "2017-10-31T01:00:00+01:00\n",
      "2018-10-31T01:00:00+01:00\n",
      "2019-10-31T01:00:00+01:00\n",
      "2020-10-31T01:00:00+01:00\n",
      "2021-10-31T01:00:00+02:00\n",
      "2022-10-31T01:00:00+01:00\n",
      "2023-10-31T01:00:00+01:00\n",
      "2024-10-31T01:00:00+01:00\n",
      "2025-10-31T01:00:00+01:00\n",
      "2026-10-31T01:00:00+01:00\n",
      "2027-10-31T01:00:00+02:00\n",
      "2028-10-31T01:00:00+01:00\n",
      "2029-10-31T01:00:00+01:00\n",
      "2030-10-31T01:00:00+01:00\n",
      "2031-10-31T01:00:00+01:00\n",
      "2032-10-31T01:00:00+02:00\n",
      "2033-10-31T01:00:00+01:00\n",
      "2034-10-31T01:00:00+01:00\n",
      "2035-10-31T01:00:00+01:00\n",
      "2036-10-31T01:00:00+01:00\n",
      "2037-10-31T01:00:00+01:00\n",
      "2038-10-31T01:00:00+01:00\n",
      "2039-10-31T01:00:00+01:00\n",
      "2040-10-31T01:00:00+01:00\n",
      "2041-10-31T01:00:00+01:00\n",
      "2042-10-31T01:00:00+01:00\n",
      "2043-10-31T01:00:00+01:00\n",
      "2044-10-31T01:00:00+01:00\n",
      "2045-10-31T01:00:00+01:00\n",
      "2046-10-31T01:00:00+01:00\n",
      "2047-10-31T01:00:00+01:00\n",
      "2048-10-31T01:00:00+01:00\n",
      "2049-10-31T01:00:00+01:00\n"
     ]
    }
   ],
   "source": [
    "end_Oct = dt.datetime(2000, 10, 31, 1, 0, 0, tzinfo=du.tz.gettz('Europe/Warsaw'))\n",
    "for y in range(2000, 2050):\n",
    "    print(end_Oct.replace(year=y).isoformat())"
   ]
  },
  {
   "cell_type": "markdown",
   "id": "ae410bc7-2f15-4314-afe2-a224276001b7",
   "metadata": {},
   "source": [
    "# <font face=\"gotham\" color=\"purple\"> Ambiguous Datetime</font>"
   ]
  },
  {
   "cell_type": "markdown",
   "id": "f009b15f-80bf-41d3-9ebb-5563cb95dd7a",
   "metadata": {},
   "source": [
    "Ambiguous time happens when there is time change, at certain time can appear twice. ```du.tz.datetime_ambiguous()``` can test this."
   ]
  },
  {
   "cell_type": "code",
   "execution_count": 50,
   "id": "b262e956-43a4-4a51-a355-daa9f7a9110d",
   "metadata": {},
   "outputs": [
    {
     "data": {
      "text/plain": [
       "False"
      ]
     },
     "execution_count": 50,
     "metadata": {},
     "output_type": "execute_result"
    }
   ],
   "source": [
    "dt_1 = dt.datetime(2020, 10, 31, 2, 35, 10, tzinfo=du.tz.gettz('Europe/Warsaw'))\n",
    "du.tz.datetime_ambiguous(dt_1)"
   ]
  },
  {
   "cell_type": "markdown",
   "id": "280eda38-832d-498c-803b-a155de792f36",
   "metadata": {},
   "source": [
    "At 3AM, 31th Oct 2021, the clock will be dialed back one hour at 2AM in Poland. So any datetime object appears between 2AM and 3AM will appear twice, this is what we call ambiguous time."
   ]
  },
  {
   "cell_type": "code",
   "execution_count": 51,
   "id": "2640b4c8-7ee3-4799-8d27-f728ffd099a5",
   "metadata": {},
   "outputs": [
    {
     "data": {
      "text/plain": [
       "True"
      ]
     },
     "execution_count": 51,
     "metadata": {},
     "output_type": "execute_result"
    }
   ],
   "source": [
    "dt_2 = dt.datetime(2021, 10, 31, 2, 35, 10, tzinfo=du.tz.gettz('Europe/Warsaw'))\n",
    "du.tz.datetime_ambiguous(dt_2)"
   ]
  },
  {
   "cell_type": "markdown",
   "id": "a09c1ee9-bab1-4a36-8241-e19bc1ae1728",
   "metadata": {},
   "source": [
    "# <font face=\"gotham\" color=\"purple\"> Parsing Datetime With Pandas</font>"
   ]
  },
  {
   "cell_type": "markdown",
   "id": "77637e23-d1cb-47c7-a5f2-0f6240a25b89",
   "metadata": {},
   "source": [
    "Load data again and check the info summary.\n",
    "\n",
    "You can see the _Start Time_ and _End Time_ are strings (Dtype: object)."
   ]
  },
  {
   "cell_type": "code",
   "execution_count": 52,
   "id": "828ede85-c268-414c-a85c-0cf2b191cf94",
   "metadata": {},
   "outputs": [
    {
     "name": "stdout",
     "output_type": "stream",
     "text": [
      "<class 'pandas.core.frame.DataFrame'>\n",
      "RangeIndex: 132427 entries, 0 to 132426\n",
      "Data columns (total 22 columns):\n",
      " #   Column                             Non-Null Count   Dtype  \n",
      "---  ------                             --------------   -----  \n",
      " 0   Trip ID                            132427 non-null  int64  \n",
      " 1   Duration                           132427 non-null  int64  \n",
      " 2   Start Time                         132427 non-null  object \n",
      " 3   End Time                           132427 non-null  object \n",
      " 4   Starting Station ID                132408 non-null  float64\n",
      " 5   Starting Station Latitude          132379 non-null  float64\n",
      " 6   Starting Station Longitude         132379 non-null  float64\n",
      " 7   Ending Station ID                  132331 non-null  float64\n",
      " 8   Ending Station Latitude            131376 non-null  float64\n",
      " 9   Ending Station Longitude           131376 non-null  float64\n",
      " 10  Bike ID                            132417 non-null  float64\n",
      " 11  Plan Duration                      131661 non-null  float64\n",
      " 12  Trip Route Category                132427 non-null  object \n",
      " 13  Passholder Type                    132427 non-null  object \n",
      " 14  Starting Lat-Long                  98622 non-null   object \n",
      " 15  Ending Lat-Long                    131376 non-null  object \n",
      " 16  Neighborhood Councils (Certified)  98590 non-null   float64\n",
      " 17  Council Districts                  98590 non-null   float64\n",
      " 18  Zip Codes                          98590 non-null   float64\n",
      " 19  LA Specific Plans                  15803 non-null   float64\n",
      " 20  Precinct Boundaries                131328 non-null  float64\n",
      " 21  Census Tracts                      131328 non-null  float64\n",
      "dtypes: float64(14), int64(2), object(6)\n",
      "memory usage: 22.2+ MB\n"
     ]
    }
   ],
   "source": [
    "df_bike = pd.read_csv('metro-bike-share-trip-data.csv')\n",
    "df_bike.info()"
   ]
  },
  {
   "cell_type": "markdown",
   "id": "0f9212a3-3cd8-4ed0-b1b2-bb8075493339",
   "metadata": {},
   "source": [
    "We can parse the dates directly with ```parse_dates```, then info summary shows they are converted to ```datetime```."
   ]
  },
  {
   "cell_type": "code",
   "execution_count": 53,
   "id": "f74786de-7790-4e2b-bfca-4ef9850d2f27",
   "metadata": {},
   "outputs": [
    {
     "name": "stdout",
     "output_type": "stream",
     "text": [
      "<class 'pandas.core.frame.DataFrame'>\n",
      "RangeIndex: 132427 entries, 0 to 132426\n",
      "Data columns (total 22 columns):\n",
      " #   Column                             Non-Null Count   Dtype         \n",
      "---  ------                             --------------   -----         \n",
      " 0   Trip ID                            132427 non-null  int64         \n",
      " 1   Duration                           132427 non-null  int64         \n",
      " 2   Start Time                         132427 non-null  datetime64[ns]\n",
      " 3   End Time                           132427 non-null  datetime64[ns]\n",
      " 4   Starting Station ID                132408 non-null  float64       \n",
      " 5   Starting Station Latitude          132379 non-null  float64       \n",
      " 6   Starting Station Longitude         132379 non-null  float64       \n",
      " 7   Ending Station ID                  132331 non-null  float64       \n",
      " 8   Ending Station Latitude            131376 non-null  float64       \n",
      " 9   Ending Station Longitude           131376 non-null  float64       \n",
      " 10  Bike ID                            132417 non-null  float64       \n",
      " 11  Plan Duration                      131661 non-null  float64       \n",
      " 12  Trip Route Category                132427 non-null  object        \n",
      " 13  Passholder Type                    132427 non-null  object        \n",
      " 14  Starting Lat-Long                  98622 non-null   object        \n",
      " 15  Ending Lat-Long                    131376 non-null  object        \n",
      " 16  Neighborhood Councils (Certified)  98590 non-null   float64       \n",
      " 17  Council Districts                  98590 non-null   float64       \n",
      " 18  Zip Codes                          98590 non-null   float64       \n",
      " 19  LA Specific Plans                  15803 non-null   float64       \n",
      " 20  Precinct Boundaries                131328 non-null  float64       \n",
      " 21  Census Tracts                      131328 non-null  float64       \n",
      "dtypes: datetime64[ns](2), float64(14), int64(2), object(4)\n",
      "memory usage: 22.2+ MB\n"
     ]
    }
   ],
   "source": [
    "df_bike = pd.read_csv('metro-bike-share-trip-data.csv', parse_dates=['Start Time', 'End Time'])\n",
    "df_bike.info()"
   ]
  },
  {
   "cell_type": "markdown",
   "id": "672c89e6-bbcb-4272-8881-d251fa527e08",
   "metadata": {},
   "source": [
    "Or another method to use ```to_datetime``` function."
   ]
  },
  {
   "cell_type": "code",
   "execution_count": 54,
   "id": "4231bd8d-1790-4dfe-b16b-339b538607d9",
   "metadata": {},
   "outputs": [
    {
     "name": "stdout",
     "output_type": "stream",
     "text": [
      "<class 'pandas.core.frame.DataFrame'>\n",
      "RangeIndex: 132427 entries, 0 to 132426\n",
      "Data columns (total 22 columns):\n",
      " #   Column                             Non-Null Count   Dtype         \n",
      "---  ------                             --------------   -----         \n",
      " 0   Trip ID                            132427 non-null  int64         \n",
      " 1   Duration                           132427 non-null  int64         \n",
      " 2   Start Time                         132427 non-null  datetime64[ns]\n",
      " 3   End Time                           132427 non-null  object        \n",
      " 4   Starting Station ID                132408 non-null  float64       \n",
      " 5   Starting Station Latitude          132379 non-null  float64       \n",
      " 6   Starting Station Longitude         132379 non-null  float64       \n",
      " 7   Ending Station ID                  132331 non-null  float64       \n",
      " 8   Ending Station Latitude            131376 non-null  float64       \n",
      " 9   Ending Station Longitude           131376 non-null  float64       \n",
      " 10  Bike ID                            132417 non-null  float64       \n",
      " 11  Plan Duration                      131661 non-null  float64       \n",
      " 12  Trip Route Category                132427 non-null  object        \n",
      " 13  Passholder Type                    132427 non-null  object        \n",
      " 14  Starting Lat-Long                  98622 non-null   object        \n",
      " 15  Ending Lat-Long                    131376 non-null  object        \n",
      " 16  Neighborhood Councils (Certified)  98590 non-null   float64       \n",
      " 17  Council Districts                  98590 non-null   float64       \n",
      " 18  Zip Codes                          98590 non-null   float64       \n",
      " 19  LA Specific Plans                  15803 non-null   float64       \n",
      " 20  Precinct Boundaries                131328 non-null  float64       \n",
      " 21  Census Tracts                      131328 non-null  float64       \n",
      "dtypes: datetime64[ns](1), float64(14), int64(2), object(5)\n",
      "memory usage: 22.2+ MB\n"
     ]
    }
   ],
   "source": [
    "df_bike = pd.read_csv('metro-bike-share-trip-data.csv')\n",
    "df_bike['Start Time'] = pd.to_datetime(df_bike['Start Time'], format='%Y-%m-%dT%H:%M:%S.%f')\n",
    "df_bike.info()"
   ]
  },
  {
   "cell_type": "markdown",
   "id": "ba925112-c688-4bf2-9a8d-d098232f6f23",
   "metadata": {},
   "source": [
    "Pandas can also set the timezone by ```tz_localize()```."
   ]
  },
  {
   "cell_type": "code",
   "execution_count": 55,
   "id": "8c5a0490-22d1-4e18-aaa8-6dd56dfe11a5",
   "metadata": {},
   "outputs": [
    {
     "data": {
      "text/plain": [
       "0   2017-01-19 17:05:00+02:00\n",
       "1   2016-10-09 14:37:00+03:00\n",
       "2   2017-02-18 10:15:00+02:00\n",
       "Name: Start Time, dtype: datetime64[ns, Europe/Helsinki]"
      ]
     },
     "execution_count": 55,
     "metadata": {},
     "output_type": "execute_result"
    }
   ],
   "source": [
    "df_bike['Start Time'].head(3).dt.tz_localize('Europe/Helsinki')"
   ]
  }
 ],
 "metadata": {
  "kernelspec": {
   "display_name": "Python 3 (ipykernel)",
   "language": "python",
   "name": "python3"
  },
  "language_info": {
   "codemirror_mode": {
    "name": "ipython",
    "version": 3
   },
   "file_extension": ".py",
   "mimetype": "text/x-python",
   "name": "python",
   "nbconvert_exporter": "python",
   "pygments_lexer": "ipython3",
   "version": "3.9.13"
  }
 },
 "nbformat": 4,
 "nbformat_minor": 5
}
