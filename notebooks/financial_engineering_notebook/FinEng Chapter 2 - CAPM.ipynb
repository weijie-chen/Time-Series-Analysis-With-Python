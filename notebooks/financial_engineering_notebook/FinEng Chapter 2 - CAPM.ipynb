{
 "cells": [
  {
   "cell_type": "code",
   "execution_count": 14,
   "id": "dbbdaf3f-848d-43d3-9c49-0df4d3f97c5b",
   "metadata": {},
   "outputs": [],
   "source": [
    "import numpy as np\n",
    "import matplotlib.pyplot as plt\n",
    "import scipy as sp\n",
    "import scipy.stats\n",
    "import pandas as pd\n",
    "import datetime as dt\n",
    "import numpy_financial as npf\n",
    "import yfinance as yf\n",
    "from scipy.optimize import minimize\n",
    "\n",
    "plt.style.use(\"ggplot\")\n",
    "import statsmodels.api as sm\n",
    "from yahoo_fin import stock_info as si\n",
    "\n",
    "import fin_func as ff"
   ]
  },
  {
   "cell_type": "markdown",
   "id": "468290d9-8f68-46fe-90eb-bc019f2c06e6",
   "metadata": {},
   "source": [
    "## <font face=\"gotham\" color=\"purple\"> Capital Assets Pricing Model</font>"
   ]
  },
  {
   "cell_type": "markdown",
   "id": "f239471e-676f-418f-a38c-eb82bbcd81b8",
   "metadata": {},
   "source": [
    "Unsystematic risks can be diversified. Systematic risks can't be diversified, $\\text{CAPM}$ measures this risk with $\\beta$."
   ]
  },
  {
   "cell_type": "markdown",
   "id": "0cd84338-7a30-4305-99fd-f5be74598ccb",
   "metadata": {},
   "source": [
    "$$\n",
    "\\begin{aligned}\n",
    "E(R_i)= & R_f+\\beta_i[E(R_m)-R_f]\n",
    "\\end{aligned}\n",
    "$$\n",
    "\\begin{array}{ll}\n",
    "E\\left(R_i\\right) & =\\text { capital asset expected return, e.g. a single stock or a portfolio } \\\\\n",
    "R_f & =\\text { risk-free return, e.g. 10y treasury bond} \\\\\n",
    "\\beta_i & =\\text { sensitivity } \\\\\n",
    "E\\left(R_m\\right) & =\\text { expected return of the market, e.g. S&P500 }\n",
    "\\end{array}"
   ]
  },
  {
   "cell_type": "markdown",
   "id": "14c02b55-6a14-48fe-ad8a-9b9a23c1524b",
   "metadata": {},
   "source": [
    "$\\beta_i$ can be calculated by OLS formula, i.e.\n",
    "$$\n",
    "\\beta= \\frac{\\text{Cov}(R_i, R_m)}{\\text{Var}(R_m)}\n",
    "$$\n",
    "it tells how risky your portfolio is relative to the market, it only measures the systematic risk. "
   ]
  },
  {
   "cell_type": "markdown",
   "id": "ec07a7a2-bf2c-41dd-9503-6e11c0aa81a8",
   "metadata": {},
   "source": [
    "The portfolio $\\beta$ will be a weighted $\\beta$ \n",
    "$$\n",
    "\\beta = \\sum_{i=1}^n w_i\\beta_i\n",
    "$$"
   ]
  },
  {
   "cell_type": "markdown",
   "id": "5570eebd-4d40-4703-8bc6-d778238a2f0f",
   "metadata": {},
   "source": [
    "The model can be rewritten as \n",
    "\\begin{aligned}\n",
    "E(R_i)-R_f= \\alpha_i+\\beta_i[E(R_m)-R_f]\n",
    "\\end{aligned}\n",
    "to explicitly estimate $\\alpha$ as a constant. It characterizes the excess rate of return that"
   ]
  },
  {
   "cell_type": "markdown",
   "id": "f68e6984-3791-4e82-94dd-abe88e4acb1b",
   "metadata": {},
   "source": [
    "$$\n",
    "\\alpha_i= E(R_i)-\\{R_f+\\beta_i[E(R_m)-R_f]\\}\n",
    "$$\n",
    "Usually the classic CAPM assumes $\\alpha=0$"
   ]
  },
  {
   "cell_type": "markdown",
   "id": "0908d370-1ae9-424e-b81f-cef66bfe2c54",
   "metadata": {},
   "source": [
    "<div style=\"background-color:Bisque; color:DarkBlue; padding:30px;\">\n",
    "In short, $\\beta$ measures systematic risks, $\\alpha$ measure excess returns.\n",
    "</div> "
   ]
  },
  {
   "cell_type": "markdown",
   "id": "af8a405e-f238-429c-845b-0e9c304e0c44",
   "metadata": {},
   "source": [
    "## <font face=\"gotham\" color=\"purple\"> Implementation of CAPM</font>"
   ]
  },
  {
   "cell_type": "code",
   "execution_count": 12,
   "id": "ca7fa918-f26d-4a6e-8bd9-f9e87e5be4fd",
   "metadata": {},
   "outputs": [
    {
     "name": "stdout",
     "output_type": "stream",
     "text": [
      "1.2567699380080932\n"
     ]
    },
    {
     "data": {
      "image/png": "[encoded data removed]",
      "text/plain": [
       "<Figure size 432x432 with 1 Axes>"
      ]
     },
     "metadata": {},
     "output_type": "display_data"
    },
    {
     "name": "stdout",
     "output_type": "stream",
     "text": [
      "alpha: 0.022027169160354493\n",
      "beta: 1.2487137204567593\n"
     ]
    }
   ],
   "source": [
    "class CAPM:\n",
    "    def __init__(self, stocks, start_date, end_date):\n",
    "        self.stocks = stocks\n",
    "        self.start_date = start_date\n",
    "        self.end_date = end_date\n",
    "\n",
    "    def download_data(self):\n",
    "        stock_data = {}\n",
    "        for stock in self.stocks:\n",
    "            ticker = yf.Ticker(stock)\n",
    "            stock_data[stock] = ticker.history(\n",
    "                start=self.start_date, end=self.end_date\n",
    "            )[\"Close\"]\n",
    "        return pd.DataFrame(stock_data)\n",
    "\n",
    "    def resample_month(self):\n",
    "        # montly return gives a better normally distributed results\n",
    "        stock_data = (\n",
    "            self.download_data()\n",
    "        )  # without this, 'stock_data' will be called before assignment\n",
    "        stock_data = stock_data.resample(\"M\").last()\n",
    "        self.data = pd.DataFrame(\n",
    "            {\n",
    "                \"s_adjclose\": stock_data[self.stocks[0]],\n",
    "                \"m_adjclose\": stock_data[self.stocks[1]],\n",
    "            }\n",
    "        )\n",
    "        self.data[[\"s_logreturn\", \"m_logreturn\"]] = np.log(self.data) - np.log(\n",
    "            self.data.shift()\n",
    "        )\n",
    "        self.data = self.data.dropna()\n",
    "        return self.data\n",
    "\n",
    "    def calculate_beta(self):\n",
    "        cov_matrix = np.cov(self.data[\"s_logreturn\"], self.data[\"m_logreturn\"])\n",
    "        self.beta = cov_matrix[0, 1] / np.var(self.data[\"m_logreturn\"])\n",
    "        print(self.beta)\n",
    "        return self.beta\n",
    "\n",
    "    def lin_reg(self):\n",
    "        R_F = 0.05\n",
    "        month_in_year = 12\n",
    "\n",
    "        X = self.data[\"m_logreturn\"] - R_F\n",
    "        Y = self.data[\"s_logreturn\"] - R_F\n",
    "        X = sm.add_constant(X)  # adding a constant\n",
    "        self.results = sm.OLS(Y, X).fit()\n",
    "        alpha, beta = self.results.params[0], self.results.params[1]\n",
    "        expected_return = R_F + beta * (\n",
    "            self.data[\"m_logreturn\"].mean() * month_in_year - R_F\n",
    "        )\n",
    "        self.plot_regression()\n",
    "        print(\"alpha: {}\".format(alpha))\n",
    "        print(\"beta: {}\".format(beta))\n",
    "        return alpha, beta, expected_return\n",
    "\n",
    "    def plot_regression(self):\n",
    "        fig, ax = plt.subplots(figsize=(6, 6))\n",
    "        ax.scatter(\n",
    "            self.data[\"m_logreturn\"], self.data[\"s_logreturn\"], c=\"CornflowerBlue\"\n",
    "        )\n",
    "        ax.plot(self.data[\"m_logreturn\"], self.results.fittedvalues)\n",
    "        ax.set_title(\"Capital Assets Pricing Model: {}\".format(stocks[0]))\n",
    "        ax.set_ylabel(\"Expected Stock Return\")\n",
    "        ax.set_xlabel(\"Expected Market Return\")\n",
    "        plt.show()\n",
    "\n",
    "\n",
    "if __name__ == \"__main__\":\n",
    "    stocks = [\"LULU\", \"^GSPC\"]\n",
    "    capm = CAPM(stocks, start_date=\"2010-01-01\", end_date=dt.datetime.today())\n",
    "    data = capm.download_data()\n",
    "    data_month = capm.resample_month()\n",
    "    beta_calculated = capm.calculate_beta()\n",
    "    alpha, beta, exp_ret = capm.lin_reg()"
   ]
  },
  {
   "cell_type": "code",
   "execution_count": null,
   "id": "351fca3a-919e-49ee-8783-e52948f0f91f",
   "metadata": {},
   "outputs": [],
   "source": []
  },
  {
   "cell_type": "code",
   "execution_count": 18,
   "id": "7444a5c9-5a93-4e78-a206-f6bfc8f3cd64",
   "metadata": {},
   "outputs": [],
   "source": [
    "df1 = pd.DataFrame(si.tickers_sp500())\n",
    "df2 = pd.DataFrame(si.tickers_nasdaq())\n",
    "df3 = pd.DataFrame(si.tickers_dow())\n",
    "df4 = pd.DataFrame(si.tickers_other())"
   ]
  },
  {
   "cell_type": "code",
   "execution_count": 19,
   "id": "e90974b7-e0c6-48cf-87aa-ccfe6cfec3b2",
   "metadata": {},
   "outputs": [],
   "source": [
    "sym1 = set(symbol for symbol in df1[0].values.tolist())\n",
    "sym2 = set(symbol for symbol in df2[0].values.tolist())\n",
    "sym3 = set(symbol for symbol in df3[0].values.tolist())\n",
    "sym4 = set(symbol for symbol in df4[0].values.tolist())"
   ]
  },
  {
   "cell_type": "code",
   "execution_count": 24,
   "id": "32aa3fcc-8a7a-432a-94ee-a38f9a1868b0",
   "metadata": {},
   "outputs": [],
   "source": [
    "symbols = set.union(sym1, sym2, sym3, sym4)"
   ]
  },
  {
   "cell_type": "code",
   "execution_count": 25,
   "id": "4edee752-2a55-4320-a2bc-08770063e10c",
   "metadata": {},
   "outputs": [],
   "source": [
    "my_list = [\"W\", \"R\", \"P\", \"Q\"]\n",
    "del_set = set()\n",
    "sav_set = set()"
   ]
  },
  {
   "cell_type": "code",
   "execution_count": 26,
   "id": "82993c25-aeef-4f57-956a-eb549c1deb5e",
   "metadata": {},
   "outputs": [],
   "source": [
    "for symbol in symbols:\n",
    "    if len(symbol) > 4 and symbol[-1] in my_list:\n",
    "        del_set.add(symbol)\n",
    "    else:\n",
    "        sav_set.add(symbol)"
   ]
  },
  {
   "cell_type": "code",
   "execution_count": null,
   "id": "88ddcda0-ece9-4691-a809-5cb111b1f66e",
   "metadata": {},
   "outputs": [],
   "source": []
  }
 ],
 "metadata": {
  "kernelspec": {
   "display_name": "Python 3 (ipykernel)",
   "language": "python",
   "name": "python3"
  },
  "language_info": {
   "codemirror_mode": {
    "name": "ipython",
    "version": 3
   },
   "file_extension": ".py",
   "mimetype": "text/x-python",
   "name": "python",
   "nbconvert_exporter": "python",
   "pygments_lexer": "ipython3",
   "version": "3.9.12"
  }
 },
 "nbformat": 4,
 "nbformat_minor": 5
}
