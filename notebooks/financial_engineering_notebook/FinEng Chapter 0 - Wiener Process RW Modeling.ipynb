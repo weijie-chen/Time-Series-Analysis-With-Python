{
 "cells": [
  {
   "cell_type": "code",
   "execution_count": null,
   "id": "016b46ce-fb2e-4874-8d0d-1d2bfa4ecde9",
   "metadata": {},
   "outputs": [],
   "source": [
    "import numpy as np\n",
    "import matplotlib.pyplot as plt\n",
    "import scipy as sp\n",
    "import pandas as pd\n",
    "import datetime as dt\n",
    "import yfinance as yf\n",
    "import scipy.stats\n",
    "import scipy as sp\n",
    "\n",
    "plt.style.use(\"ggplot\")"
   ]
  },
  {
   "cell_type": "markdown",
   "id": "c9983b6e-0aff-49d9-97bf-dffa6339365e",
   "metadata": {},
   "source": [
    "If there is a law in finance, that would be level of price doesn't matter, only return matters. It's weird the things (prices) we are modeling never show up in the equations."
   ]
  },
  {
   "cell_type": "markdown",
   "id": "3ad3a5bc-2af3-4188-893e-3ef4778136cf",
   "metadata": {},
   "source": [
    "# <font face=\"gotham\" color=\"purple\"> Simple vs Log Returns</font>"
   ]
  },
  {
   "cell_type": "markdown",
   "id": "a45b120e-1188-46ef-a522-7d625fe34aeb",
   "metadata": {},
   "source": [
    "We have discussed the merits of log returns in time series session, it is time to revisit the topic before we dive into quantitative financial topics."
   ]
  },
  {
   "cell_type": "markdown",
   "id": "e340d82d-08a9-48bc-93ce-26691db5ed91",
   "metadata": {},
   "source": [
    "## <font face=\"gotham\" color=\"purple\"> Simple Multi-Period Return</font>"
   ]
  },
  {
   "cell_type": "markdown",
   "id": "f7eac7cf-fe44-4944-b684-8a947d54316f",
   "metadata": {},
   "source": [
    "For compound return we have following formula\n",
    "$$\n",
    "S_T=S_0\\left[1+\\frac{r}{T}\\right]^{Tt}\n",
    "$$\n",
    "where $S_0$ is initial investment,$t$ is the total duration, $r$ is annual return, $T$ is compound period. If we break the compound period into infinitely small chunks, we receive continuous compound formula\n",
    "$$\n",
    "\\lim _{T \\rightarrow \\infty} S_T=S_0 e^{rt}\n",
    "$$"
   ]
  },
  {
   "cell_type": "markdown",
   "id": "1370e1b2-2ce6-49d9-b435-1d3413b59c08",
   "metadata": {},
   "source": [
    "Sometimes we just omitted $t$ if we are modeling one year duration, if $t=1$ is equivalent to omission."
   ]
  },
  {
   "cell_type": "code",
   "execution_count": null,
   "id": "ca43bd6f-b728-4256-bc0f-f9e91a89bd1a",
   "metadata": {},
   "outputs": [],
   "source": [
    "S_0 = 1000\n",
    "r = 0.05\n",
    "T = 100\n",
    "t = 1\n",
    "S_T_continuous = S_0 * np.exp(r * t)\n",
    "S_T_discrete = [S_0 * (1 + r / T) ** (T * t) for T in range(1, T)]"
   ]
  },
  {
   "cell_type": "code",
   "execution_count": null,
   "id": "5cba64e8-3f4f-4451-8e4b-d601aee4c15e",
   "metadata": {},
   "outputs": [],
   "source": [
    "fig, ax = plt.subplots(figsize=(9, 4))\n",
    "ax.plot([S_T_continuous] * len(S_T_discrete), label=\"Discrete\")\n",
    "ax.plot(S_T_discrete, label=\"Continuous\")\n",
    "ax.set_xlabel(\"Compound Periods\")\n",
    "ax.set_ylabel(\"Return\")\n",
    "ax.legend()\n",
    "plt.show()"
   ]
  },
  {
   "cell_type": "markdown",
   "id": "45fa19fd-e1a7-42be-bd6f-211ef2c20b31",
   "metadata": {},
   "source": [
    "## <font face=\"gotham\" color=\"purple\"> Simple Returns Simulation</font>"
   ]
  },
  {
   "cell_type": "code",
   "execution_count": null,
   "id": "e8cc258b-dd76-4242-a752-4b62d0b15a29",
   "metadata": {},
   "outputs": [],
   "source": [
    "s0 = 100\n",
    "r = 0.1\n",
    "sigma = 0.10\n",
    "\n",
    "trading_days = 252\n",
    "paths = 1000\n",
    "norm_draws = [np.random.randn(trading_days) for i in range(paths)]"
   ]
  },
  {
   "cell_type": "markdown",
   "id": "44afe277-b44d-46e0-8884-b9764125d335",
   "metadata": {},
   "source": [
    "Add a random component into simple return, the $\\sqrt{T}$ comes from the properties of variance $\\sqrt{\\operatorname{Var}(T \\varepsilon)} = \\sqrt{T} * \\sigma(\\varepsilon)$"
   ]
  },
  {
   "cell_type": "markdown",
   "id": "5a9c3e7e-c234-480e-8bf0-45e72d2dd9ed",
   "metadata": {},
   "source": [
    "$\\begin{aligned} r_t= & \\frac{S_t-S_{t-1}}{S_{t-1}} \\\\ & =\\frac{r}{T}+\\frac{\\sigma}{\\sqrt{T}} \\varepsilon_t \\quad \\varepsilon_t \\sim N(0,1)\\end{aligned}$"
   ]
  },
  {
   "cell_type": "code",
   "execution_count": null,
   "id": "3442a0ac-dafc-41f4-a225-25557e70cf4b",
   "metadata": {},
   "outputs": [],
   "source": [
    "daily_simp_rets = [\n",
    "    1 + r / trading_days + sigma / (np.sqrt(trading_days)) * i for i in norm_draws\n",
    "]\n",
    "# insert 1 at the begining for every normal random sequence\n",
    "# this is for accumulative calculation\n",
    "daily_simp_rets_gross = [np.insert(i, 0, 1) for i in daily_simp_rets]\n",
    "# simple return is multiplicative\n",
    "simple_rets = [np.cumprod(x) for x in daily_simp_rets]"
   ]
  },
  {
   "cell_type": "code",
   "execution_count": null,
   "id": "cb523f3e-7309-482c-b0d2-b6c499a14c73",
   "metadata": {},
   "outputs": [],
   "source": [
    "fig, ax = plt.subplots(figsize=(14, 7))\n",
    "\n",
    "for p in simple_rets[:500]:\n",
    "    ax.plot([z for z in range(0, trading_days)], p, linewidth=0.5)\n",
    "\n",
    "ax.set_title(\"Simple Return Simulation in One Year\", fontsize=20)\n",
    "ax.set_xlabel(\"Trading Days\", fontsize=16)\n",
    "ax.set_ylabel(\"Simple Returns\", fontsize=16)\n",
    "plt.show()"
   ]
  },
  {
   "cell_type": "markdown",
   "id": "4de2649f-67c6-4e14-81d6-e97734a3c7f7",
   "metadata": {},
   "source": [
    "The simulation shows positive skewed feature simply because we set a positive $r$ such as $r=.1$."
   ]
  },
  {
   "cell_type": "markdown",
   "id": "53d27df9-aefd-4013-9a28-38d53eb5ba0e",
   "metadata": {},
   "source": [
    "An unfavorable feature of simple return is\n",
    "$$\n",
    "\\left(1+r_1\\right)\\left(1+r_2\\right) \\ldots \\left(1+r_T\\right)-1=\\prod_{i=0}^T\\left(1+r_i\\right)-1\n",
    "$$\n",
    "the product of simple return does not follow a normal distribution."
   ]
  },
  {
   "cell_type": "markdown",
   "id": "4ae654dd-ef5d-47e6-8f26-494fefca2e5e",
   "metadata": {},
   "source": [
    "## <font face=\"gotham\" color=\"purple\"> Log Return</font>"
   ]
  },
  {
   "cell_type": "markdown",
   "id": "8957212f-1e40-4207-b1c7-027829f5da1e",
   "metadata": {},
   "source": [
    "Continuous compound has an additive feature on exponential term, we can show\n",
    "$$\n",
    "\\begin{aligned} S_T & =S_0e^{\\frac{r}{T}}e^{\\frac{r}{T}} \\ldots e^{\\frac{r}{T}} \\\\ & =S_0 e^{\\frac{r}{T}+\\ldots+\\frac{r}{T}} \\\\ & =S_0 e^r\\end{aligned}\n",
    "$$"
   ]
  },
  {
   "cell_type": "markdown",
   "id": "4b27ba5f-bcbf-4fcc-99a9-ef710ed23aa1",
   "metadata": {},
   "source": [
    "Divide $S_0$ on both side and take natural log, we obtain log return at period $T$\n",
    "$$\n",
    "\\log{\\left(\\frac{S_T}{S_0}\\right)}=\\log{e^r} = r_{_T}[T]\n",
    "$$\n",
    "The notation is consistent with what we had in time series session, $r_{_T}[T]$ means $T$ periods log return."
   ]
  },
  {
   "cell_type": "markdown",
   "id": "71768357-3a66-4817-be72-0e7ffc4fd8dc",
   "metadata": {},
   "source": [
    "What's more, we can decompose gross return into additive log returns\n",
    "$$\n",
    "\\begin{align}\n",
    "\\log{\\left(\\frac{S_T}{S_{T-1}}\\frac{S_{T-1}}{S_{T-2}}\\ldots\\frac{S_1}{S_0}\\right)} &= \\log{\\left(\\frac{S_T}{S_{T-1}}\\right)}\n",
    "\\log{\\left(\\frac{S_T}{S_{T-1}}\\right)}\n",
    "\\ldots\\log{\\left(\\frac{S_T}{S_{T-1}}\\right)}\\\\\n",
    "r_{_T}[T]&= \\underbrace{r_{_{T-1}} + r_{_{T-2}}+\\ldots+r_{_0}}_{T \\text{ periods}}\n",
    "\\end{align}\n",
    "$$\n",
    "which means the log return has additive features.\n",
    "\n",
    "Note that $r_{_T}[T]\\neq r_{_T}$, the former one is an accumulative return the later is a single period return."
   ]
  },
  {
   "cell_type": "markdown",
   "id": "b9b2d02b-a11b-42dd-ac5f-34543c8c6ab7",
   "metadata": {},
   "source": [
    "In contrast to simple returns, $r_{_T}[T]$ still follows a normal distribution, because it's a linear combination of $T$ normal distributions."
   ]
  },
  {
   "cell_type": "markdown",
   "id": "56064066-e82a-4a47-8aa0-d01977c0954c",
   "metadata": {},
   "source": [
    "### <font face=\"gotham\" color=\"purple\"> Simulation of Log Return</font>"
   ]
  },
  {
   "cell_type": "markdown",
   "id": "5ae8e8df-077e-42b8-a08e-2b9a80abdf72",
   "metadata": {},
   "source": [
    "Similarly, we add random components on to log return"
   ]
  },
  {
   "cell_type": "markdown",
   "id": "ef20b678-927b-4587-b271-66d493915145",
   "metadata": {},
   "source": [
    "$$\n",
    "\\ln \\left(\\frac{S_T}{S_0}\\right)=r+\\sigma \\varepsilon_t, \\quad \\varepsilon_t \\sim N(0,1)\n",
    "$$"
   ]
  },
  {
   "cell_type": "markdown",
   "id": "75951dbb-5be5-4189-a474-0d302d90efc0",
   "metadata": {
    "tags": []
   },
   "source": [
    "# <font face=\"gotham\" color=\"purple\"> So Which One to Use?</font>"
   ]
  },
  {
   "cell_type": "markdown",
   "id": "8b97d5f5-af9c-4e08-ab83-76cd2e3f33a7",
   "metadata": {},
   "source": [
    "For individual investor without serious quantitative intention, it probably doesn't matter that much which one you use, but for institutions with rigorous quantitative research, this will be among first topics to address before any financial modeling."
   ]
  },
  {
   "cell_type": "markdown",
   "id": "65f4c7d3-cf3b-471f-927b-59e9afd591fc",
   "metadata": {},
   "source": [
    "The merit of simple return: simple returns are **asset-additive**."
   ]
  },
  {
   "cell_type": "markdown",
   "id": "930df3de-1067-466d-b884-933d1e57b8ca",
   "metadata": {},
   "source": [
    "The portfolio return can be added up together\n",
    "$$\n",
    "R_p=\\sum_{i=1}^k w_i R_i\n",
    "$$\n",
    "where $R_p$ is portfolio return, $w_i$ and $R_i$ are weight and simple return of asset $i$."
   ]
  },
  {
   "cell_type": "markdown",
   "id": "c4135367-4f94-4b26-a2c9-cd3f9dde743c",
   "metadata": {},
   "source": [
    "In contrast, log returns are **time-additive**, i.e.\n",
    "$$\n",
    "r_{_T}[T]= r_{_{T-1}} + r_{_{T-2}}+\\ldots+r_{_0}\n",
    "$$"
   ]
  },
  {
   "cell_type": "markdown",
   "id": "a1ea487f-16b6-4705-80ae-03d47ffb69d1",
   "metadata": {},
   "source": [
    "In fact, log returns are not a linear function of asset weights. That is, a portfolio's log return does not equal the weighted average of the log returns of the assets in the portfolio."
   ]
  },
  {
   "cell_type": "markdown",
   "id": "d7fdfa2f-a44e-4036-afa0-e538c94131c7",
   "metadata": {},
   "source": [
    "The log return of portfolio $r_p$ mathematically will be\n",
    "$$\n",
    "r_p=\\log \\left(\\sum_{i=1}^N w_i e^{r_i}\\right)\n",
    "$$\n",
    "where $w_i$ and $r_i$ are weight and log return of asset $i$. Obviously this is no longer a linear function."
   ]
  },
  {
   "cell_type": "markdown",
   "id": "81e17a6b-5018-40b4-af07-01f7dd4a4f32",
   "metadata": {},
   "source": [
    "## <font face=\"gotham\" color=\"purple\"> Comparison Experiment</font>"
   ]
  },
  {
   "cell_type": "markdown",
   "id": "982d43cc-a62e-4960-a790-ddb2254dc38f",
   "metadata": {},
   "source": [
    "We download two ETFs' (SPY and AGG) historical data and using weight $[0.6, 0.4]$ to calculate the portfolio return.\n",
    "\n",
    "We calculate the log return of each assets, but using additive method for calculating the portfolio return. Use this return to compare with correct simple portfolio, we expect to see a discrepancy between them."
   ]
  },
  {
   "cell_type": "code",
   "execution_count": null,
   "id": "1f5e338f-9250-4d6d-962a-6f28411f95f6",
   "metadata": {},
   "outputs": [],
   "source": [
    "def downloadData(stocks, dropna=True):\n",
    "    # dropna decides if you want to drop all NaN values\n",
    "    stock_data = {}\n",
    "    for stock in stocks:\n",
    "        ticker = yf.Ticker(stock)\n",
    "        stock_data[stock] = ticker.history(start=start_date, end=end_date)[\"Close\"]\n",
    "    if dropna == True:\n",
    "        df = pd.DataFrame(stock_data).dropna()\n",
    "    else:\n",
    "        df = pd.DataFrame(stock_data)\n",
    "    return df"
   ]
  },
  {
   "cell_type": "code",
   "execution_count": null,
   "id": "8af46ed8-e096-4301-b9ae-d6f010b4d769",
   "metadata": {},
   "outputs": [],
   "source": [
    "stocks = [\"SPY\", \"AGG\"]\n",
    "start_date = \"2015-01-01\"\n",
    "end_date = dt.datetime.today()\n",
    "\n",
    "data = downloadData(stocks)"
   ]
  },
  {
   "cell_type": "code",
   "execution_count": null,
   "id": "c66d48fc-afb1-4e51-9ce0-be0cf0bc0710",
   "metadata": {},
   "outputs": [],
   "source": [
    "data_simple_return = data.pct_change().dropna()\n",
    "data_log_return = np.log(data) - np.log(data.shift())\n",
    "\n",
    "trading_days = 252\n",
    "weights = np.array([0.6, 0.4])\n",
    "simple_portfolio_return = np.sum(data_simple_return.mean() * weights) * trading_days\n",
    "mixed_portfolio_return = np.sum(data_log_return.mean() * weights) * trading_days\n",
    "\n",
    "print(\"Simple portfolio return: {:.4f}\".format(simple_portfolio_return))\n",
    "print(\n",
    "    \"Simple portfolio return with log asset return: {:.4f}\".format(\n",
    "        mixed_portfolio_return\n",
    "    )\n",
    ")"
   ]
  },
  {
   "cell_type": "markdown",
   "id": "78bbe443-765c-4ca0-aac0-a4f04a2863c5",
   "metadata": {},
   "source": [
    "So you have to be consistent about when to use which. In general for time series modeling, log return is your choice, when comes to portfolio optimization, simple return would be more accurate."
   ]
  },
  {
   "cell_type": "markdown",
   "id": "5b493e3e-daa0-4b33-b10d-846943792ccb",
   "metadata": {},
   "source": [
    "## <font face=\"gotham\" color=\"purple\"> Standardized Return vs Normal Distribution </font>"
   ]
  },
  {
   "cell_type": "markdown",
   "id": "9480c7dc-76df-47e7-a469-743bb3142354",
   "metadata": {},
   "source": [
    "Standardized return is useful when we are curious about how frequently the return would drop onto some rare cases. \n",
    "\n",
    "For instance, AGG has some rare cases that a single day return had $12$ standard deviation down from the last close price."
   ]
  },
  {
   "cell_type": "code",
   "execution_count": null,
   "id": "a5febf95-537e-4435-8cdf-da5fcf5c0da5",
   "metadata": {},
   "outputs": [],
   "source": [
    "def standardizedReturn(simple_return):\n",
    "    return (simple_return - simple_return.mean()) / np.std(simple_return)"
   ]
  },
  {
   "cell_type": "code",
   "execution_count": null,
   "id": "172c288e-9d5a-4db4-8290-378a3f8f1bbc",
   "metadata": {},
   "outputs": [],
   "source": [
    "n = 300\n",
    "norm_pdf = sp.stats.norm.pdf(np.linspace(-10, 10, n), loc=0, scale=1)\n",
    "x_ticks = np.linspace(-10, 10, n)"
   ]
  },
  {
   "cell_type": "markdown",
   "id": "0a013fa9-0731-4c88-af3f-ac5963ca0edc",
   "metadata": {},
   "source": [
    "Compare with standard normal distribution."
   ]
  },
  {
   "cell_type": "code",
   "execution_count": null,
   "id": "1d1e236d-4bce-4ab5-956a-744c5a9bad00",
   "metadata": {},
   "outputs": [],
   "source": [
    "fig, ax = plt.subplots(figsize=(14, 6), nrows=1, ncols=2)\n",
    "ax[0].hist(\n",
    "    standardizedReturn(data_simple_return)[\"SPY\"], bins=100, density=True, label=\"SPY\"\n",
    ")\n",
    "ax[1].hist(\n",
    "    standardizedReturn(data_simple_return)[\"AGG\"], bins=100, density=True, label=\"AGG\"\n",
    ")\n",
    "ax[0].plot(x_ticks, norm_pdf, lw=3, label=\"Normal\")\n",
    "ax[1].plot(x_ticks, norm_pdf, lw=3, label=\"Normal\")\n",
    "plt.show()"
   ]
  },
  {
   "cell_type": "markdown",
   "id": "82d3b632-68ee-42cb-8111-137a797b013c",
   "metadata": {},
   "source": [
    "The return distribution is not Gaussian, but _why we insist using normal distribution in practice_. There are number of reason: normal distribution has a closed form function, only two parameters, central limited theorem guarantees its generalization and finite standard deviation. \n",
    "\n",
    "On the contrary, the fat tailed distribution as the histograms show, it might not have closed form pdf function, and of most importance standard deviation could be infinitely large.\n",
    "\n",
    "So if you insist using fat tail model, sometimes not possible to model anything due to infinite standard deviation."
   ]
  },
  {
   "cell_type": "markdown",
   "id": "16c3e266-5b93-4f09-a06b-c8403c772549",
   "metadata": {},
   "source": [
    "However, though fat tails has extremely low probability, we still need to have strategy handling it."
   ]
  },
  {
   "cell_type": "markdown",
   "id": "271a5b1b-eba8-4769-9a22-357f86f69661",
   "metadata": {},
   "source": [
    "## <font face=\"gotham\" color=\"purple\"> Assets Return Modeling </font>"
   ]
  },
  {
   "cell_type": "markdown",
   "id": "04bafd14-d46a-4d0a-9047-79fe5b9120eb",
   "metadata": {},
   "source": [
    "We have seen discrete simple compound return previously\n",
    "$$\n",
    "S_T=S_0\\left[1+\\frac{r}{T}\\right]^{Tt},\\qquad\\lim _{T \\rightarrow \\infty} S_T=S_0 e^{rt}\n",
    "$$\n",
    "This notation is commonly used in time series analysis.\n",
    "\n",
    "In financial engineering, we commonly express it as\n",
    "$$\n",
    "S_M = S_0(1+\\mu \\delta t)^M, \\qquad\\lim _{\\delta t \\rightarrow 0} S_M=S_0 e^{\\mu M \\delta t} = S_0 e^{\\mu t}\n",
    "$$\n",
    "where $M=\\frac{t}{\\delta t}$, $\\mu$ is annual return. For instance, if we are modeling daily data in US, $\\delta t = 252$."
   ]
  },
  {
   "cell_type": "markdown",
   "id": "6eb44040-cd6c-46a8-a25b-a3653cae34b8",
   "metadata": {},
   "source": [
    "Now suppose you know annualized standard deviation of return $\\sigma$, the variance over $M$ periods (can be days, months or years) will be\n",
    "$$\n",
    "\\sum_{i=1}^{M}\\sigma^2 = M \\sigma^2 = \\frac{t}{\\delta t}\\sigma^2\n",
    "$$"
   ]
  },
  {
   "cell_type": "markdown",
   "id": "f6c5eb80-6c92-4cb3-adde-2fd429ce6c17",
   "metadata": {},
   "source": [
    "If we set $t=1$, i.e. one year period (252 trading days), we obtain variance over $1/\\delta t$ periods\n",
    "$$\n",
    "\\frac{1}{\\delta t}\\sigma^2\n",
    "$$"
   ]
  },
  {
   "cell_type": "markdown",
   "id": "13e639f8-7f6e-4246-99f8-978a45da32bb",
   "metadata": {},
   "source": [
    "**[Something wrong here, I derived a wrong result]**\n",
    "\n",
    "Naturally, the standard deviation over $1/\\sqrt{\\delta t}$ periods will be \n",
    "$$\n",
    "\\frac{1}{\\sqrt{\\delta t}} \\sigma\n",
    "$$"
   ]
  },
  {
   "cell_type": "markdown",
   "id": "7c6b3c7f-b379-42cb-906c-9e0c0f8ec152",
   "metadata": {},
   "source": [
    "So if you know annualized $\\sigma = .15$, what's the standard deviation over a day?\n",
    "$$\n",
    "\\frac{\\sigma}{\\sqrt{252}} = \\frac{0.15}{\\sqrt{252}}\n",
    "$$"
   ]
  },
  {
   "cell_type": "markdown",
   "id": "4906b625-1baa-4c45-9473-1bbbedf315a6",
   "metadata": {},
   "source": [
    "In contrast, the time unit conversion of mean is straightforward, the mean over certain period of time\n",
    "$$\n",
    "\\mu \\ \\delta t\n",
    "$$\n",
    "where $\\mu$ is annualized return, e.g. $\\mu=0.08$, daily return is\n",
    "$$\n",
    "0.08 \\times \\frac{1}{252}\n",
    "$$"
   ]
  },
  {
   "cell_type": "markdown",
   "id": "32319943-23f0-4a69-9c83-2f217999aad5",
   "metadata": {},
   "source": [
    "Now join what we have discussed together, we can write a model for returns\n",
    "$$\n",
    "R_{t} = \\frac{S_{t+1}-S_t}{S_t} =  \\mu \\delta t+\\varepsilon \\sigma \\sqrt{\\delta t}\n",
    "$$\n",
    "where $\\varepsilon$ is a variable drawn from normal distribution (doesn't have to be standard normal).\n",
    "\n",
    "Actually this is a famous stochastic process model named **generalized Wiener Process**."
   ]
  },
  {
   "cell_type": "code",
   "execution_count": null,
   "id": "bfbe0614-7334-4fbf-b2b9-585f572f620f",
   "metadata": {},
   "outputs": [],
   "source": [
    "spy = data[\"SPY\"]\n",
    "spy = spy.pct_change()\n",
    "mean_spy = spy.mean()\n",
    "std_spy = spy.std()"
   ]
  },
  {
   "cell_type": "code",
   "execution_count": null,
   "id": "d343dcf3-7289-4637-b7cf-177f08c661a8",
   "metadata": {},
   "outputs": [],
   "source": [
    "trading_days = 252\n",
    "paths = 1000\n",
    "init_capital = 1000\n",
    "norm_draws = [np.random.randn(trading_days) for i in range(paths)]"
   ]
  },
  {
   "cell_type": "markdown",
   "id": "35a1b2a4-ef8f-452c-bba0-532d421c7b73",
   "metadata": {},
   "source": [
    "We don't write it exactly as in our model, because the model is for daily return, we already have daily return computed in variables ```mean_spay``` and ```std_spy```, so we simply use $1+\\mu_d+\\phi\\sigma$ for gross return."
   ]
  },
  {
   "cell_type": "code",
   "execution_count": null,
   "id": "3d4d21d0-96e7-4358-95ea-ee4bd92b46c2",
   "metadata": {},
   "outputs": [],
   "source": [
    "daily_simp_rets = [1 + mean_spy + std_spy * epsilon for epsilon in norm_draws]"
   ]
  },
  {
   "cell_type": "code",
   "execution_count": null,
   "id": "5b0635d0-5cfb-46fb-bd89-d4bb3ef70335",
   "metadata": {},
   "outputs": [],
   "source": [
    "daily_simp_rets_gross = [np.insert(i, 0, 1) for i in daily_simp_rets]\n",
    "simple_rets = [np.cumprod(x) for x in daily_simp_rets]\n",
    "simple_rets_init_cap = list(\n",
    "    map(lambda x: 1000 * x, [np.cumprod(x) for x in daily_simp_rets])\n",
    ")"
   ]
  },
  {
   "cell_type": "code",
   "execution_count": null,
   "id": "479c7e44-4b94-47ad-8013-0efaeb29ae70",
   "metadata": {},
   "outputs": [],
   "source": [
    "fig, ax = plt.subplots(figsize=(14, 7))\n",
    "\n",
    "for j in simple_rets_init_cap:\n",
    "    ax.plot([i for i in range(0, trading_days)], j, linewidth=0.5)\n",
    "\n",
    "ax.set_title(\"Simple Return Simulation of SPY in One Year\", fontsize=20)\n",
    "ax.set_xlabel(\"Trading Days\", fontsize=16)\n",
    "ax.set_ylabel(\"Simple Returns\", fontsize=16)\n",
    "plt.show()"
   ]
  },
  {
   "cell_type": "markdown",
   "id": "485ff2d0-ed1f-4b1d-8202-a8298b8a83d4",
   "metadata": {},
   "source": [
    "## <font face=\"gotham\" color=\"purple\"> Assets Price Level Modeling </font>"
   ]
  },
  {
   "cell_type": "markdown",
   "id": "1fb3e424-a0cf-4aca-8283-77f350dbacc3",
   "metadata": {},
   "source": [
    "With a slight modification of previous model\n",
    "$$\n",
    "S_{i+1}-S_i=\\mu S_i \\delta t+\\varepsilon   S_i \\sigma\\sqrt{\\delta t}\\quad\\Rightarrow\\quad S_{i+1}=(1+\\mu \\delta t) S_i+\\varepsilon  S_i \\sigma\\sqrt{\\delta t}\n",
    "$$"
   ]
  },
  {
   "cell_type": "markdown",
   "id": "d92fceab-515d-4d64-a7de-90c897235de0",
   "metadata": {},
   "source": [
    "It provides a more practical usage, that is to simulate asset price in the next period."
   ]
  },
  {
   "cell_type": "code",
   "execution_count": null,
   "id": "dbc2cfbc-8031-46fa-8ef6-ba9938c260a5",
   "metadata": {},
   "outputs": [],
   "source": [
    "# use lastest close price\n",
    "today_price = data[\"SPY\"][-1]\n",
    "trading_days = 1\n",
    "paths = 10000\n",
    "norm_draws = [np.random.randn(trading_days) for i in range(paths)]\n",
    "next_day_price = [\n",
    "    (1 + mean_spy) * today_price + epsilon * today_price * std_spy\n",
    "    for epsilon in norm_draws\n",
    "]\n",
    "next_day_price = [np.insert(i, 0, data[\"SPY\"][-1]) for i in next_day_price]"
   ]
  },
  {
   "cell_type": "code",
   "execution_count": null,
   "id": "519ca54e-19e5-430a-a77d-7b660c5c0933",
   "metadata": {},
   "outputs": [],
   "source": [
    "fig, ax = plt.subplots(figsize=(14, 7), nrows=1, ncols=2)\n",
    "\n",
    "for j in next_day_price:\n",
    "    ax[0].plot([i for i in range(0, trading_days + 1)], j, linewidth=0.5)\n",
    "\n",
    "ax[0].set_ylabel(\"Asset Price\", fontsize=16)\n",
    "ax[0].set_xlabel(\"Trading Days\")\n",
    "\n",
    "next_price_list = []\n",
    "for i in next_day_price:\n",
    "    next_price_list.append(i[1])\n",
    "\n",
    "ax[1].hist(next_price_list, bins=100, orientation=\"horizontal\", density=True)\n",
    "ax[1].axhline(\n",
    "    np.mean(next_price_list),\n",
    "    color=\"blue\",\n",
    "    label=\"mean:{:.4f}\".format(np.mean(next_price_list)),\n",
    ")\n",
    "ax[1].legend()\n",
    "plt.suptitle(\"Next Period Asset Price Simulation\", size=18)\n",
    "plt.show()"
   ]
  },
  {
   "cell_type": "markdown",
   "id": "4d2495a8-db77-46b0-8aee-9214af6081a9",
   "metadata": {},
   "source": [
    "## <font face=\"gotham\" color=\"purple\"> Insights </font>"
   ]
  },
  {
   "cell_type": "markdown",
   "id": "a7f6cb41-2631-4961-abdd-005a055393e1",
   "metadata": {},
   "source": [
    "Take a close look at the model\n",
    "$$\n",
    "S_{i+1}-S_i=\\mu S_i \\delta t+\\varepsilon   S_i \\sigma\\sqrt{\\delta t}\n",
    "$$"
   ]
  },
  {
   "cell_type": "markdown",
   "id": "6ae14423-e96a-4009-92b4-4475e332111f",
   "metadata": {},
   "source": [
    "On the left-hand side, $\\delta t$ appears twice, i.e. $\\delta t$ and $\\sqrt{\\delta t}$. "
   ]
  },
  {
   "cell_type": "markdown",
   "id": "f1d2cab9-e7a5-4551-a67b-c1c3bc00043b",
   "metadata": {},
   "source": [
    "From this plot, we know that if $0<\\delta t < 1$, then $\\delta t<\\sqrt{\\delta t}$. When $\\delta t$ approaches $0$, the $\\varepsilon   S_i \\sigma\\sqrt{\\delta t}$ term will be very dominant, that means we will be modeling volatility predominantly in extremely short time duration.\n",
    "\n",
    "In other words, in the short term random noise is much bigger than the growth (drift)."
   ]
  },
  {
   "cell_type": "code",
   "execution_count": null,
   "id": "22e35978-6c0e-468c-b39f-35eadac02905",
   "metadata": {},
   "outputs": [],
   "source": [
    "x, y = np.linspace(0, 1.3), np.sqrt(x)\n",
    "fig, ax = plt.subplots(figsize=(7, 7))\n",
    "ax.scatter(1, 1, color=\"red\", s=100)\n",
    "ax.plot(x, y, label=\"$y = \\sqrt{\\delta t}$\")\n",
    "ax.plot(x, x, label=\"$y = \\delta t$\")\n",
    "ax.legend()\n",
    "plt.show()"
   ]
  },
  {
   "cell_type": "markdown",
   "id": "f2750ca9-d52e-45bd-b92c-565d0263291c",
   "metadata": {},
   "source": [
    "For the sake of mathematical convenience, many people will be using _continuous version_ of this model, i.e.\n",
    "$$\n",
    "d S=\\mu S d t+\\sigma S d X\n",
    "$$\n",
    "where $E[d X]=0$ and $E\\left[d X^2\\right]=d t$. A full derivation will be carefully discussed in later chapters, because this is the foundation of all other quantitative financial models."
   ]
  },
  {
   "cell_type": "code",
   "execution_count": null,
   "id": "4ba49f51-c5c6-4ebb-8887-d277d062b537",
   "metadata": {},
   "outputs": [],
   "source": []
  },
  {
   "cell_type": "code",
   "execution_count": null,
   "id": "9ef65151-c5ee-4657-a524-2a65e2428e5c",
   "metadata": {},
   "outputs": [],
   "source": []
  },
  {
   "cell_type": "code",
   "execution_count": null,
   "id": "46374f11-ab4f-4263-9c36-74615dbd1541",
   "metadata": {},
   "outputs": [],
   "source": []
  },
  {
   "cell_type": "markdown",
   "id": "e2f7b117-a724-4503-9911-c551e3059b86",
   "metadata": {},
   "source": [
    "Financial engineering in three subfields\n",
    "1. Pricing\n",
    "2. Risk management\n",
    "3. Trading strategies"
   ]
  },
  {
   "cell_type": "markdown",
   "id": "106e0bfa-6b4e-460b-9481-f8073edccab9",
   "metadata": {},
   "source": [
    "We can do an experiment, if we first calculate the log return of each asset, then use additive method to calculate the portfolio return, would it be the same as the simple return?"
   ]
  },
  {
   "cell_type": "code",
   "execution_count": null,
   "id": "5b892630-ef89-4576-8143-18ff1cf47715",
   "metadata": {},
   "outputs": [],
   "source": []
  },
  {
   "cell_type": "code",
   "execution_count": null,
   "id": "22fbd625-f024-4c1e-893c-47688ab57ae6",
   "metadata": {},
   "outputs": [],
   "source": []
  }
 ],
 "metadata": {
  "kernelspec": {
   "display_name": "Python 3 (ipykernel)",
   "language": "python",
   "name": "python3"
  },
  "language_info": {
   "codemirror_mode": {
    "name": "ipython",
    "version": 3
   },
   "file_extension": ".py",
   "mimetype": "text/x-python",
   "name": "python",
   "nbconvert_exporter": "python",
   "pygments_lexer": "ipython3",
   "version": "3.12.0"
  }
 },
 "nbformat": 4,
 "nbformat_minor": 5
}
