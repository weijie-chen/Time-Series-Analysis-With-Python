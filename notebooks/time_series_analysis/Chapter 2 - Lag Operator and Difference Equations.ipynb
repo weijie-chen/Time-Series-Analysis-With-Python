{
 "cells": [
  {
   "cell_type": "code",
   "execution_count": 104,
   "metadata": {},
   "outputs": [],
   "source": [
    "import sympy as sy\n",
    "from scipy.optimize import fsolve\n",
    "import sympy as sy\n",
    "\n",
    "import pandas as pd\n",
    "import numpy as np\n",
    "import matplotlib.pyplot as plt\n",
    "from pandas_datareader import data, wb\n",
    "import datetime as dt\n",
    "import statsmodels.formula.api as smf\n",
    "import statsmodels.api as sm\n",
    "import scipy as sp\n",
    "from matplotlib.gridspec import GridSpec\n",
    "from statsmodels.graphics.tsaplots import plot_acf\n",
    "from statsmodels.graphics.tsaplots import pacf as pacf_func\n",
    "from statsmodels.graphics.tsaplots import acf as acf_func\n",
    "from statsmodels.tsa.stattools import adfuller\n",
    "import statsmodels.graphics.tsaplots as tsa\n",
    "\n",
    "from statsmodels.graphics.tsaplots import plot_pacf\n",
    "from statsmodels.tsa.arima_process import ArmaProcess\n",
    "from statsmodels.tsa.arima.model import ARIMA\n",
    "\n",
    "import pmdarima as pm\n",
    "from pmdarima import model_selection\n",
    "\n",
    "plt.style.use(\"ggplot\")\n",
    "import tseries_func as tf\n",
    "\n",
    "import warnings\n",
    "\n",
    "warnings.filterwarnings(\"ignore\")"
   ]
  },
  {
   "cell_type": "markdown",
   "metadata": {},
   "source": [
    "# <font face=\"gotham\" color=\"purple\"> Lag Operator </font>"
   ]
  },
  {
   "cell_type": "markdown",
   "metadata": {},
   "source": [
    "Lag operator is a type of linear operator especially convenient in time series analysis, it has all properties that a linear operator should have.\n",
    "\n",
    "Consider an infinite time series $\\{y_t\\}^{\\infty}_{t=-\\infty}$, we operate with one lag is denoted as\n",
    "\n",
    "$$\n",
    "Ly_t = y_{t-1}\n",
    "$$"
   ]
  },
  {
   "cell_type": "markdown",
   "metadata": {},
   "source": [
    "Lag twice or three times\n",
    "\n",
    "$$\n",
    "L^2y_t = y_{t-2},\\qquad L^3y_t = y_{t-3}\n",
    "$$"
   ]
  },
  {
   "cell_type": "markdown",
   "metadata": {},
   "source": [
    "Or a polynomial lag operation \n",
    "\n",
    "$$\n",
    "(1- 3L)(2+4L)(1+2L)y_t\n",
    "$$"
   ]
  },
  {
   "cell_type": "markdown",
   "metadata": {},
   "source": [
    "It would be easier to demonstrate with SymPy's algebraic capacity:"
   ]
  },
  {
   "cell_type": "code",
   "execution_count": 2,
   "metadata": {},
   "outputs": [
    {
     "data": {
      "text/latex": [
       "$\\displaystyle - 24 L^{3} - 16 L^{2} + 2 L + 2$"
      ],
      "text/plain": [
       "-24*L**3 - 16*L**2 + 2*L + 2"
      ]
     },
     "execution_count": 2,
     "metadata": {},
     "output_type": "execute_result"
    }
   ],
   "source": [
    "L = sy.symbols(\"L\")\n",
    "poly = (1 - 3 * L) * (2 + 4 * L) * (1 + 2 * L)\n",
    "poly.expand()"
   ]
  },
  {
   "cell_type": "markdown",
   "metadata": {},
   "source": [
    "Operate on $y_t$\n",
    "\n",
    "$$\n",
    "(- 24 L^{3} - 16 L^{2} + 2 L + 2)y_t = -24y_{t-3}-16y_{t-2}+2y_{t-1}+2y_t\n",
    "$$"
   ]
  },
  {
   "cell_type": "markdown",
   "metadata": {},
   "source": [
    "# <font face=\"gotham\" color=\"purple\"> $1st$-Order Difference Equations </font>"
   ]
  },
  {
   "cell_type": "markdown",
   "metadata": {},
   "source": [
    "Start with \n",
    "\n",
    "$$\n",
    "y_t = \\phi y_{t-1}+u_t \n",
    "$$"
   ]
  },
  {
   "cell_type": "markdown",
   "metadata": {},
   "source": [
    "Use lag operator and rearrange\n",
    "$$\n",
    "y_t-\\phi L y_t = u_t\\qquad\\longrightarrow\\qquad(1-\\phi L)y_t = u_t\n",
    "$$"
   ]
  },
  {
   "cell_type": "markdown",
   "metadata": {},
   "source": [
    "That mean it must be an inverse of $(1-\\phi L)$ which achieves\n",
    "\\begin{align}\n",
    "(1-\\phi L)^{-1}(1-\\phi L)y_t&=(1-\\phi L)^{-1}u_t\\\\\n",
    "y_t&=(1-\\phi L )^{-1}u_t\\tag{1}\\label{1}\n",
    "\\end{align}"
   ]
  },
  {
   "cell_type": "markdown",
   "metadata": {},
   "source": [
    "How do we find out what $(1-\\phi L)^{-1}$ is?"
   ]
  },
  {
   "cell_type": "markdown",
   "metadata": {},
   "source": [
    "Fortunately, we have encountered this type of series in high school, $(1-\\phi L)^{-1}$ can be expanded into an infinite geometric series\n",
    "\n",
    "$$\n",
    "\\frac{1}{1-\\phi L} = 1 + \\phi L + \\phi^2L^2 + \\phi^3L^3 + \\cdots =\\sum_{i=0}^\\infty (\\phi L)^i\n",
    "$$"
   ]
  },
  {
   "cell_type": "markdown",
   "metadata": {},
   "source": [
    "Rewrite equation $(1)$\n",
    "\n",
    "$$\n",
    "y_t = (1 + \\phi  L + \\phi^2L^2 + \\phi ^3L^3 + \\cdots)u_t = u_t +\\phi u_{t-1}+\\phi ^2u_{t-2} + \\phi ^3u_{t-3}+\\cdots \\tag{2}\\label{2}\n",
    "$$"
   ]
  },
  {
   "cell_type": "markdown",
   "metadata": {},
   "source": [
    "However, though we start from $y_t = \\phi y_{t-1}+u_t $ and derived $(2)$, they are not essential consistent. \n",
    "\n",
    "Because recall the solution of the $1st$ order difference equation by recursive substitution\n",
    "\n",
    "$$\n",
    "y_t = \\phi ^t y_0 + \\phi ^{t-1}u_{1} +  \\phi ^{t-2}u_{2} +\\phi ^{t-3}u_{3} + ... + \\phi u_{t-1} + u_t\\tag{3}\\label{3}\n",
    "$$"
   ]
  },
  {
   "cell_type": "markdown",
   "metadata": {},
   "source": [
    "Obviously, if you substract $(3)$ from $(2)$, it doesn't get a $0$."
   ]
  },
  {
   "cell_type": "markdown",
   "metadata": {},
   "source": [
    "The the leftover infinite series has high powers on $t$, they converge to $0$ on condition that $|\\phi|<1$, therefore the only missing term is $\\phi ^ty_0$. \n",
    "\n",
    "But we can still that the equation $(1)$ holds\n",
    "\\begin{align}\n",
    "y_t &= \\phi^ty_0 + (1-\\phi L)^{-1}u_t\\\\\n",
    "(1-\\phi L)y_t &= (1-\\phi L)\\phi^ty_0 + (1-\\phi L)(1-\\phi L)^{-1}u_t\\\\\n",
    "& = \\phi^ty_0 -\\phi\\phi^{t-1}y_0 + u_t\\\\\n",
    "&=u_t\n",
    "\\end{align}\n",
    "We proved $y_t=(1-\\phi L)^{-1}u_t $, here we assume that $y_0$ is an _initial condition_ which is a constant, which guarantees $Ly_0 = y_0$."
   ]
  },
  {
   "cell_type": "markdown",
   "metadata": {},
   "source": [
    "# <font face=\"gotham\" color=\"purple\"> $2nd$-Order Difference Equations</font>"
   ]
  },
  {
   "cell_type": "markdown",
   "metadata": {},
   "source": [
    "Consider a $2nd$-order difference equation:\n",
    "\n",
    "$$\n",
    "y_t=\\phi_1y_{t-1}+\\phi_2y_{t-2}+u_t \\tag{4}\\label{4}\n",
    "$$\n",
    "\n",
    "In lag operator form\n",
    "\n",
    "$$\n",
    "(1-\\phi_1L-\\phi_2L^2)y_t=u_t\n",
    "$$"
   ]
  },
  {
   "cell_type": "markdown",
   "metadata": {},
   "source": [
    "The polynomial on the LHS can be factored\n",
    "\n",
    "$$\n",
    "1-\\phi_1L-\\phi_2L^2 = (1-\\lambda_1 L)(1-\\lambda_2 L) = 1-(\\lambda_1+\\lambda_2) L + \\lambda_1\\lambda_2 L^2\n",
    "$$"
   ]
  },
  {
   "cell_type": "markdown",
   "metadata": {},
   "source": [
    "The parameters of polynomial can be pinned down by a system of nonlinear equations\n",
    "\\begin{align}\n",
    "\\lambda_1+\\lambda_2 &= \\phi_1\\\\\n",
    "\\lambda_1\\lambda_2&=-\\phi_2\n",
    "\\end{align}"
   ]
  },
  {
   "cell_type": "markdown",
   "metadata": {},
   "source": [
    "Assume the model is\n",
    "$$\n",
    "y_t=0.9y_{t-1}+0.3y_{t-2}+u_t\n",
    "$$"
   ]
  },
  {
   "cell_type": "markdown",
   "metadata": {},
   "source": [
    "Solve the system of nonlinear equations with ```fsolve```"
   ]
  },
  {
   "cell_type": "code",
   "execution_count": 3,
   "metadata": {},
   "outputs": [
    {
     "name": "stdout",
     "output_type": "stream",
     "text": [
      "lambda1 : 1.1589, lambda2： -0.2589\n"
     ]
    }
   ],
   "source": [
    "def func(lamda):\n",
    "    lamda1, lamda2 = lamda[0], lamda[1]\n",
    "    F = np.empty(2)\n",
    "    F[0] = lamda1 + lamda2 - 0.9\n",
    "    F[1] = lamda1 * lamda2 + 0.3\n",
    "    return F\n",
    "\n",
    "\n",
    "lamda_guess = np.array([0, 0])  # [1, 1] is initial value\n",
    "lamda1, lamda2 = fsolve(func, lamda_guess)\n",
    "print(\"lambda1 : {:.4f}, lambda2： {:.4f}\".format(lamda1, lamda2))"
   ]
  },
  {
   "cell_type": "markdown",
   "metadata": {},
   "source": [
    "$$\n",
    "1-0.9L-0.3L^2 = (1-\\underbrace{1.1589}_{\\lambda_1} L)(1+\\underbrace{0.2589}_{-\\lambda_2} L)\n",
    "$$"
   ]
  },
  {
   "cell_type": "markdown",
   "metadata": {},
   "source": [
    "As a reference, we post another solution from $2nd$ order difference equation, more details are in later sections"
   ]
  },
  {
   "cell_type": "code",
   "execution_count": 4,
   "metadata": {},
   "outputs": [
    {
     "name": "stdout",
     "output_type": "stream",
     "text": [
      "lambda1 and lambda2 are 1.159 and -0.259 respectively.\n"
     ]
    }
   ],
   "source": [
    "lamda1 = (0.9 + np.sqrt(0.9**2 + 4 * 0.3)) / 2\n",
    "lamda2 = (0.9 - np.sqrt(0.9**2 + 4 * 0.3)) / 2\n",
    "print(\n",
    "    \"lambda1 and lambda2 are {0:.3f} and {1:.3f} respectively.\".format(lamda1, lamda2)\n",
    ")"
   ]
  },
  {
   "cell_type": "markdown",
   "metadata": {},
   "source": [
    "The $\\lambda$'s here are actually the eigenvalues of the linear system if we rewrite the system into a matrix form. But don't worry about the details yet, we will demonstrate the gory details in this chapter later.\n",
    "\n",
    "The system $(4)$ will be stable only when both eigenvalues, $\\lambda_1$ and $\\lambda_2$'s modulus less than $1$, geometrically they must lie inside a unit circle, if lie on the unit circle or outside, the system is explosive."
   ]
  },
  {
   "cell_type": "code",
   "execution_count": 5,
   "metadata": {},
   "outputs": [],
   "source": [
    "ar_params = np.array([1, -0.8, 0.35])  # alwasy specify zero lag as 1\n",
    "ma_params = np.array([1])  # alwasy specify zero lag as 1\n",
    "ar2 = ArmaProcess(ar_params, ma_params)  # the Class requires AR and MA's parameters\n",
    "ar2_sim = ar2.generate_sample(nsample=100)\n",
    "ar2_sim = pd.DataFrame(ar2_sim, columns=[\"AR(2)\"])\n",
    "ar2_acf = acf_func(ar2_sim.values, fft=False, nlags=50)  # return the numerical ACF"
   ]
  },
  {
   "cell_type": "code",
   "execution_count": 6,
   "metadata": {},
   "outputs": [
    {
     "data": {
      "image/png": "[encoded data removed]",
      "text/plain": [
       "<Figure size 1008x360 with 2 Axes>"
      ]
     },
     "metadata": {},
     "output_type": "display_data"
    }
   ],
   "source": [
    "fig, ax = plt.subplots(figsize=(14, 5), nrows=1, ncols=2)\n",
    "ar2_sim.plot(ax=ax[0])\n",
    "pd.DataFrame(ar2_acf).plot.bar(ax=ax[1], label=\"ACF\")\n",
    "plt.show()"
   ]
  },
  {
   "cell_type": "markdown",
   "metadata": {
    "tags": []
   },
   "source": [
    "# <font face=\"gotham\" color=\"purple\"> Solving $1st$ Order Difference Equations </font>"
   ]
  },
  {
   "cell_type": "markdown",
   "metadata": {},
   "source": [
    "Now we turn to difference equations in more details, which are horses of all dynamic system researches, including time series analysis."
   ]
  },
  {
   "cell_type": "markdown",
   "metadata": {},
   "source": [
    "Difference equations are commonly solved by _recursive substitution_, consider the $1st$ difference equation below, where $u_t$ is a white noise process\n",
    "\n",
    "$$\n",
    "y_t = \\phi y_{t-1} + u_t \\tag{5}\\label{5}\n",
    "$$\n",
    "\n",
    "and shift one period backward\n",
    "\n",
    "$$\n",
    "y_{t-1} =\\phi  y_{t-2} + u_{t-1}\n",
    "$$"
   ]
  },
  {
   "cell_type": "markdown",
   "metadata": {},
   "source": [
    "Substitute back to the original equation $(1)$\n",
    "\n",
    "$$\n",
    "y_t = \\phi (\\phi y_{t-2} + u_{t-1}) + u_t = \\phi^2y_{t-2} + \\phi u_{t-1} +u_t\n",
    "$$\n",
    "\n",
    "then substitute $y_{t-2}$, \n",
    "\n",
    "$$\n",
    "y_t = \\phi^2(\\phi y_{t-3} + u_{t-2})  + \\phi u_{t-1}= \\phi^3y_{t-3}+\\phi^2u_{t-2}+\\phi u_{t-1}+u_t\n",
    "$$\n",
    "\n",
    "continue the recursive substitution, the solution will take form as an infinite series\n",
    "\n",
    "$$\n",
    "y_t = \\phi^t y_0 + \\phi^{t-1}u_{1} +  \\phi^{t-2}u_{2} + \\phi^{t-3}u_{3} + ... + \\phi u_{t-1} + u_t\n",
    "$$"
   ]
  },
  {
   "cell_type": "markdown",
   "metadata": {},
   "source": [
    "## <font face=\"gotham\" color=\"purple\"> Dynamic Multiplier</font>"
   ]
  },
  {
   "cell_type": "markdown",
   "metadata": {},
   "source": [
    "The dynamic multiplier is a partial derivative toward $u_i,\\ i \\in (1,2,.., t)$, e.g. dynamic multiplier of $u_1$\n",
    "\n",
    "$$\n",
    "\\frac{\\partial y_t}{\\partial u_1} = \\phi^{t-1}\n",
    "$$"
   ]
  },
  {
   "cell_type": "markdown",
   "metadata": {},
   "source": [
    "The value of $\\phi$ characterizes the pattern of the difference equation.\n",
    "\n",
    "The charts below shows how the parameter $\\phi$ determines the system."
   ]
  },
  {
   "cell_type": "code",
   "execution_count": 7,
   "metadata": {},
   "outputs": [
    {
     "data": {
      "image/png": "[encoded data removed]",
      "text/plain": [
       "<Figure size 864x504 with 4 Axes>"
      ]
     },
     "metadata": {},
     "output_type": "display_data"
    }
   ],
   "source": [
    "y = np.zeros(30)\n",
    "y[0] = 100\n",
    "\n",
    "ax_pos = [221, 222, 223, 224]\n",
    "fig = plt.figure(figsize=(12, 7))\n",
    "tt = [\"$\\phi=.9$\", \"$\\phi=1$\", \"$\\phi=1.3$\", \"$\\phi=-0.8$\"]\n",
    "phi = [0.9, 1, 1.3, -0.8]\n",
    "\n",
    "for j in range(4):\n",
    "    ax = fig.add_subplot(ax_pos[j])\n",
    "    for i in range(1, 30):\n",
    "        u = np.random.randn()\n",
    "        y[i] = phi[j] * y[i - 1] + u\n",
    "    ax.bar(np.arange(len(y)), y)\n",
    "    ax.set_title(tt[j], size=16)\n",
    "plt.suptitle(r\"$y_t=\\phi y_{t-1}+u_t$\", size=22)\n",
    "plt.show()"
   ]
  },
  {
   "cell_type": "markdown",
   "metadata": {},
   "source": [
    "As long as $-1<\\phi<1$, the system will be stable, otherwise explosive."
   ]
  },
  {
   "cell_type": "markdown",
   "metadata": {},
   "source": [
    "## <font face=\"gotham\" color=\"purple\"> Impulse Response Function of AR(1)</font>"
   ]
  },
  {
   "cell_type": "markdown",
   "metadata": {},
   "source": [
    "Impulse response function (IRF) depicts the path of $Y$ from a unit impulse in $u$.\n",
    "\n",
    "For an $\\text{AR}(1)$ model, the IRF is straightforward, for example\n",
    "$$\n",
    "Y_t = .88 Y_{t-1}+u_t\n",
    "$$\n",
    "The IRF is traced out by a recursive substitution\n",
    "$$\n",
    "\\begin{align}\n",
    "\\text{IRF}(0)&=1\\\\\n",
    "\\text{IRF}(1)&=0.88\\times \\text{IRF}(0)\\\\\n",
    "\\text{IRF}(2)&=0.88\\times \\text{IRF}(1)\\\\\n",
    "\\text{IRF}(3)&=0.88\\times \\text{IRF}(2)\\\\\n",
    "&\\ldots\n",
    "\\end{align}\n",
    "$$\n",
    "So for $\\text{AR(1)}$, the IRF is simply coefficient raise to the power of horizon\n",
    "$$\n",
    "\\text{IRF}(k)=\\theta^k\n",
    "$$"
   ]
  },
  {
   "cell_type": "code",
   "execution_count": 180,
   "metadata": {},
   "outputs": [],
   "source": [
    "def irf_ar1(theta, horizon, impluse=1):\n",
    "    irf = [impluse]\n",
    "    for i in range(0, horizon):\n",
    "        irf.append(irf[-1] * theta**i)\n",
    "    irf[0] = 0\n",
    "    return irf"
   ]
  },
  {
   "cell_type": "code",
   "execution_count": 199,
   "metadata": {},
   "outputs": [],
   "source": [
    "irf = irf_ar1(0.97, 20)"
   ]
  },
  {
   "cell_type": "code",
   "execution_count": 210,
   "metadata": {},
   "outputs": [
    {
     "data": {
      "image/png": "[encoded data removed]",
      "text/plain": [
       "<Figure size 864x360 with 2 Axes>"
      ]
     },
     "metadata": {},
     "output_type": "display_data"
    }
   ],
   "source": [
    "impulse = np.zeros(len(irf))\n",
    "impulse[1] = 1\n",
    "fig, ax = plt.subplots(figsize=(12, 5), nrows=2, ncols=1)\n",
    "ax[0].bar(np.arange(len(irf)), irf)\n",
    "ax[0].bar(np.arange(len(impulse)), impulse, color=\"Coral\")\n",
    "ax[1].bar(np.arange(len(impulse)), impulse, label=\"Unit Impulse\", color=\"Coral\")\n",
    "plt.legend()\n",
    "plt.suptitle(\"Impluse Reponse Function of AR(1)\")\n",
    "plt.show()"
   ]
  },
  {
   "cell_type": "markdown",
   "metadata": {},
   "source": [
    "However for $\\text{AR(p)}$, the IRF is taking a confusing expression. For instance, an $\\text{AR}(3)$ model\n",
    "$$\n",
    "Y_t = 0.94 Y_{t-1} - 0.35 Y_{t-2} -0.3 Y_{t-3} +u_t\n",
    "$$"
   ]
  },
  {
   "cell_type": "markdown",
   "metadata": {},
   "source": [
    "\n",
    "\\begin{align}\n",
    "\\text{IRF}(0)=1&\\\\\n",
    "\\text{IRF}(1)=0.94\\times \\text{IRF}(0)=0.94&\\\\\n",
    "\\text{IRF}(2)=0.94 \\times \\text{IRF}(1)-0.35 \\times \\text{IRF}(0)=0.5336&\\\\\n",
    "\\text{IRF}(3)=0.94 \\times \\text{IRF}(2)-0.35\\times \\text{IRF}(1)-0.3 \\times \\text{IRF}(0)=-0.1274&\\\\\n",
    "\\text{IRF}(4)=0.94 \\times \\text{IRF}(3)-0.35 \\times \\text{IRF}(2)-0.3  \\times \\text{IRF}(1)=-0.5885\\\\\n",
    "\\text{IRF}(j)=0.94 \\times \\text{IRF}(j-1)-0.35\\times \\text{IRF}(j-2)-0.3 \\times \\text{IRF}(j-3)&\n",
    "\\end{align}"
   ]
  },
  {
   "cell_type": "markdown",
   "metadata": {},
   "source": [
    "Though this is the fundamental algorithm of IRF, rarely programs are written exactly as this recursive form.\n",
    "\n",
    "Once we discussed the $k$-th order difference equation, we will see there is a way simpler approach in matrix form."
   ]
  },
  {
   "cell_type": "markdown",
   "metadata": {},
   "source": [
    "# <font face=\"gotham\" color=\"purple\"> Solving $k$-th Order Difference Equations</font>"
   ]
  },
  {
   "cell_type": "markdown",
   "metadata": {},
   "source": [
    "Define the $k$-vector $\\pmb{y}_t$ by\n",
    "\n",
    "$$\n",
    "\\pmb{y}_t=\n",
    "\\left[\n",
    "\\begin{matrix}\n",
    "y_t\\\\\n",
    "y_{t-1}\\\\\n",
    "y_{t-2}\\\\\n",
    "\\vdots\\\\\n",
    "y_{t-k+1}\n",
    "\\end{matrix}\n",
    "\\right]\n",
    "$$"
   ]
  },
  {
   "cell_type": "markdown",
   "metadata": {},
   "source": [
    "Define the $k\\times k$ matrix $\\pmb{F}$ by\n",
    "\n",
    "$$\n",
    "\\pmb{F}=\n",
    "\\left[\n",
    "\\begin{matrix}\n",
    "\\phi_1 & \\phi_2 & \\phi_3 &\\cdots &\\phi_{k-1} & \\phi_k\\\\\n",
    "1 & 0 & 0 &\\cdots &0 & 0\\\\\n",
    "0 & 1 & 0 &\\cdots &0 & 0\\\\\n",
    "\\vdots  &\\vdots & \\vdots& \\ddots &\\vdots & \\vdots\\\\\n",
    "0 & 0 & 0 &\\cdots & 1 & 0\n",
    "\\end{matrix}\n",
    "\\right]\n",
    "$$"
   ]
  },
  {
   "cell_type": "markdown",
   "metadata": {},
   "source": [
    "Last, define $k$-vector $\\pmb{u}_t$ by\n",
    "\n",
    "$$\n",
    "\\pmb{u_t}=\n",
    "\\left[\n",
    "\\begin{matrix}\n",
    "u_t\\\\\n",
    "0\\\\\n",
    "0\\\\\n",
    "\\vdots\\\\\n",
    "0\n",
    "\\end{matrix}\n",
    "\\right]\n",
    "$$"
   ]
  },
  {
   "cell_type": "markdown",
   "metadata": {},
   "source": [
    "Thus linear system in matrix form is \n",
    "\n",
    "$$\n",
    "\\pmb{y}_t = \\pmb{F}\\pmb{y}_{t-1}+\\pmb{u}_t  \n",
    "$$\n",
    "\n",
    "or explicitly\n",
    "\n",
    "$$\n",
    "\\left[\n",
    "\\begin{matrix}\n",
    "y_t\\\\\n",
    "y_{t-1}\\\\\n",
    "y_{t-2}\\\\\n",
    "\\vdots\\\\\n",
    "y_{t-k+1}\n",
    "\\end{matrix}\n",
    "\\right]=\n",
    "\\left[\n",
    "\\begin{matrix}\n",
    "\\phi_1 & \\phi_2 & \\phi_3 &\\cdots &\\phi_{k-1} &\\phi_k\\\\\n",
    "1 & 0 & 0 &\\cdots &0 & 0\\\\\n",
    "0 & 1 & 0 &\\cdots &0 & 0\\\\\n",
    "\\vdots  &\\vdots & \\vdots& \\ddots &\\vdots & \\vdots\\\\\n",
    "0 & 0 & 0 &\\cdots & 1 & 0\n",
    "\\end{matrix}\n",
    "\\right]\n",
    "\\left[\n",
    "\\begin{matrix}\n",
    "y_{t-1}\\\\\n",
    "y_{t-2}\\\\\n",
    "y_{t-3}\\\\\n",
    "\\vdots\\\\\n",
    "y_{t-k}\n",
    "\\end{matrix}\n",
    "\\right]\n",
    "+\n",
    "\\left[\n",
    "\\begin{matrix}\n",
    "u_t\\\\\n",
    "0\\\\\n",
    "0\\\\\n",
    "\\vdots\\\\\n",
    "0\n",
    "\\end{matrix}\n",
    "\\right]\n",
    "$$"
   ]
  },
  {
   "cell_type": "markdown",
   "metadata": {},
   "source": [
    "The recursive substitutions of matrix form give us a general expression\n",
    "\n",
    "$$\n",
    "\\pmb{y}_t = \\pmb{F}^t \\pmb{y}_0 + \\pmb{F}^{t-1}\\pmb{u}_{1} + \\pmb{F}^{t-2}\\pmb{u}_{2} + \\pmb{F}^{t-3}\\pmb{u}_{3} + ... + \\pmb{F}\\pmb{u}_{t-1} + \\pmb{u}_t\n",
    "$$"
   ]
  },
  {
   "cell_type": "markdown",
   "metadata": {},
   "source": [
    "$$\n",
    "\\begin{aligned}\n",
    "\\left[\\begin{array}{c}\n",
    "y_{t} \\\\\n",
    "y_{t-1} \\\\\n",
    "y_{t-2} \\\\\n",
    "\\vdots \\\\\n",
    "y_{t-k+1}\n",
    "\\end{array}\\right]=\\pmb{F}^{t}\\left[\\begin{array}{c}\n",
    "y_{0} \\\\\n",
    "y_{-1} \\\\\n",
    "y_{-2} \\\\\n",
    "\\vdots \\\\\n",
    "y_{-k+1}\n",
    "\\end{array}\\right]+\\pmb{F}^{t-1}\\left[\\begin{array}{c}\n",
    "u_{1} \\\\\n",
    "0 \\\\\n",
    "0 \\\\\n",
    "\\vdots \\\\\n",
    "0\n",
    "\\end{array}\\right]+\\pmb{F}^{t-2}\\left[\\begin{array}{c}\n",
    "u_{2} \\\\\n",
    "0 \\\\\n",
    "0 \\\\\n",
    "\\vdots \\\\\n",
    "0\n",
    "\\end{array}\\right]\n",
    "+\\pmb{F}^{t-3}\\left[\\begin{array}{c}\n",
    "u_{3} \\\\\n",
    "0 \\\\\n",
    "0 \\\\\n",
    "\\vdots \\\\\n",
    "0\n",
    "\\end{array}\\right]+\\cdots+\\pmb{F}\\left[\\begin{array}{c}\n",
    "u_{t-1} \\\\\n",
    "0 \\\\\n",
    "0 \\\\\n",
    "\\vdots \\\\\n",
    "0\n",
    "\\end{array}\\right]\n",
    "\\end{aligned} \n",
    "+\n",
    "\\left[\\begin{array}{c}\n",
    "u_{t} \\\\\n",
    "0 \\\\\n",
    "0 \\\\\n",
    "\\vdots \\\\\n",
    "0\n",
    "\\end{array}\\right]\\tag{6}\\label{6}\n",
    "$$"
   ]
  },
  {
   "cell_type": "markdown",
   "metadata": {},
   "source": [
    "## <font face=\"gotham\" color=\"purple\"> Dynamic Multiplier</font>"
   ]
  },
  {
   "cell_type": "markdown",
   "metadata": {},
   "source": [
    "If $\\pmb{F}$ has $k$ distinct eigenvalues, it is possible to be diagonalized, such that\n",
    "\n",
    "$$\n",
    "\\pmb{F} = \\pmb{P\\Lambda P}^{-1}\n",
    "$$"
   ]
  },
  {
   "cell_type": "markdown",
   "metadata": {},
   "source": [
    "where $\\pmb{P}$ holds all the distinct eigenvectors, whereas all the distinct eigenvalues stay on the principal diagonal of $\\pmb{\\lambda}$."
   ]
  },
  {
   "cell_type": "markdown",
   "metadata": {},
   "source": [
    "The eigenvalue can characterize the dynamic multiplier as we have seen for the $1st$-order difference equation. For instance, $\\pmb{F}^3$ is decomposed as\n",
    "\n",
    "$$\n",
    "\\pmb{F}^3  =  \\pmb{P\\Lambda P}^{-1}  \\pmb{P\\Lambda P}^{-1}  \\pmb{P\\Lambda P}^{-1} = \\pmb{P\\Lambda }  \\pmb{\\Lambda }  \\pmb{\\Lambda P}^{-1} =\\pmb{P}  \\pmb{\\Lambda }^3  \\pmb{P}^{-1} \n",
    "$$"
   ]
  },
  {
   "cell_type": "markdown",
   "metadata": {},
   "source": [
    "where \n",
    "\n",
    "$$\n",
    "\\pmb{\\Lambda }^3  = \\left[\\begin{array}{ccccc}\n",
    "\\lambda_{1}^{3} & 0 & 0 & \\cdots & 0 \\\\\n",
    "0 & \\lambda_{2}^{3} & 0 & \\cdots & 0 \\\\\n",
    "\\vdots & \\vdots & \\vdots & \\ddots & \\vdots \\\\\n",
    "0 & 0 & 0 & \\cdots & \\lambda_{k}^{3}\n",
    "\\end{array}\\right]\n",
    "$$"
   ]
  },
  {
   "cell_type": "markdown",
   "metadata": {},
   "source": [
    "Therefore in general, \n",
    "$$\n",
    "\\pmb{F}^t =\\pmb{P}  \\pmb{\\Lambda }^t  \\pmb{P}^{-1}\n",
    "$$"
   ]
  },
  {
   "cell_type": "markdown",
   "metadata": {},
   "source": [
    "Denote the $(i, j)$ element of $\\pmb{F}^t$ as $f^{(t)}_{ij}$, for instance the $(4, 5)$ element of $\\pmb{F}^{t-1}$ is $f^{(t-1)}_{45}$. The first row of system $(6)$ is"
   ]
  },
  {
   "cell_type": "markdown",
   "metadata": {},
   "source": [
    "$$\n",
    "y_t = f^{(t)}_{11}y_0+ f^{(t)}_{12}y_{-1} + f^{(t)}_{13}y_{-2} + \\cdots + f^{(t)}_{1k}y_{-k-1} + f^{(t-1)}_{11}u_1 +f^{(t-2)}_{11}u_2 +...+f^{1}_{11}u_{t-1}+u_{t}\n",
    "$$"
   ]
  },
  {
   "cell_type": "markdown",
   "metadata": {},
   "source": [
    "To generalize the time span\n",
    "\n",
    "$$\n",
    "y_{t+i} = f^{(i)}_{11}y_t+ f^{(i)}_{12}y_{t-1} + f^{(i)}_{13}y_{t-2} + \\cdots + f^{(i)}_{1k}y_{t-k-1} + f^{(i-1)}_{11}u_t +f^{(i-2)}_{11}u_{t+2} +...+f^{1}_{11}u_{t+i-1}+u_{t+i}\n",
    "$$"
   ]
  },
  {
   "cell_type": "markdown",
   "metadata": {},
   "source": [
    "The dynamic multiplier is \n",
    "\n",
    "$$\n",
    "\\frac{\\partial y_{t+i}}{\\partial u_t} = f^{(i-1)}_{11}\n",
    "$$"
   ]
  },
  {
   "cell_type": "markdown",
   "metadata": {},
   "source": [
    "We can show that dynamic multiplier is a linear combination of the power of eigenvalues.\n",
    "\n",
    "$$\n",
    "\\frac{\\partial y_{t+i}}{\\partial u_t} = f^{(i-1)}_{11} = c_1 \\lambda_1^{i-1}+c_2 \\lambda_2^{i-1}+ \\cdots + c_p \\lambda_p^{i-1}\n",
    "$$"
   ]
  },
  {
   "cell_type": "markdown",
   "metadata": {},
   "source": [
    "## <font face=\"gotham\" color=\"purple\"> Linear Combination of Eigenvalues of $\\pmb{F}$</font>"
   ]
  },
  {
   "cell_type": "markdown",
   "metadata": {},
   "source": [
    "If we denote $t_{ij}$ and $t^{ij}$ the $(i, j)$ element of $\\pmb{P}$ and $\\pmb{P}^{-1}$ respectively. $\\pmb{F}^{i-1}$ can be explicitly written as\n",
    "\n",
    "$$\n",
    "\\pmb{F}^{i-1}=\\left[\\begin{array}{cccc}\n",
    "t_{11} & t_{12} & \\cdots & t_{1 k} \\\\\n",
    "t_{21} & t_{22} & \\cdots & t_{2 k} \\\\\n",
    "\\vdots & \\vdots & \\ddots & \\vdots \\\\\n",
    "t_{k 1} & t_{k 2} & \\cdots & t_{kk}\n",
    "\\end{array}\\right]\\left[\\begin{array}{ccccc}\n",
    "\\lambda_{1}^{i-1} & 0 & 0 & \\cdots & 0 \\\\\n",
    "0 & \\lambda_{2}^{i-1} & 0 & \\cdots & 0 \\\\\n",
    "\\vdots & \\vdots & \\vdots & \\ddots & \\vdots \\\\\n",
    "0 & 0 & 0 & \\cdots & \\lambda_{k}^{i-1}\n",
    "\\end{array}\\right]\\left[\\begin{array}{ccccc}\n",
    "t^{11} & t^{12} & \\cdots & t^{1 k} \\\\\n",
    "t^{21} & t^{22} & \\cdots & t^{2 k} \\\\\n",
    "\\vdots & \\vdots & \\ddots & \\vdots \\\\\n",
    "t^{k 1} & t^{k 2} & \\cdots & t^{k k}\n",
    "\\end{array}\\right]\n",
    "$$"
   ]
  },
  {
   "cell_type": "markdown",
   "metadata": {},
   "source": [
    "The $(1, 1)$ element of $\\pmb{F}^{i-1}$ is \n",
    "\n",
    "\\begin{align}\n",
    "f^{(i-1)}_{11}&=\\left(t_{11} t^{11}\\right) \\lambda_{1}^{i-1}+\\left(t_{12} t^{21}\\right) \\lambda_{2}^{i-1}+\\cdots+\\left(t_{1 k} t^{k 1}\\right) \\lambda_{k}^{i-1}\\\\&=c_{1} \\lambda_{1}^{i-1}+c_{2} \\lambda_{2}^{i-1}+\\cdots+c_{p} \\lambda_{k}^{i-1}\n",
    "\\end{align}"
   ]
  },
  {
   "cell_type": "markdown",
   "metadata": {},
   "source": [
    "where $c_j = t_{1j}t^{j1},\\ j \\in (1,...,k)$."
   ]
  },
  {
   "cell_type": "markdown",
   "metadata": {},
   "source": [
    "Fortunately, not hard to notice that\n",
    "\n",
    "$$\n",
    "c_1+c_2+\\cdots+c_k = t_{11}t^{11}+t_{12}t^{21}+\\cdots + t_{1k}t^{k1}=1\n",
    "$$\n",
    "\n",
    "is the $(1,1)$ element of $\\pmb{P}\\pmb{P}^{-1}$ which also happen to be $1$."
   ]
  },
  {
   "cell_type": "markdown",
   "metadata": {},
   "source": [
    "We have completed the proof that the dynamic multiplier is the linear combination of eigenvalues\n",
    "\n",
    "$$\n",
    "\\frac{\\partial y_{t+i}}{\\partial u_t} = f^{(i-1)}_{11} = c_1 \\lambda_1^{i-1}+c_2 \\lambda_2^{i-1}+ \\cdots + c_p \\lambda_p^{i-1}\n",
    "$$"
   ]
  },
  {
   "cell_type": "markdown",
   "metadata": {},
   "source": [
    "## <font face=\"gotham\" color=\"purple\"> Solution of $2nd$-Order Difference Equation</font>"
   ]
  },
  {
   "cell_type": "markdown",
   "metadata": {},
   "source": [
    "For a $2nd$ order difference equation\n",
    "$$\n",
    "y_t = \\phi_1 y_{t-1} +\\phi_2 y_{t-2} u_t \n",
    "$$\n",
    "The eigenvalues of $\\pmb{F}$ is found by solving characteristic equation $|\\pmb{F}-\\lambda \\pmb{I}_p|=0$, if you don't know what it means, click <a href='https://nbviewer.org/github/WeijieChen-MacroAnalyst/Linear_Algebra_With_Python/blob/master/Chapter%2012%20-%20Eigenvalues%20and%20Eigenvectors.ipynb'>here</a>, explicitly\n",
    "\n",
    "$$\n",
    "\\left|\n",
    "\\left[\n",
    "\\begin{matrix}\n",
    "\\phi_1 & \\phi_2\\\\\n",
    "1 & 0\n",
    "\\end{matrix}\n",
    "\\right]-\n",
    "\\lambda\\left[\n",
    "\\begin{matrix}\n",
    "1 & 0\\\\\n",
    "0 & 1\n",
    "\\end{matrix}\n",
    "\\right]\n",
    "\\right|=0\n",
    "$$\n",
    "\n",
    "or in polynomial form\n",
    "\n",
    "$$\n",
    "\\left|\n",
    "\\begin{matrix}\n",
    "\\phi_1-\\lambda & \\phi_2\\\\\n",
    "1 & -\\lambda\n",
    "\\end{matrix}\n",
    "\\right|=\n",
    "\\lambda^2-\\phi_1\\lambda-\\phi_2=0\n",
    "$$"
   ]
  },
  {
   "cell_type": "markdown",
   "metadata": {},
   "source": [
    "Now recall a high school formula \n",
    "\n",
    "$$\n",
    "x=\\frac{-b \\pm \\sqrt{b^{2}+4 a c}}{2 a}\n",
    "$$"
   ]
  },
  {
   "cell_type": "markdown",
   "metadata": {},
   "source": [
    "We obtain roots by plug-in\n",
    "\n",
    "$$\n",
    "\\lambda_1=\\frac{\\phi_1+\\sqrt{\\phi_1^2+4\\phi_2}}{2}\\\\\n",
    "\\lambda_2=\\frac{\\phi_1-\\sqrt{\\phi_1^2+4\\phi_2}}{2}\n",
    "$$"
   ]
  },
  {
   "cell_type": "markdown",
   "metadata": {},
   "source": [
    "As an example, consider a second-order difference equation\n",
    "$$\n",
    "y_t=0.9y_{t-1}+0.3y_{t-2}+u_t\n",
    "$$\n",
    "\n",
    "Solve for the eigenvalues via formulae above "
   ]
  },
  {
   "cell_type": "code",
   "execution_count": 8,
   "metadata": {},
   "outputs": [
    {
     "name": "stdout",
     "output_type": "stream",
     "text": [
      "lambda1 and lambda2 are 1.159 and -0.259 respectively.\n"
     ]
    }
   ],
   "source": [
    "lamda1 = (0.9 + np.sqrt(0.9**2 + 4 * 0.3)) / 2\n",
    "lamda2 = (0.9 - np.sqrt(0.9**2 + 4 * 0.3)) / 2\n",
    "print(\n",
    "    \"lambda1 and lambda2 are {0:.3f} and {1:.3f} respectively.\".format(lamda1, lamda2)\n",
    ")"
   ]
  },
  {
   "cell_type": "markdown",
   "metadata": {},
   "source": [
    "We actually used the exact the same example from lag operator's section, the eigenvalues, as expected, the same as before."
   ]
  },
  {
   "cell_type": "markdown",
   "metadata": {},
   "source": [
    "The weight of power of eigenvalues are evaluated by\n",
    "\n",
    "$$\n",
    "c_1 = \\frac{\\lambda_1}{\\lambda_1 +|\\lambda_2|}\\\\\n",
    "c_2 = \\frac{|\\lambda_2|}{\\lambda_1 +|\\lambda_2|}\n",
    "$$"
   ]
  },
  {
   "cell_type": "code",
   "execution_count": 9,
   "metadata": {},
   "outputs": [
    {
     "name": "stdout",
     "output_type": "stream",
     "text": [
      "c1 and c2 are 0.817 and 0.183 respectively.\n"
     ]
    }
   ],
   "source": [
    "c1 = lamda1 / (lamda1 + np.abs(lamda2))\n",
    "c2 = np.abs(lamda2) / (lamda1 + np.abs(lamda2))\n",
    "print(\"c1 and c2 are {0:.3f} and {1:.3f} respectively.\".format(c1, c2))"
   ]
  },
  {
   "cell_type": "markdown",
   "metadata": {},
   "source": [
    "The dynamic multiplier from $1$ to $20$ period\n",
    "$$\n",
    "\\frac{\\partial y_{t+i}}{\\partial u_t}= c_1 \\lambda_1^{i-1}+c_2 \\lambda_2^{i-1} \n",
    "$$"
   ]
  },
  {
   "cell_type": "code",
   "execution_count": 10,
   "metadata": {},
   "outputs": [
    {
     "data": {
      "image/png": "[encoded data removed]",
      "text/plain": [
       "<Figure size 432x288 with 1 Axes>"
      ]
     },
     "metadata": {},
     "output_type": "display_data"
    }
   ],
   "source": [
    "i = np.arange(1, 21)\n",
    "pypu = c1 * lamda1 ** (i - 1) + c2 * lamda2 ** (i - 1)\n",
    "plt.bar(np.arange(len(pypu)) + 1, pypu)\n",
    "plt.show()"
   ]
  },
  {
   "cell_type": "markdown",
   "metadata": {},
   "source": [
    "This is an explosive system, since one of eigenvalue is larger than $1$. However let's take a look at the graph below, demonstrating different eigenvalues and corresponding behaviors of the system.They are plotted as functions of $i$: $f(i)= c_1 \\lambda_1^{i-1}+c_2 \\lambda_2^{i-1}$"
   ]
  },
  {
   "cell_type": "code",
   "execution_count": 11,
   "metadata": {},
   "outputs": [
    {
     "data": {
      "image/png": "[encoded data removed]",
      "text/plain": [
       "<Figure size 864x504 with 4 Axes>"
      ]
     },
     "metadata": {},
     "output_type": "display_data"
    }
   ],
   "source": [
    "i = np.arange(1, 50)\n",
    "\n",
    "lamda1 = [0.99, 1.1, -0.9, -1.2]\n",
    "lamda2 = [0.01, -1.1, 1.1, 0.4]\n",
    "c1 = 0.99\n",
    "c2 = 1 - c1\n",
    "\n",
    "fig = plt.figure(figsize=(12, 7))\n",
    "ax_pos = [221, 222, 223, 224]\n",
    "\n",
    "for j in range(4):\n",
    "    ax = fig.add_subplot(ax_pos[j])\n",
    "    pypu1 = c1 * lamda1[j] ** (i - 1) + c2 * lamda2[j] ** (i - 1)\n",
    "    ax.bar(np.arange(len(pypu1)) + 1, pypu1)\n",
    "    tt = \"$\\lambda_1 = %.3f,\\ \\lambda_2 = %.3f$\" % (lamda1[j], lamda2[j])\n",
    "    ax.set_title(tt, size=13, color=\"r\")\n",
    "plt.suptitle(\n",
    "    \"$\\partial y_{t+i}/\\partial u_t = c_1 \\lambda_1^{i-1}+c_2 \\lambda_2^{i-1}, c_1 = %.3f, c_2 = %.3f$\"\n",
    "    % (c1, c2),\n",
    "    size=20,\n",
    "    color=\"b\",\n",
    "    x=0.5,\n",
    "    y=1.005,\n",
    ")\n",
    "plt.show()"
   ]
  },
  {
   "cell_type": "markdown",
   "metadata": {},
   "source": [
    "## <font face=\"gotham\" color=\"purple\"> The Dynamic Multiplier of $3rd$-Order Difference Equation</font>"
   ]
  },
  {
   "cell_type": "markdown",
   "metadata": {},
   "source": [
    "Suppose the dynamic multiplier is $f(i)= c_1 \\lambda_1^{i-1}+c_2 \\lambda_2^{i-1}+c_3 \\lambda_3^{i-1}$"
   ]
  },
  {
   "cell_type": "code",
   "execution_count": 12,
   "metadata": {},
   "outputs": [
    {
     "data": {
      "image/png": "[encoded data removed]",
      "text/plain": [
       "<Figure size 864x504 with 4 Axes>"
      ]
     },
     "metadata": {},
     "output_type": "display_data"
    }
   ],
   "source": [
    "i = np.arange(1, 50)\n",
    "\n",
    "lambda1 = [0.6, 1.1, -0.2, -1.2]\n",
    "lambda2 = [0.01, -1.1, 1.3, -0.4]\n",
    "lambda3 = [1.01, 0.1, -1.1, 0.9]\n",
    "\n",
    "c1 = 0.23\n",
    "c2 = 0.58\n",
    "c3 = 1 - c1 - c2\n",
    "\n",
    "fig = plt.figure(figsize=(12, 7))\n",
    "ax_pos = [221, 222, 223, 224]\n",
    "\n",
    "for j in range(4):\n",
    "    ax = fig.add_subplot(ax_pos[j])\n",
    "    pypu1 = (\n",
    "        c1 * lambda1[j] ** (i - 1)\n",
    "        + c2 * lambda2[j] ** (i - 1)\n",
    "        + c3 * lambda3[j] ** (i - 1)\n",
    "    )\n",
    "    ax.bar(np.arange(len(pypu1)) + 1, pypu1)\n",
    "    tt = \"$\\lambda_1 = %.3f,\\ \\lambda_2 = %.3f,\\ \\lambda_3 = %.3f$\" % (\n",
    "        lambda1[j],\n",
    "        lambda2[j],\n",
    "        lambda3[j],\n",
    "    )\n",
    "    ax.set_title(tt, size=13, color=\"r\")\n",
    "plt.suptitle(\n",
    "    \"$\\partial y_{t+i}/\\partial u_t = c_1 \\lambda_1^{i-1}+c_2 \\lambda_2^{i-1}+c_3 \\lambda_3^{i-1}, c_1 = %.3f, c_2 = %.3f, c_3 = %.3f$\"\n",
    "    % (c1, c2, c3),\n",
    "    size=22,\n",
    "    color=\"b\",\n",
    "    x=0.5,\n",
    "    y=1.005,\n",
    ")\n",
    "plt.show()"
   ]
  },
  {
   "cell_type": "markdown",
   "metadata": {},
   "source": [
    "In summary, as long as one of eigenvalues $|\\lambda_i|>1$, dynamic multiplier will eventually be explosive which in turn causing $y_t$ explosive."
   ]
  },
  {
   "cell_type": "markdown",
   "metadata": {},
   "source": [
    "## <font face=\"gotham\" color=\"purple\"> Impulse Response Function of AR(k)</font>"
   ]
  },
  {
   "cell_type": "markdown",
   "metadata": {},
   "source": [
    "Here we reproduce the example from above\n",
    "$$\n",
    "Y_t = 0.94 Y_{t-1} - 0.35 Y_{t-2} -0.3 Y_{t-3} +u_t\n",
    "$$\n",
    "The matrix form is\n",
    "$$\n",
    "\\left[\\begin{array}{c}\n",
    "Y_t \\\\\n",
    "Y_{t-1} \\\\\n",
    "Y_{t-2}\n",
    "\\end{array}\\right]=\\left[\\begin{array}{ccc}\n",
    "0.94 & -0.35 & -0.3 \\\\\n",
    "1 & 0 & 0 \\\\\n",
    "0 & 1 & 0\n",
    "\\end{array}\\right]\\left[\\begin{array}{l}\n",
    "Y_{t-1} \\\\\n",
    "Y_{t-2} \\\\\n",
    "Y_{t-3}\n",
    "\\end{array}\\right]+\\left[\\begin{array}{c}\n",
    "u_t \\\\\n",
    "0 \\\\\n",
    "0\n",
    "\\end{array}\\right]\n",
    "$$"
   ]
  },
  {
   "cell_type": "markdown",
   "metadata": {},
   "source": [
    "In short form\n",
    "$$\n",
    "Z_t = \\Lambda Z_{t-1} + \\varepsilon_t\n",
    "$$"
   ]
  },
  {
   "cell_type": "markdown",
   "metadata": {},
   "source": [
    "Except $\\Lambda^0$ defined as an identity matrix\n",
    "$$\n",
    "\\Lambda^0=\\left[\\begin{array}{lll}\n",
    "1 & 0 & 0 \\\\\n",
    "0 & 1 & 0 \\\\\n",
    "0 & 0 & 1\n",
    "\\end{array}\\right]\n",
    "$$"
   ]
  },
  {
   "cell_type": "markdown",
   "metadata": {},
   "source": [
    "All $\\Lambda^k$'s are defined as\n",
    "$$\n",
    "\\left[\\begin{array}{ccc}\n",
    "0.94 & -0.35 & -0.3\\\\\n",
    "1 & 0 & 0 \\\\\n",
    "0 & 1 & 0\n",
    "\\end{array}\\right]^j\n",
    "$$\n",
    "And the $(1, 1)$ element is the IRF at the horizon $j$."
   ]
  },
  {
   "cell_type": "code",
   "execution_count": 282,
   "metadata": {},
   "outputs": [
    {
     "data": {
      "image/png": "[encoded data removed]",
      "text/plain": [
       "<Figure size 864x432 with 1 Axes>"
      ]
     },
     "metadata": {},
     "output_type": "display_data"
    }
   ],
   "source": [
    "Lambda = np.array([[0.94, -0.35, -0.3], [1, 0, 0], [0, 1, 0]])\n",
    "irf = []\n",
    "for i in range(50):\n",
    "    Lambdai = np.linalg.matrix_power(Lambda, i)\n",
    "    irf.append(Lambdai[0, 0])\n",
    "\n",
    "fig, ax = plt.subplots(figsize=(12, 6))\n",
    "ax.plot(np.arange(len(irf)), irf)\n",
    "ax.bar(np.arange(len(irf)), irf, color=\"Coral\")\n",
    "ax.set_title(r\"IRF of $Y_t = 0.94 Y_{t-1} - 0.35 Y_{t-2} -0.3 Y_{t-3} +u_t$\")\n",
    "plt.show()"
   ]
  },
  {
   "cell_type": "markdown",
   "metadata": {},
   "source": [
    "## <font face=\"gotham\" color=\"purple\"> Complex Eigenvalues and Business Cycle Measuring</font>"
   ]
  },
  {
   "cell_type": "markdown",
   "metadata": {},
   "source": [
    "We are solving the eigenvalues of $2nd$ order difference equation, we resort to the formulae"
   ]
  },
  {
   "cell_type": "markdown",
   "metadata": {},
   "source": [
    "$$\n",
    "\\lambda_1=\\frac{\\phi_1+\\sqrt{\\phi_1^2+4\\phi_2}}{2}\\\\\n",
    "\\lambda_2=\\frac{\\phi_1-\\sqrt{\\phi_1^2+4\\phi_2}}{2}\n",
    "$$"
   ]
  },
  {
   "cell_type": "markdown",
   "metadata": {},
   "source": [
    "However, there is a case of complex solution, i.e.\n",
    "$$\n",
    "\\phi_1^2 + 4\\phi_2 <0\n",
    "$$\n",
    "The eigenvalues are complex conjugates written as\n",
    "$$\n",
    "\\lambda_1=a+bi\\\\\n",
    "\\lambda_2=a-bi\n",
    "$$\n",
    "where $i=\\sqrt{-1}$.\n",
    "\n",
    "As a complex solution example, let's set $\\phi_1=1.5$ and $\\phi_2=-0.8$, use the formula to confirm there is complex solution"
   ]
  },
  {
   "cell_type": "code",
   "execution_count": 16,
   "metadata": {},
   "outputs": [
    {
     "data": {
      "text/plain": [
       "-0.9500000000000002"
      ]
     },
     "execution_count": 16,
     "metadata": {},
     "output_type": "execute_result"
    }
   ],
   "source": [
    "1.5**2 + 4 * (-0.8)"
   ]
  },
  {
   "cell_type": "markdown",
   "metadata": {},
   "source": [
    "If the eigenvalues are complex conjugates, the plot of ACF or $y_t$ will either show the a picture of wavy damping or exploding, hinges on if the modulus of the conjugates less then unit or not, i.e. $\\sqrt{a^2+b^2}<1$.\n",
    "\n",
    "We will not dive in mathematics of complex numbers, but here is a simulated $\\text{AR(2)}$ plot with the assumed parameters, $\\phi_1=1.5$ and $\\phi_2=-0.8$"
   ]
  },
  {
   "cell_type": "code",
   "execution_count": 21,
   "metadata": {},
   "outputs": [],
   "source": [
    "ar_params = np.array([1, -1.5, 0.8])  # alwasy specify zero lag as 1\n",
    "ma_params = np.array([1])  # alwasy specify zero lag as 1\n",
    "ar1 = ArmaProcess(ar_params, ma_params)  # the Class requires AR and MA's parameters\n",
    "ar1_sim = ar1.generate_sample(nsample=100)\n",
    "ar1_sim = pd.DataFrame(ar1_sim, columns=[\"AR(1)\"])\n",
    "ar1_acf = acf_func(ar1_sim.values, fft=False, nlags=100)  # return the numerical ACF"
   ]
  },
  {
   "cell_type": "code",
   "execution_count": 24,
   "metadata": {},
   "outputs": [
    {
     "data": {
      "image/png": "[encoded data removed]",
      "text/plain": [
       "<Figure size 864x360 with 1 Axes>"
      ]
     },
     "metadata": {},
     "output_type": "display_data"
    }
   ],
   "source": [
    "fig, ax = plt.subplots(figsize=(12, 5))\n",
    "ax.bar(np.arange(len(ar1_acf)), ar1_acf, color=\"tomato\", label=\"AR(1) autocorrelation\")\n",
    "plt.show()"
   ]
  },
  {
   "cell_type": "markdown",
   "metadata": {},
   "source": [
    "In practice, the complex conjugates characterize the behavior of business cycles to some extent, though not a popular method. "
   ]
  },
  {
   "cell_type": "code",
   "execution_count": 85,
   "metadata": {},
   "outputs": [],
   "source": [
    "start = dt.datetime(1950, 1, 1)\n",
    "end = dt.datetime(1995, 2, 1)\n",
    "# real GDP per cap, gross investment, export, personal consumtpion expenditure\n",
    "df = data.DataReader([\"GDP\"], \"fred\", start, end)\n",
    "df.columns = [\"GDP\"]"
   ]
  },
  {
   "cell_type": "code",
   "execution_count": 86,
   "metadata": {},
   "outputs": [],
   "source": [
    "df_log_diff = (np.log(df) - np.log(df.shift())).dropna()\n",
    "df_log_diff.plot()"
   ]
  },
  {
   "cell_type": "code",
   "execution_count": 88,
   "metadata": {},
   "outputs": [
    {
     "data": {
      "image/png": "[encoded data removed]",
      "text/plain": [
       "<Figure size 432x288 with 1 Axes>"
      ]
     },
     "metadata": {},
     "output_type": "display_data"
    }
   ],
   "source": [
    "g1 = plot_acf(df_log_diff, zero=False)\n",
    "g2 = plot_pacf(df_log_diff, zero=False)"
   ]
  },
  {
   "cell_type": "code",
   "execution_count": 101,
   "metadata": {},
   "outputs": [
    {
     "name": "stdout",
     "output_type": "stream",
     "text": [
      "                               SARIMAX Results                                \n",
      "==============================================================================\n",
      "Dep. Variable:                    GDP   No. Observations:                  180\n",
      "Model:                 ARIMA(2, 0, 0)   Log Likelihood                 574.260\n",
      "Date:                Fri, 21 Oct 2022   AIC                          -1140.521\n",
      "Time:                        20:11:34   BIC                          -1127.749\n",
      "Sample:                    04-01-1950   HQIC                         -1135.342\n",
      "                         - 01-01-1995                                         \n",
      "Covariance Type:                  opg                                         \n",
      "==============================================================================\n",
      "                 coef    std err          z      P>|z|      [0.025      0.975]\n",
      "------------------------------------------------------------------------------\n",
      "const          0.0184      0.002     11.639      0.000       0.015       0.021\n",
      "ar.L1          0.3625      0.068      5.319      0.000       0.229       0.496\n",
      "ar.L2          0.1630      0.066      2.451      0.014       0.033       0.293\n",
      "sigma2      9.895e-05   8.13e-06     12.168      0.000     8.3e-05       0.000\n",
      "===================================================================================\n",
      "Ljung-Box (L1) (Q):                   0.11   Jarque-Bera (JB):                27.35\n",
      "Prob(Q):                              0.74   Prob(JB):                         0.00\n",
      "Heteroskedasticity (H):               0.51   Skew:                             0.47\n",
      "Prob(H) (two-sided):                  0.01   Kurtosis:                         4.66\n",
      "===================================================================================\n",
      "\n",
      "Warnings:\n",
      "[1] Covariance matrix calculated using the outer product of gradients (complex-step).\n"
     ]
    }
   ],
   "source": [
    "mod_obj = ARIMA(df_log_diff, order=(2, 0, 0))\n",
    "results = mod_obj.fit()\n",
    "print(results.summary())"
   ]
  },
  {
   "cell_type": "markdown",
   "metadata": {},
   "source": [
    "$$\n",
    "y_t = 0.0155 + 0.4134 y_{t-1} + 0.2012 y_{t-2} + u_t\n",
    "$$"
   ]
  },
  {
   "cell_type": "code",
   "execution_count": 91,
   "metadata": {},
   "outputs": [
    {
     "name": "stdout",
     "output_type": "stream",
     "text": [
      "lambda1 and lambda2 are 0.701 and -0.287 respectively.\n"
     ]
    }
   ],
   "source": [
    "lamda1 = (0.4134 + np.sqrt(0.4134**2 + 4 * 0.2012)) / 2\n",
    "lamda2 = (0.4134 - np.sqrt(0.4134**2 + 4 * 0.2012)) / 2\n",
    "print(\n",
    "    \"lambda1 and lambda2 are {0:.3f} and {1:.3f} respectively.\".format(lamda1, lamda2)\n",
    ")"
   ]
  },
  {
   "cell_type": "markdown",
   "metadata": {},
   "source": [
    "$$\n",
    "\\phi_1^2 + 4\\phi_2 <0\n",
    "$$"
   ]
  },
  {
   "cell_type": "code",
   "execution_count": 102,
   "metadata": {},
   "outputs": [
    {
     "data": {
      "text/plain": [
       "0.7834062500000001"
      ]
     },
     "execution_count": 102,
     "metadata": {},
     "output_type": "execute_result"
    }
   ],
   "source": [
    "0.3625**2 + 4 * (0.1630)"
   ]
  },
  {
   "cell_type": "code",
   "execution_count": null,
   "metadata": {},
   "outputs": [],
   "source": [
    "2 * 3.1415926 / (np.cos(0.4134 / (2 * np.sqrt())))"
   ]
  },
  {
   "cell_type": "code",
   "execution_count": 96,
   "metadata": {},
   "outputs": [],
   "source": [
    "x, y, z = symbols(\"x y z\")"
   ]
  },
  {
   "cell_type": "code",
   "execution_count": 97,
   "metadata": {},
   "outputs": [
    {
     "data": {
      "text/latex": [
       "$\\displaystyle 1$"
      ],
      "text/plain": [
       "1"
      ]
     },
     "execution_count": 97,
     "metadata": {},
     "output_type": "execute_result"
    }
   ],
   "source": [
    "simplify(sin(x) ** 2 + cos(x) ** 2)"
   ]
  },
  {
   "cell_type": "code",
   "execution_count": 98,
   "metadata": {},
   "outputs": [
    {
     "data": {
      "text/latex": [
       "$\\displaystyle x^{2} - x - 6$"
      ],
      "text/plain": [
       "x**2 - x - 6"
      ]
     },
     "execution_count": 98,
     "metadata": {},
     "output_type": "execute_result"
    }
   ],
   "source": [
    "expand((x + 2) * (x - 3))"
   ]
  },
  {
   "cell_type": "code",
   "execution_count": 103,
   "metadata": {},
   "outputs": [
    {
     "name": "stdout",
     "output_type": "stream",
     "text": [
      "                               SARIMAX Results                                \n",
      "==============================================================================\n",
      "Dep. Variable:                    GDP   No. Observations:                  180\n",
      "Model:                 ARIMA(3, 0, 0)   Log Likelihood                 575.611\n",
      "Date:                Fri, 21 Oct 2022   AIC                          -1141.223\n",
      "Time:                        20:12:35   BIC                          -1125.258\n",
      "Sample:                    04-01-1950   HQIC                         -1134.750\n",
      "                         - 01-01-1995                                         \n",
      "Covariance Type:                  opg                                         \n",
      "==============================================================================\n",
      "                 coef    std err          z      P>|z|      [0.025      0.975]\n",
      "------------------------------------------------------------------------------\n",
      "const          0.0183      0.001     12.991      0.000       0.016       0.021\n",
      "ar.L1          0.3855      0.067      5.734      0.000       0.254       0.517\n",
      "ar.L2          0.1991      0.069      2.882      0.004       0.064       0.334\n",
      "ar.L3         -0.1261      0.081     -1.557      0.119      -0.285       0.033\n",
      "sigma2      9.744e-05    7.9e-06     12.333      0.000     8.2e-05       0.000\n",
      "===================================================================================\n",
      "Ljung-Box (L1) (Q):                   0.00   Jarque-Bera (JB):                37.85\n",
      "Prob(Q):                              0.98   Prob(JB):                         0.00\n",
      "Heteroskedasticity (H):               0.54   Skew:                             0.55\n",
      "Prob(H) (two-sided):                  0.02   Kurtosis:                         4.96\n",
      "===================================================================================\n",
      "\n",
      "Warnings:\n",
      "[1] Covariance matrix calculated using the outer product of gradients (complex-step).\n"
     ]
    }
   ],
   "source": [
    "mod_obj = ARIMA(df_log_diff, order=(3, 0, 0))\n",
    "results = mod_obj.fit()\n",
    "print(results.summary())"
   ]
  },
  {
   "cell_type": "markdown",
   "metadata": {},
   "source": [
    "$$\n",
    "y_t = 0.0183 + 0.3855 y_{t-1} + 0.1991 y_{t-2} -0.1261 y_{t-3} + u_t\n",
    "$$"
   ]
  },
  {
   "cell_type": "markdown",
   "metadata": {},
   "source": [
    "$$\n",
    "y_t = 0.0183 + 0.3855 y_{t-1} + 0.1991 y_{t-2} -0.1261 y_{t-3} + u_t\n",
    "$$"
   ]
  },
  {
   "cell_type": "markdown",
   "metadata": {},
   "source": [
    "$$\n",
    "y_t-0.3855 y_{t-1} -0.1991 y_{t-2} +0.1261 y_{t-3}= 0.0183 + u_t\n",
    "$$"
   ]
  },
  {
   "cell_type": "markdown",
   "metadata": {},
   "source": [
    "$$\n",
    "1-0.3855 L -0.1991L^2 +0.1261L^3=0\n",
    "$$"
   ]
  },
  {
   "cell_type": "code",
   "execution_count": null,
   "metadata": {},
   "outputs": [],
   "source": []
  }
 ],
 "metadata": {
  "kernelspec": {
   "display_name": "Python 3 (ipykernel)",
   "language": "python",
   "name": "python3"
  },
  "language_info": {
   "codemirror_mode": {
    "name": "ipython",
    "version": 3
   },
   "file_extension": ".py",
   "mimetype": "text/x-python",
   "name": "python",
   "nbconvert_exporter": "python",
   "pygments_lexer": "ipython3",
   "version": "3.9.12"
  },
  "toc": {
   "base_numbering": 1,
   "nav_menu": {},
   "number_sections": true,
   "sideBar": true,
   "skip_h1_title": false,
   "title_cell": "Table of Contents",
   "title_sidebar": "Contents",
   "toc_cell": true,
   "toc_position": {},
   "toc_section_display": true,
   "toc_window_display": false
  }
 },
 "nbformat": 4,
 "nbformat_minor": 4
}
