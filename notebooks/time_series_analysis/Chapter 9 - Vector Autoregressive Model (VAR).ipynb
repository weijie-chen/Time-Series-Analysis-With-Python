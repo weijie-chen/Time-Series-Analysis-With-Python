{
 "cells": [
  {
   "cell_type": "code",
   "execution_count": 84,
   "id": "8730afb1-f200-416f-8720-f41bc88ce6f9",
   "metadata": {},
   "outputs": [],
   "source": [
    "import pandas as pd\n",
    "from statsmodels.tsa.api import VAR\n",
    "import pandas_datareader.data as pdr\n",
    "import datetime as dt\n",
    "import matplotlib.pyplot as plt\n",
    "from statsmodels.tsa.stattools import adfuller\n",
    "plt.style.use('ggplot')"
   ]
  },
  {
   "cell_type": "code",
   "execution_count": 11,
   "id": "bfb901c7-e028-4edd-849c-7e2e99ca62e2",
   "metadata": {},
   "outputs": [],
   "source": [
    "# Load the data\n",
    "start_date = '2000-01-01'\n",
    "end_date = dt.datetime.today()\n",
    "df = pdr.DataReader(name=['SP500', 'GDP', 'UNRATE'], data_source='fred', start=start_date, end=end_date)\n",
    "\n",
    "# Rename the variables\n",
    "df.columns = ['S&P500', 'GDP', 'Unemployment_Rate']\n",
    "\n",
    "# Convert the data to log differences\n",
    "#df = df.diff().dropna()"
   ]
  },
  {
   "cell_type": "code",
   "execution_count": 13,
   "id": "02f054a4-f3d0-485c-8bdd-8ec290f949d5",
   "metadata": {},
   "outputs": [],
   "source": [
    "df['S&P500_month'] = df['S&P500'].resample('M').mean()"
   ]
  },
  {
   "cell_type": "markdown",
   "id": "4d0a5954-c55c-43c6-9591-f1548bb204f2",
   "metadata": {},
   "source": [
    "$$\n",
    "\\mathbf{y}_{{t}}=\\left[y_{1, t}\\ \\ y_{2,t}, \\ \\ \\ldots\\ \\  y_{n, t}\\right]^{T}\n",
    "$$"
   ]
  },
  {
   "cell_type": "markdown",
   "id": "c0f51fe1-be8c-4cfc-a84a-7c114a376b3e",
   "metadata": {},
   "source": [
    "$$\n",
    "\\mathbf{y}_t=\\mathbf{G}_0+\\mathbf{G}_1 \\mathbf{y}_{t-1}+\\mathbf{G}_2 \\mathbf{y}_{t-2}+\\ldots+\\mathbf{G}_{{p}} \\mathbf{y}_{t-{p}}+\\mathrm{e}_{{t}}\n",
    "$$\n",
    "\n",
    "\\begin{aligned}\n",
    "& \\mathrm{E}\\left(\\mathrm{e}_t\\right)=0 .  \\\\\n",
    "& \\mathrm{E}\\left(\\mathrm{e}_t \\mathrm{e}_t^{T}\\right)=\\Omega  \\\\\n",
    "& \\mathrm{E}\\left(\\mathrm{e}_t \\mathrm{e}_{t-k}^{T}\\right)=0 \n",
    "\\end{aligned}"
   ]
  },
  {
   "cell_type": "markdown",
   "id": "1c2087ef-4a45-41a5-a4a2-d2209fe78835",
   "metadata": {},
   "source": [
    "\n",
    "where $\\mathbf{G}_0$ is $n\\times 1$ vector, and $\\mathbf{G}_i$, $i\\in (1,...,p)$ is $n\\times n$ matrix, the last term $\\mathrm{e}_{{t}}$ is white noise vector. "
   ]
  },
  {
   "cell_type": "markdown",
   "id": "63d3a659-c714-47c7-9fd2-7368bb66cd18",
   "metadata": {},
   "source": [
    "A $p$-th order VAR is covariance stationary if \n",
    "$$\n",
    "E\\left[\\mathbf{y}_t\\right]=E\\left[\\mathbf{y}_{t+{j}}\\right]\n",
    "$$\n",
    "$$\n",
    "E\\left[\\left(\\mathbf{y}_{{t}}-\\boldsymbol{\\mu}\\right)\\left(\\mathbf{y}_{{t}+{j}}-\\boldsymbol{\\mu}\\right)^{T}\\right]=E\\left[\\left(\\mathbf{y}_{{s}}-\\boldsymbol{\\mu}\\right)\\left(\\mathbf{y}_{{s}+{j}}-\\boldsymbol{\\mu}\\right)^{T}\\right]=\\boldsymbol{\\Gamma}_{{j}}\n",
    "$$\n",
    "where $t\\neq s$"
   ]
  },
  {
   "cell_type": "markdown",
   "id": "56a061ec-20b6-49dd-8dc7-818d87e752f8",
   "metadata": {},
   "source": [
    "In a more technical view, rearrange the VAR model\n",
    "$$\n",
    "\\left(\\boldsymbol{I}_n-\\boldsymbol{G}_1 L-\\boldsymbol{G}_2 L^2-\\ldots-\\boldsymbol{G}_p L^p\\right) \\boldsymbol{y}_t=\\boldsymbol{G}_0+\\boldsymbol{e}_t\n",
    "$$\n",
    "Replace the lag polynomial by $\\boldsymbol{G}(L)$\n",
    "$$\n",
    "\\boldsymbol{G}(L) y_t=\\boldsymbol{G}_0+\\boldsymbol{e}_t\n",
    "$$\n",
    "For VAR to be stationary, $\\boldsymbol{G}(L)$ must be invertible, which requires all roots of characteristic equation outside of unit circle."
   ]
  },
  {
   "cell_type": "markdown",
   "id": "5c5975d6-d750-4111-8d21-0fbc3d1ae5b4",
   "metadata": {},
   "source": [
    "A stationary $\\text{VAR}$ is equivalent to $\\text{VMA}(\\infty) $\n",
    "$$\n",
    " y_t=\\boldsymbol{G}(L)^{-1}\\boldsymbol{G}_0+e_t = \\boldsymbol{\\mu} +e_t\n",
    "$$\n",
    "Rest of steps are similar as $\\text{ARIMA}$\n",
    "$$\n",
    "\\begin{gathered}\n",
    "\\mathbf{y}_{\\mathrm{t}}=\\boldsymbol{\\mu}+\\left(\\mathrm{I}_{n}+\\boldsymbol{\\Psi}_1 {L}+\\boldsymbol{\\Psi}_2 {L}^2+\\ldots\\right) \\boldsymbol{e}_{t} \\\\\n",
    "\\mathbf{y}_{\\mathrm{t}}=\\boldsymbol{\\mu}+{e}_{{t}}+\\boldsymbol{\\Psi}_1 \\boldsymbol{e}_{\\mathrm{t}-1}+\\boldsymbol{\\Psi}_2 \\boldsymbol{e}_{t-2}+\\ldots \\\\\n",
    "\\mathbf{y}_{\\mathrm{t}}=\\boldsymbol{\\mu}+\\sum_{{t}=0} \\boldsymbol{\\Psi}_{{t}} \\boldsymbol{e}_{{t}-1}\n",
    "\\end{gathered}\n",
    "$$"
   ]
  },
  {
   "cell_type": "markdown",
   "id": "17c29149-6380-45fc-ac11-3de37d346aa9",
   "metadata": {},
   "source": []
  },
  {
   "cell_type": "markdown",
   "id": "bd2e9391-5380-4d0f-8a9b-bd55bac40aad",
   "metadata": {},
   "source": [
    "VAR models have two purposes: **forecasting** and **structural analysis**, the former is done by reduced-form VAR, the latter is usually done by SVAR.\n",
    "\n",
    "And because there is no identification issue, we can directly estimate each equation by OLS."
   ]
  },
  {
   "cell_type": "markdown",
   "id": "a04703da-7a69-4754-802c-b2df72e79a1f",
   "metadata": {},
   "source": [
    "An example of VAR(1) without constant term"
   ]
  },
  {
   "cell_type": "markdown",
   "id": "76f19fb6-eda1-4d37-89dc-b117cd429f0e",
   "metadata": {},
   "source": [
    "$$\n",
    "\\left(\\begin{array}{l}\n",
    "Y_t \\\\\n",
    "X_t\n",
    "\\end{array}\\right)=\\left(\\begin{array}{ll}\n",
    "a_{11} & a_{12} \\\\\n",
    "a_{21} & a_{22}\n",
    "\\end{array}\\right)\\left(\\begin{array}{l}\n",
    "Y_{t-1} \\\\\n",
    "X_{t-1}\n",
    "\\end{array}\\right)+\\left(\\begin{array}{l}\n",
    "\\epsilon_{Y, t} \\\\\n",
    "\\epsilon_{X, t}\n",
    "\\end{array}\\right)\n",
    "$$"
   ]
  },
  {
   "cell_type": "markdown",
   "id": "84e1a330-ebb3-4939-a6df-7b0ad53e8367",
   "metadata": {},
   "source": [
    "To illustrate estimation process, we import quarterly GDP and monthly consumer sentiment from FRED, however in order to take advantage of abundant monthly observation of consumer sentiment, quarterly GDP shall be resampled into monthly by linear interpolation."
   ]
  },
  {
   "cell_type": "code",
   "execution_count": 99,
   "id": "a7e8f54c-4b55-46a8-963f-b6bf1999f49d",
   "metadata": {},
   "outputs": [],
   "source": [
    "start = dt.datetime(1980, 1, 1)\n",
    "end = dt.datetime.today()\n",
    "df = pdr.DataReader(['GDP', 'UMCSENT', 'BSCICP03USM665S'], 'fred', start=start, end=end)\n",
    "df = df.dropna()\n",
    "df.columns =['GDP', 'Consumer_confidence', 'Manu_confidence']"
   ]
  },
  {
   "cell_type": "code",
   "execution_count": 98,
   "id": "a6e4c6b9-26f7-4905-9377-65c1c18b1a1a",
   "metadata": {},
   "outputs": [
    {
     "data": {
      "text/html": [
       "<div>\n",
       "<style scoped>\n",
       "    .dataframe tbody tr th:only-of-type {\n",
       "        vertical-align: middle;\n",
       "    }\n",
       "\n",
       "    .dataframe tbody tr th {\n",
       "        vertical-align: top;\n",
       "    }\n",
       "\n",
       "    .dataframe thead th {\n",
       "        text-align: right;\n",
       "    }\n",
       "</style>\n",
       "<table border=\"1\" class=\"dataframe\">\n",
       "  <thead>\n",
       "    <tr style=\"text-align: right;\">\n",
       "      <th></th>\n",
       "      <th>GDP</th>\n",
       "      <th>Consumer_confidence</th>\n",
       "      <th>Manu_confidence</th>\n",
       "    </tr>\n",
       "    <tr>\n",
       "      <th>DATE</th>\n",
       "      <th></th>\n",
       "      <th></th>\n",
       "      <th></th>\n",
       "    </tr>\n",
       "  </thead>\n",
       "  <tbody>\n",
       "    <tr>\n",
       "      <th>1980-01-01</th>\n",
       "      <td>2789.842</td>\n",
       "      <td>67.0</td>\n",
       "      <td>98.589154</td>\n",
       "    </tr>\n",
       "    <tr>\n",
       "      <th>1980-04-01</th>\n",
       "      <td>2797.352</td>\n",
       "      <td>52.7</td>\n",
       "      <td>96.316916</td>\n",
       "    </tr>\n",
       "    <tr>\n",
       "      <th>1980-07-01</th>\n",
       "      <td>2856.483</td>\n",
       "      <td>62.3</td>\n",
       "      <td>96.240713</td>\n",
       "    </tr>\n",
       "    <tr>\n",
       "      <th>1980-10-01</th>\n",
       "      <td>2985.557</td>\n",
       "      <td>75.0</td>\n",
       "      <td>100.229228</td>\n",
       "    </tr>\n",
       "    <tr>\n",
       "      <th>1981-01-01</th>\n",
       "      <td>3124.206</td>\n",
       "      <td>71.4</td>\n",
       "      <td>99.482812</td>\n",
       "    </tr>\n",
       "  </tbody>\n",
       "</table>\n",
       "</div>"
      ],
      "text/plain": [
       "                 GDP  Consumer_confidence  Manu_confidence\n",
       "DATE                                                      \n",
       "1980-01-01  2789.842                 67.0        98.589154\n",
       "1980-04-01  2797.352                 52.7        96.316916\n",
       "1980-07-01  2856.483                 62.3        96.240713\n",
       "1980-10-01  2985.557                 75.0       100.229228\n",
       "1981-01-01  3124.206                 71.4        99.482812"
      ]
     },
     "execution_count": 98,
     "metadata": {},
     "output_type": "execute_result"
    }
   ],
   "source": [
    "df['GDP'] = df['GDP'].resample('MS').interpolate(method='linear')\n",
    "df.head()"
   ]
  },
  {
   "cell_type": "code",
   "execution_count": 87,
   "id": "463a0d43-47f2-4e2d-abb8-d9b409c5935b",
   "metadata": {},
   "outputs": [],
   "source": [
    "def adf_test(x):\n",
    "    indices = [\"Test Statistic\", \"p-value\",\n",
    "               \"# of Lags Used\", \"# of Observations Used\"]\n",
    "    \n",
    "    adf_results_all = adfuller(x, autolag=\"BIC\") # you can try 'AIC' too, I personaly prefer 'BIC'\n",
    "    results = pd.Series(adf_results_all[0:4], index=indices)\n",
    "    \n",
    "    for key, value in adf_results_all[4].items():\n",
    "        results['Critical Value ({})'.format(key)] = value\n",
    "    results = pd.DataFrame(results, columns = ['statistics'])\n",
    "    return pd.DataFrame(results)"
   ]
  },
  {
   "cell_type": "code",
   "execution_count": 88,
   "id": "e635942f-64c5-4d4b-8c6a-7209111cd989",
   "metadata": {},
   "outputs": [],
   "source": [
    "p_value = {}\n",
    "for i in df.columns:\n",
    "    p_value[i] = adf_test(df[i]).iloc[1][0]"
   ]
  },
  {
   "cell_type": "code",
   "execution_count": 89,
   "id": "5b623365-a5c0-4664-b4fb-a496d426b5c7",
   "metadata": {},
   "outputs": [
    {
     "data": {
      "text/plain": [
       "{'GDP': 1.0,\n",
       " 'Consumer_confidence': 0.03532389821221597,\n",
       " 'Manu_confidence': 9.232429596018372e-09}"
      ]
     },
     "execution_count": 89,
     "metadata": {},
     "output_type": "execute_result"
    }
   ],
   "source": [
    "p_value"
   ]
  },
  {
   "cell_type": "code",
   "execution_count": 90,
   "id": "eb84deda-d3d3-4674-ae69-6e8452bfd384",
   "metadata": {},
   "outputs": [],
   "source": [
    "df['GDP_growth'] = df['GDP'].pct_change()\n",
    "df = df.drop(['GDP'], axis =1)"
   ]
  },
  {
   "cell_type": "code",
   "execution_count": 91,
   "id": "5a8a63d0-39de-4791-82f6-5e1e9fbd1dd6",
   "metadata": {},
   "outputs": [],
   "source": [
    "df = df.dropna()"
   ]
  },
  {
   "cell_type": "code",
   "execution_count": 92,
   "id": "7ab28abe-97e1-42ec-bfa8-e1a9eb09a326",
   "metadata": {},
   "outputs": [],
   "source": [
    "from statsmodels.tsa.api import VAR\n",
    "var_model = VAR(df)"
   ]
  },
  {
   "cell_type": "code",
   "execution_count": 93,
   "id": "4bfde4b6-55bf-4f94-b4ca-e58d08536258",
   "metadata": {},
   "outputs": [
    {
     "name": "stdout",
     "output_type": "stream",
     "text": [
      "<statsmodels.tsa.vector_ar.var_model.LagOrderResults object. Selected orders are: AIC -> 2, BIC -> 2, FPE -> 2, HQIC ->  2>\n",
      "Using 2 based on bic criterion\n"
     ]
    }
   ],
   "source": [
    "var_results = var_model.fit(verbose=True, ic='bic', method='ols')"
   ]
  },
  {
   "cell_type": "code",
   "execution_count": 94,
   "id": "fcc2c83c-834e-4285-aaf2-05a0d6f4b0a4",
   "metadata": {},
   "outputs": [
    {
     "data": {
      "image/png": "[encoded data removed]",
      "text/plain": [
       "<Figure size 720x720 with 3 Axes>"
      ]
     },
     "metadata": {},
     "output_type": "display_data"
    }
   ],
   "source": [
    "g = var_results.plot()"
   ]
  },
  {
   "cell_type": "markdown",
   "id": "31e4a06e-b359-42d9-9db7-5bb1c4046490",
   "metadata": {},
   "source": [
    "## <font face=\"gotham\" color=\"purple\"> Model Selection Criteria</font>"
   ]
  },
  {
   "cell_type": "markdown",
   "id": "a4588fd2-30c2-43de-a38c-303dc303bcaf",
   "metadata": {},
   "source": [
    "We have seen many times of $\\text{AIC}$ and $\\text{BIC}$ in printed linear regression results, the former tends to favor overfitting models and the latter underfitting models. \n",
    "\n",
    "In $\\text{ARIMA}$ formulation, it's reasonable to choose a overparameterized model if it has sound theoretical foundation, however in $\\text{VAR}$ formulation, we should select parsimonious model whenever possible, since it's intensively parameterized, that means we should use $\\text{BIC}$ if no obvious reasons to deviate.\n",
    "\n",
    "Hannan-Quinn Information Criterion ($\\text{HQIC}$), Final Prediction Error ($\\text{FPE}$) and Det(Omega_mle) are also provided, but not really providing extra values in most of cases."
   ]
  },
  {
   "cell_type": "markdown",
   "id": "152d3817-1c55-4caa-bb8e-bdb13e9eef5e",
   "metadata": {},
   "source": [
    "## <font face=\"gotham\" color=\"purple\"> Strategy of Choosing Variables </font>"
   ]
  },
  {
   "cell_type": "markdown",
   "id": "75a3a7dd-ba6c-4bb6-936c-abc3e2441e8b",
   "metadata": {},
   "source": [
    "Construct a core VAR, then rotate with extra variable one by one, to avoid estimating too many coefficients at once."
   ]
  },
  {
   "cell_type": "markdown",
   "id": "4dfd79a4-0036-4627-af81-0ed6fe427aef",
   "metadata": {},
   "source": [
    "## <font face=\"gotham\" color=\"purple\"> Forecasting </font>"
   ]
  },
  {
   "cell_type": "markdown",
   "id": "8e00bc29-9504-4377-8ceb-9ed9afc6f39e",
   "metadata": {},
   "source": [
    "Then:\n",
    "$$\n",
    "\\begin{aligned}\n",
    "& \\mathbf{Y}_{\\mathrm{t}-1}=\\left(\\mathbf{y}_{\\mathrm{t}-1}, \\mathbf{y}_{\\mathrm{t}-2}, \\ldots, \\mathbf{y}_{\\mathrm{t}-\\mathrm{T}}\\right) \\\\\n",
    "& E\\left[\\mathbf{y}_{\\mathrm{t}} \\mid \\mathbf{Y}_{\\mathrm{t}-1}\\right]=\\widehat{\\mathbf{G}}_0+\\widehat{\\mathbf{G}}_1 \\mathbf{y}_{\\mathrm{t}-1}+\\widehat{\\mathbf{G}}_2 \\mathbf{y}_{\\mathrm{t}-2}+\\ldots+\\widehat{\\mathbf{G}}_{\\mathrm{p}} \\mathbf{y}_{\\mathrm{t}-\\mathrm{p}} \\\\\n",
    "&\n",
    "\\end{aligned}\n",
    "$$"
   ]
  },
  {
   "cell_type": "markdown",
   "id": "8211500b-09e1-43dd-bb39-329f076cc042",
   "metadata": {},
   "source": [
    "This is dynamic forecast, iterating one period forward:\n",
    "$$\n",
    "E\\left[\\mathbf{y}_{t+1} \\mid \\mathbf{Y}_{t-1}\\right]=\\widehat{\\mathbf{G}}_0+\\widehat{\\mathbf{G}}_1 \\mathbf{E}\\left[\\mathbf{y}_t \\mid \\mathbf{Y}_{t-1}\\right]+\\widehat{\\mathbf{G}}_2 \\mathbf{y}_{t-1}+\\ldots+\\widehat{\\mathbf{G}}_{\\mathrm{p}} \\mathbf{y}_{t-p+1}\n",
    "$$\n",
    "Iterating $j$ periods forward:\n",
    "$$\n",
    "E\\left[\\mathbf{y}_{\\mathrm{t}+\\mathrm{j}} \\mid \\mathbf{Y}_{\\mathrm{t}-1}\\right]=\\widehat{\\mathbf{G}}_0+\\widehat{\\mathbf{G}}_1 \\mathrm{E}\\left[\\mathbf{y}_{\\mathrm{t}+\\mathrm{j}-1} \\mid \\mathbf{Y}_{\\mathrm{t}-1}\\right]+\\widehat{\\mathbf{G}}_2 \\mathrm{E}\\left[\\mathbf{y}_{\\mathrm{t}+\\mathrm{j}-2} \\mid \\mathbf{Y}_{\\mathrm{t}-1}\\right]+\\ldots+\\widehat{\\mathbf{G}}_{\\mathrm{p}} \\mathbf{y}_{\\mathrm{t}-\\mathrm{p}+\\mathrm{j}}\n",
    "$$"
   ]
  },
  {
   "cell_type": "code",
   "execution_count": null,
   "id": "efe8194f-2f91-4300-9c46-1a9efccab825",
   "metadata": {},
   "outputs": [],
   "source": []
  },
  {
   "cell_type": "code",
   "execution_count": 102,
   "id": "314822fa-4ad1-4e94-ae9f-3956240f365e",
   "metadata": {
    "tags": []
   },
   "outputs": [
    {
     "data": {
      "text/plain": [
       "  Summary of Regression Results   \n",
       "==================================\n",
       "Model:                         VAR\n",
       "Method:                        OLS\n",
       "Date:           Sun, 22, Jan, 2023\n",
       "Time:                     22:51:40\n",
       "--------------------------------------------------------------------\n",
       "No. of Equations:         3.00000    BIC:                   -5.69104\n",
       "Nobs:                     168.000    HQIC:                  -5.92305\n",
       "Log likelihood:          -183.296    FPE:                 0.00228500\n",
       "AIC:                     -6.08153    Det(Omega_mle):      0.00202162\n",
       "--------------------------------------------------------------------\n",
       "Results for equation Consumer_confidence\n",
       "=========================================================================================\n",
       "                            coefficient       std. error           t-stat            prob\n",
       "-----------------------------------------------------------------------------------------\n",
       "const                         40.107613        48.182105            0.832           0.405\n",
       "L1.Consumer_confidence         0.651873         0.084401            7.724           0.000\n",
       "L1.Manu_confidence             0.592597         0.817742            0.725           0.469\n",
       "L1.GDP_growth                 91.018775        45.164153            2.015           0.044\n",
       "L2.Consumer_confidence         0.238156         0.084381            2.822           0.005\n",
       "L2.Manu_confidence            -0.909024         0.784176           -1.159           0.246\n",
       "L2.GDP_growth                -19.635580        43.261730           -0.454           0.650\n",
       "=========================================================================================\n",
       "\n",
       "Results for equation Manu_confidence\n",
       "=========================================================================================\n",
       "                            coefficient       std. error           t-stat            prob\n",
       "-----------------------------------------------------------------------------------------\n",
       "const                         22.901955         4.790951            4.780           0.000\n",
       "L1.Consumer_confidence         0.004033         0.008392            0.481           0.631\n",
       "L1.Manu_confidence             1.146938         0.081312           14.105           0.000\n",
       "L1.GDP_growth                 -2.889913         4.490863           -0.644           0.520\n",
       "L2.Consumer_confidence        -0.007378         0.008390           -0.879           0.379\n",
       "L2.Manu_confidence            -0.372150         0.077974           -4.773           0.000\n",
       "L2.GDP_growth                 -6.691737         4.301697           -1.556           0.120\n",
       "=========================================================================================\n",
       "\n",
       "Results for equation GDP_growth\n",
       "=========================================================================================\n",
       "                            coefficient       std. error           t-stat            prob\n",
       "-----------------------------------------------------------------------------------------\n",
       "const                         -0.085538         0.091815           -0.932           0.352\n",
       "L1.Consumer_confidence        -0.000230         0.000161           -1.432           0.152\n",
       "L1.Manu_confidence             0.004034         0.001558            2.589           0.010\n",
       "L1.GDP_growth                 -0.035202         0.086064           -0.409           0.683\n",
       "L2.Consumer_confidence         0.000168         0.000161            1.048           0.295\n",
       "L2.Manu_confidence            -0.003006         0.001494           -2.012           0.044\n",
       "L2.GDP_growth                  0.147677         0.082439            1.791           0.073\n",
       "=========================================================================================\n",
       "\n",
       "Correlation matrix of residuals\n",
       "                       Consumer_confidence  Manu_confidence  GDP_growth\n",
       "Consumer_confidence               1.000000         0.398820    0.269273\n",
       "Manu_confidence                   0.398820         1.000000    0.445114\n",
       "GDP_growth                        0.269273         0.445114    1.000000\n",
       "\n"
      ]
     },
     "execution_count": 102,
     "metadata": {},
     "output_type": "execute_result"
    }
   ],
   "source": [
    "var_results.summary()"
   ]
  },
  {
   "cell_type": "code",
   "execution_count": 103,
   "id": "6507e69f-d9e3-49d8-8cf3-c32aa49eb07b",
   "metadata": {},
   "outputs": [
    {
     "data": {
      "text/html": [
       "<div>\n",
       "<style scoped>\n",
       "    .dataframe tbody tr th:only-of-type {\n",
       "        vertical-align: middle;\n",
       "    }\n",
       "\n",
       "    .dataframe tbody tr th {\n",
       "        vertical-align: top;\n",
       "    }\n",
       "\n",
       "    .dataframe thead th {\n",
       "        text-align: right;\n",
       "    }\n",
       "</style>\n",
       "<table border=\"1\" class=\"dataframe\">\n",
       "  <thead>\n",
       "    <tr style=\"text-align: right;\">\n",
       "      <th></th>\n",
       "      <th>Consumer_confidence</th>\n",
       "      <th>Manu_confidence</th>\n",
       "      <th>GDP_growth</th>\n",
       "    </tr>\n",
       "  </thead>\n",
       "  <tbody>\n",
       "    <tr>\n",
       "      <th>const</th>\n",
       "      <td>40.107613</td>\n",
       "      <td>22.901955</td>\n",
       "      <td>-0.085538</td>\n",
       "    </tr>\n",
       "    <tr>\n",
       "      <th>L1.Consumer_confidence</th>\n",
       "      <td>0.651873</td>\n",
       "      <td>0.004033</td>\n",
       "      <td>-0.000230</td>\n",
       "    </tr>\n",
       "    <tr>\n",
       "      <th>L1.Manu_confidence</th>\n",
       "      <td>0.592597</td>\n",
       "      <td>1.146938</td>\n",
       "      <td>0.004034</td>\n",
       "    </tr>\n",
       "    <tr>\n",
       "      <th>L1.GDP_growth</th>\n",
       "      <td>91.018775</td>\n",
       "      <td>-2.889913</td>\n",
       "      <td>-0.035202</td>\n",
       "    </tr>\n",
       "    <tr>\n",
       "      <th>L2.Consumer_confidence</th>\n",
       "      <td>0.238156</td>\n",
       "      <td>-0.007378</td>\n",
       "      <td>0.000168</td>\n",
       "    </tr>\n",
       "    <tr>\n",
       "      <th>L2.Manu_confidence</th>\n",
       "      <td>-0.909024</td>\n",
       "      <td>-0.372150</td>\n",
       "      <td>-0.003006</td>\n",
       "    </tr>\n",
       "    <tr>\n",
       "      <th>L2.GDP_growth</th>\n",
       "      <td>-19.635580</td>\n",
       "      <td>-6.691737</td>\n",
       "      <td>0.147677</td>\n",
       "    </tr>\n",
       "  </tbody>\n",
       "</table>\n",
       "</div>"
      ],
      "text/plain": [
       "                        Consumer_confidence  Manu_confidence  GDP_growth\n",
       "const                             40.107613        22.901955   -0.085538\n",
       "L1.Consumer_confidence             0.651873         0.004033   -0.000230\n",
       "L1.Manu_confidence                 0.592597         1.146938    0.004034\n",
       "L1.GDP_growth                     91.018775        -2.889913   -0.035202\n",
       "L2.Consumer_confidence             0.238156        -0.007378    0.000168\n",
       "L2.Manu_confidence                -0.909024        -0.372150   -0.003006\n",
       "L2.GDP_growth                    -19.635580        -6.691737    0.147677"
      ]
     },
     "execution_count": 103,
     "metadata": {},
     "output_type": "execute_result"
    }
   ],
   "source": [
    "var_results.params"
   ]
  },
  {
   "cell_type": "code",
   "execution_count": 111,
   "id": "ed99be54-4366-4bd0-b380-77b47fc49b48",
   "metadata": {},
   "outputs": [
    {
     "data": {
      "image/png": "[encoded data removed]",
      "text/plain": [
       "<Figure size 720x720 with 9 Axes>"
      ]
     },
     "metadata": {},
     "output_type": "display_data"
    }
   ],
   "source": [
    "g_accor = var_results.plot_acorr(resid=True)"
   ]
  },
  {
   "cell_type": "markdown",
   "id": "f8d6f6db-f149-4e50-8daa-9ba1865a6546",
   "metadata": {},
   "source": [
    "# <font face=\"gotham\" color=\"purple\"> Structural VAR</font>"
   ]
  },
  {
   "cell_type": "markdown",
   "id": "d3925d84-8da2-4b6e-b457-01d91fcb7a28",
   "metadata": {},
   "source": [
    "Fed expected inflation rises higher, then Fed hikes rate to bring down the inflation. Can it be other way around? This is causality question to answer.\n",
    "\n",
    "How about government expect household demand weakens, tax-cutting policies are on the table. \n",
    "\n",
    "Both monetary policy and fiscal policy are endogenously reacting to other variables. Key insight is you can't measure how effective the policies are when they are reacting to other variables."
   ]
  },
  {
   "cell_type": "markdown",
   "id": "0572acdf-10c7-462b-93ef-00b84d7aafbd",
   "metadata": {},
   "source": [
    "To measure the effects of policy, we should let it be an exogenous shock to the economy and measure how other economic variables are responding to the policy shock, technically this is done by **impulse response function**."
   ]
  },
  {
   "cell_type": "markdown",
   "id": "ca063c3c-85d4-4f92-8f79-e7e04ed4b57c",
   "metadata": {},
   "source": [
    "Finding out the form of structural model is called **identification**."
   ]
  },
  {
   "cell_type": "markdown",
   "id": "376bf179-137c-4450-9c6e-39e39bb6279b",
   "metadata": {},
   "source": [
    "$$\n",
    "A  X_t=\\beta_0+\\beta_1 X_{t-1}+\\mathrm{u}_t\n",
    "$$"
   ]
  },
  {
   "cell_type": "markdown",
   "id": "f0f1c32c-ae5e-45c2-8188-2b69b3c49932",
   "metadata": {},
   "source": [
    "$$\n",
    "\\underbrace{\\left[\\begin{array}{cc}\n",
    "1 & a_{12} \\\\\n",
    "a_{21} & 1\n",
    "\\end{array}\\right]}_{\\mathrm{A}}\\left[\\begin{array}{c}\n",
    "y_t \\\\\n",
    "r_t\n",
    "\\end{array}\\right]=\\left[\\begin{array}{l}\n",
    "\\beta_{10} \\\\\n",
    "\\beta_{20}\n",
    "\\end{array}\\right]+\\left[\\begin{array}{ll}\n",
    "\\beta_{11} & \\beta_{12} \\\\\n",
    "\\beta_{21} & \\beta_{22}\n",
    "\\end{array}\\right]\\left[\\begin{array}{l}\n",
    "y_{t-1} \\\\\n",
    "r_{t-1}\n",
    "\\end{array}\\right]+\\left[\\begin{array}{l}\n",
    "u_{y t} \\\\\n",
    "u_{n t}\n",
    "\\end{array}\\right]\n",
    "$$"
   ]
  },
  {
   "cell_type": "markdown",
   "id": "37953579-20a8-4603-a730-4cd934c24e13",
   "metadata": {},
   "source": [
    "$A$ contains the contemporaneous relations among endogenous variables."
   ]
  },
  {
   "cell_type": "markdown",
   "id": "f8866c29-bf35-4534-bf91-c5322baf9301",
   "metadata": {},
   "source": [
    "$$\n",
    "{A}^{-1} {AX}_t=\\overbrace{{A}^{-1} \\beta_0}^{G_0}+\\overbrace{{A}^{-1} \\beta_1}^{G_1} {X}_{t-1}+{A}^{-1} u_t\n",
    "$$"
   ]
  },
  {
   "cell_type": "markdown",
   "id": "cb2d2ac7-c13d-420c-9030-b4904465cc21",
   "metadata": {},
   "source": [
    "$$\n",
    "{X}_t={G}_0+{G}_1 {X}_{t-1}+e_t, \\quad {~A}^{-1} {A}={I}, \\quad {e}_t={A}^{-1} u_t\n",
    "$$"
   ]
  },
  {
   "cell_type": "markdown",
   "id": "4f0b2feb-b77a-41d8-a335-0ae784358ec4",
   "metadata": {},
   "source": [
    "Forecast error $e$ is a linear combination of structural shocks $u$."
   ]
  },
  {
   "cell_type": "markdown",
   "id": "3f2d0857-7e06-405f-af5e-3b119d51dfc6",
   "metadata": {},
   "source": [
    "## <font face=\"gotham\" color=\"purple\">Identification</font>"
   ]
  },
  {
   "cell_type": "markdown",
   "id": "8f2c4b61-3fbf-44ad-832d-4666e2d158fd",
   "metadata": {},
   "source": [
    "SVAR can't be estimated directly since it is a theoretical framework, we have to start from estimation VAR model."
   ]
  },
  {
   "cell_type": "markdown",
   "id": "9d2cbacb-ef97-43b6-bdf3-15a77f437047",
   "metadata": {},
   "source": [
    "As an example\n",
    "$$\n",
    "\\left[\\begin{array}{l}\n",
    "y_t \\\\\n",
    "r_t\n",
    "\\end{array}\\right]=\\left[\\begin{array}{l}\n",
    "g_{10} \\\\\n",
    "g_{20}\n",
    "\\end{array}\\right]+\\left[\\begin{array}{ll}\n",
    "g_{11} & g_{12} \\\\\n",
    "g_{21} & g_{22}\n",
    "\\end{array}\\right]\\left[\\begin{array}{l}\n",
    "y_{t-1} \\\\\n",
    "r_{t-1}\n",
    "\\end{array}\\right]+\\left[\\begin{array}{l}\n",
    "e_{3 t} \\\\\n",
    "e_{n t}\n",
    "\\end{array}\\right]\\Rightarrow\\begin{aligned}\n",
    "& y_t=g_{10}+g_{11} y_{t-1}+g_{12} r_{t-1}+e_{y t} \\\\\n",
    "& r_t=g_{20}+g_{21} y_{t-1}+g_{22} r_{t-1}+e_{r t}\n",
    "\\end{aligned}\n",
    "$$\n",
    "$9$ parameters to estimate, $6$ coefficients, $2$ variances (of residuals) and $1$ covariance (of residuals)."
   ]
  },
  {
   "cell_type": "markdown",
   "id": "81677a94-57fe-4264-a3a7-c58d892de319",
   "metadata": {},
   "source": [
    "$$\n",
    "\\left[\\begin{array}{cc}\n",
    "1 & a_{12} \\\\\n",
    "a_{21} & 1\n",
    "\\end{array}\\right]\\left[\\begin{array}{c}\n",
    "y_t \\\\\n",
    "r_t\n",
    "\\end{array}\\right]=\\left[\\begin{array}{l}\n",
    "\\beta_{10} \\\\\n",
    "\\beta_{20}\n",
    "\\end{array}\\right]+\\left[\\begin{array}{ll}\n",
    "\\beta_{11} & \\beta_{12} \\\\\n",
    "\\beta_{21} & \\beta_{22}\n",
    "\\end{array}\\right]\\left[\\begin{array}{c}\n",
    "y_{t-1} \\\\\n",
    "r_{t-1}\n",
    "\\end{array}\\right]+\\left[\\begin{array}{l}\n",
    "u_{y t} \\\\\n",
    "u_{r t}\n",
    "\\end{array}\\right]\n",
    "$$"
   ]
  },
  {
   "cell_type": "markdown",
   "id": "13959e07-4360-4315-8b5e-d790823d0b7a",
   "metadata": {},
   "source": [
    "$10$ parameters to estimate, $8$ coefficients, $2$ variances (of residuals), covariance is zero due to independence of structural shocks. However reduced VAR can only get us max $9$ parameters, so here we need to impose some restrictions.\n",
    "\n",
    "This is called identification of SVAR model, is to use priori knowledge to impose restrictions on matrix $A$."
   ]
  },
  {
   "cell_type": "markdown",
   "id": "607ac330-bd3f-4266-9bad-464dc632c0b4",
   "metadata": {},
   "source": [
    "$$\n",
    "\\underbrace{\\left[\\begin{array}{cc}\n",
    "1 & 0 \\\\\n",
    "a_{21} & 1\n",
    "\\end{array}\\right]}_{{A}}\\left[\\begin{array}{l}\n",
    "y_t \\\\\n",
    "r_t\n",
    "\\end{array}\\right]=\\left[\\begin{array}{l}\n",
    "\\beta_{10} \\\\\n",
    "\\beta_{20}\n",
    "\\end{array}\\right]+\\left[\\begin{array}{ll}\n",
    "\\beta_{11} & \\beta_{12} \\\\\n",
    "\\beta_{21} & \\beta_{22}\n",
    "\\end{array}\\right]\\left[\\begin{array}{l}\n",
    "y_{t-1} \\\\\n",
    "r_{t-1}\n",
    "\\end{array}\\right]+\\left[\\begin{array}{l}\n",
    "u_{y t} \\\\\n",
    "u_{r t}\n",
    "\\end{array}\\right]\n",
    "$$"
   ]
  },
  {
   "cell_type": "markdown",
   "id": "87d617ff-88f3-4baf-905e-02861a26e675",
   "metadata": {},
   "source": [
    "$$\n",
    "\\left[\\begin{array}{l}\n",
    "y_t \\\\\n",
    "r_t\n",
    "\\end{array}\\right]=\\overbrace{\\left[\\begin{array}{cc}\n",
    "1 & \\mathbf{0} \\\\\n",
    "-a_{21} & 1\n",
    "\\end{array}\\right]}^{{A}^{-1}}\\left[\\begin{array}{l}\n",
    "\\beta_{10} \\\\\n",
    "\\beta_{20}\n",
    "\\end{array}\\right]+\\overbrace{\\left[\\begin{array}{cc}\n",
    "1 & \\mathbf{0} \\\\\n",
    "-a_{21} & 1\n",
    "\\end{array}\\right]}^{{A}^{-1}}\\left[\\begin{array}{ll}\n",
    "\\beta_{11} & \\beta_{12} \\\\\n",
    "\\beta_{21} & \\beta_{22}\n",
    "\\end{array}\\right]\\left[\\begin{array}{l}\n",
    "y_{t-1} \\\\\n",
    "r_{t-1}\n",
    "\\end{array}\\right]+\\overbrace{\\left[\\begin{array}{cc}\n",
    "1 & \\mathbf{0} \\\\\n",
    "-a_{21} & 1\n",
    "\\end{array}\\right]}^{A^{-1}}\\left[\\begin{array}{l}\n",
    "u_{y t} \\\\\n",
    "u_{r t}\n",
    "\\end{array}\\right]\n",
    "$$"
   ]
  },
  {
   "cell_type": "markdown",
   "id": "9d5fffe5-c659-4b73-bc2d-4acd9691d246",
   "metadata": {},
   "source": [
    "It becomes reduced-form VAR eventually."
   ]
  },
  {
   "cell_type": "markdown",
   "id": "4f196401-a4cc-44ea-a615-201a31c96370",
   "metadata": {},
   "source": [
    "$$\n",
    "\\left[\\begin{array}{c}\n",
    "y_t \\\\\n",
    "r_t\n",
    "\\end{array}\\right]=\\left[\\begin{array}{c}\n",
    "\\beta_{10} \\\\\n",
    "-a_{21} \\beta_{10}+\\beta_{20}\n",
    "\\end{array}\\right]+\\left[\\begin{array}{cc}\n",
    "\\beta_{11} & \\beta_{12} \\\\\n",
    "-a_{21} \\beta_{11}+\\beta_{12} & -a_{21} \\beta_{12}+\\beta_{22}\n",
    "\\end{array}\\right]\\left[\\begin{array}{c}\n",
    "y_{t-1} \\\\\n",
    "r_{t-1}\n",
    "\\end{array}\\right]+\\left[\\begin{array}{c}\n",
    "u_{y t} \\\\\n",
    "-a_{21} u_{y t}+u_{r t}\n",
    "\\end{array}\\right]\n",
    "$$"
   ]
  },
  {
   "cell_type": "markdown",
   "id": "dd12841e-8541-477b-9ad3-68ad31fac13b",
   "metadata": {},
   "source": [
    "Every parameters estimated from reduced-VAR can help to recover the parameters in structural form, $9$ equations for $9$ parameters, for example\n",
    "$$\n",
    "\\beta_{10} = g_{10}\\\\\n",
    "-a_{21\\beta_{10}+\\beta_{20}}= g_{20}\n",
    "$$"
   ]
  },
  {
   "cell_type": "markdown",
   "id": "69ffa24d-e0da-42b0-bd9c-e09cb5907d99",
   "metadata": {},
   "source": [
    "To summarize, the identification process is simply imposing restriction on matrix $A$ with priori knowledge or intuition."
   ]
  },
  {
   "cell_type": "markdown",
   "id": "753ac752-b6a1-4512-a64d-7f24d37aa10c",
   "metadata": {
    "tags": []
   },
   "source": [
    "## <font face=\"gotham\" color=\"purple\">Restrictions</font>"
   ]
  },
  {
   "cell_type": "markdown",
   "id": "1f938f1c-5aac-45f4-98ff-566eb860a2c1",
   "metadata": {},
   "source": [
    "How many restrictions can we have? It's a simple math question."
   ]
  },
  {
   "cell_type": "markdown",
   "id": "5613d4c5-cd6f-46d4-8844-f21f0668bcb5",
   "metadata": {},
   "source": [
    "Suppose you have $n$ variables, then matrix $A$ will be $n\\times n$. However the diagonal of $A$ must be $1$'s, also there are $n$ variances of structural shocks unknown, that leaves us $n^2 + n - n = n^2$ unknowns."
   ]
  },
  {
   "cell_type": "markdown",
   "id": "99a95973-9f02-4110-904c-8fbc494ad671",
   "metadata": {},
   "source": [
    "There are $n+\\frac{n^2-n}{2}=\\frac{n^2+n}{2}$\n",
    "known, which mean $n$ diagonal elements plus $\\frac{n^2-n}{2}$ off-diagonal elements in covariance matrix of $E (e_t e_t^{T})=\\Sigma_e$."
   ]
  },
  {
   "cell_type": "markdown",
   "id": "b59b2c04-0145-4eba-ab7f-190d8427a852",
   "metadata": {},
   "source": [
    "The number of restriction we can impose\n",
    "$$\n",
    "n^2 - \\frac{n^2+n}{2}\n",
    "$$"
   ]
  },
  {
   "cell_type": "code",
   "execution_count": 114,
   "id": "fc26a9a3-ed1d-4d46-bffd-0925631317f4",
   "metadata": {},
   "outputs": [],
   "source": [
    "def getRestriction(n):\n",
    "    return int(n**2 - (n**2 + n)/2)"
   ]
  },
  {
   "cell_type": "code",
   "execution_count": 121,
   "id": "3a69835b-6dfd-4113-850d-dfaf9b9f4fba",
   "metadata": {},
   "outputs": [
    {
     "data": {
      "text/plain": [
       "21"
      ]
     },
     "execution_count": 121,
     "metadata": {},
     "output_type": "execute_result"
    }
   ],
   "source": [
    "getRestriction(7)"
   ]
  },
  {
   "cell_type": "markdown",
   "id": "2c1bbf1a-857e-4157-a6d0-6a4e7a1481ad",
   "metadata": {},
   "source": [
    "Christopher Sims suggests strategy called _Recursive Ordering_ for identification."
   ]
  },
  {
   "cell_type": "markdown",
   "id": "ace9ce87-4ab2-45b3-a676-9e9e00d2f331",
   "metadata": {},
   "source": [
    "## <font face=\"gotham\" color=\"purple\">Impulse Response</font>"
   ]
  },
  {
   "cell_type": "markdown",
   "id": "7a1d23ae-50cc-4952-85bf-0de9d1c93fe6",
   "metadata": {},
   "source": [
    "Wold representation to evaluate IRF"
   ]
  },
  {
   "cell_type": "markdown",
   "id": "62375ed7-fe99-4835-b1f4-ac39f83686dc",
   "metadata": {},
   "source": [
    "${X}_t=\\mu+\\sum_{i=0}^{\\infty} \\mathrm{C}_i {U}_{t-i}$"
   ]
  },
  {
   "cell_type": "markdown",
   "id": "a5470d7b-d33f-403b-8b9d-477e7c642e57",
   "metadata": {},
   "source": [
    "## <font face=\"gotham\" color=\"purple\">Variance Decomposition</font>"
   ]
  },
  {
   "cell_type": "markdown",
   "id": "0572faf9-65fe-43e6-8c5c-6b39dd05e630",
   "metadata": {},
   "source": [
    "Forecast error decomposition can tell use how much movement is due to the shock of interest or other shocks."
   ]
  },
  {
   "cell_type": "code",
   "execution_count": null,
   "id": "8af8553f-bfbf-46ba-835b-fb69cb93492d",
   "metadata": {},
   "outputs": [],
   "source": []
  }
 ],
 "metadata": {
  "kernelspec": {
   "display_name": "Python 3 (ipykernel)",
   "language": "python",
   "name": "python3"
  },
  "language_info": {
   "codemirror_mode": {
    "name": "ipython",
    "version": 3
   },
   "file_extension": ".py",
   "mimetype": "text/x-python",
   "name": "python",
   "nbconvert_exporter": "python",
   "pygments_lexer": "ipython3",
   "version": "3.9.12"
  }
 },
 "nbformat": 4,
 "nbformat_minor": 5
}
