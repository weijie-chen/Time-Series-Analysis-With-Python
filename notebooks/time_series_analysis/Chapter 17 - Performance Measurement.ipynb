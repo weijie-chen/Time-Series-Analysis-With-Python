{
 "cells": [
  {
   "cell_type": "code",
   "execution_count": 2,
   "id": "854f1934-fc24-401f-bc12-7dc6a963a26e",
   "metadata": {},
   "outputs": [],
   "source": [
    "import numpy as np\n",
    "import matplotlib.pyplot as plt\n",
    "import scipy as sp\n",
    "import scipy.stats\n",
    "import pandas as pd\n",
    "import datetime as dt\n",
    "import numpy_financial as npf\n",
    "import yfinance as yf\n",
    "from scipy.optimize import minimize\n",
    "\n",
    "plt.style.use(\"ggplot\")"
   ]
  },
  {
   "cell_type": "markdown",
   "id": "895cb735-80b9-477a-a2a4-d9b9fd003f66",
   "metadata": {
    "tags": []
   },
   "source": [
    "# <font face=\"gotham\" color=\"purple\"> Capital Annual Growth Rate </font>"
   ]
  },
  {
   "cell_type": "markdown",
   "id": "ef925462-35c1-4f6d-857f-6f770daa17f3",
   "metadata": {},
   "source": [
    "$$\n",
    "C A G R=\\left[\\left(\\frac{E V}{B V}\\right)^{1/n}-1\\right]\\times 100\n",
    "$$\n",
    "where:\n",
    "$E V=$ Ending value<br>\n",
    "$B V=$ Beginning value<br>\n",
    "$n=$ Number of years"
   ]
  },
  {
   "cell_type": "code",
   "execution_count": 5,
   "id": "b0cf161b-fa94-4a7c-8def-5933c1f4dcfb",
   "metadata": {},
   "outputs": [
    {
     "name": "stdout",
     "output_type": "stream",
     "text": [
      "[*********************100%***********************]  1 of 1 completed\n"
     ]
    }
   ],
   "source": [
    "sp500 = yf.download(\n",
    "    [\"^GSPC\"],\n",
    "    start=dt.datetime.today() - dt.timedelta(days=1500),\n",
    "    end=dt.datetime.today(),\n",
    "    progress=True,\n",
    "    actions=\"inline\",\n",
    "    interval=\"1d\",\n",
    ")"
   ]
  },
  {
   "cell_type": "markdown",
   "id": "82fe0283-ff46-4b8f-a777-cd818d92c823",
   "metadata": {},
   "source": [
    "This function is for daily data, because we use ```252``` number of trading days in a year to calculate $n$."
   ]
  },
  {
   "cell_type": "code",
   "execution_count": 27,
   "id": "4712630b-b6fb-4dcb-ab04-c75b5bc7c24d",
   "metadata": {},
   "outputs": [],
   "source": [
    "def get_cagr(df):\n",
    "    EV = df[\"Close\"][-1]\n",
    "    BV = df[\"Close\"][0]\n",
    "    n = len(df) / 252\n",
    "    cagr = (EV / BV) ** (1 / n) - 1\n",
    "    print(\"CAGR: {:.2f}%\".format(cagr * 100))\n",
    "    return cagr"
   ]
  },
  {
   "cell_type": "code",
   "execution_count": 28,
   "id": "6110b800-d259-4457-97f9-caacde7a7b8f",
   "metadata": {},
   "outputs": [
    {
     "name": "stdout",
     "output_type": "stream",
     "text": [
      "CAGR: 9.64%\n"
     ]
    }
   ],
   "source": [
    "cagr = get_cagr(sp500)"
   ]
  },
  {
   "cell_type": "markdown",
   "id": "cdf7af9f-7798-4d3d-a792-b441f7cb3d39",
   "metadata": {},
   "source": [
    "# <font face=\"gotham\" color=\"purple\"> Volatility </font>"
   ]
  },
  {
   "cell_type": "markdown",
   "id": "e4c1b8ea-9c85-4a99-b8e2-d04354e7afd2",
   "metadata": {},
   "source": [
    "Simple as you have imagined, volatility is commonly measured by standard deviation. The only thing you need to take heed is to know how to convert to annualized volatility. \n",
    "$$\n",
    "\\text{daily return} \\times \\sqrt{252}\\\\\n",
    "\\text{weekly return} \\times \\sqrt{52}\\\\\n",
    "\\text{monthly return} \\times \\sqrt{12}\n",
    "$$"
   ]
  },
  {
   "cell_type": "code",
   "execution_count": 32,
   "id": "45fa764c-0e61-4359-b753-d703348d789e",
   "metadata": {},
   "outputs": [],
   "source": [
    "def get_volatility(df, freq):\n",
    "    \"\"\"\n",
    "    The function is for using daily trading data.\n",
    "    \"\"\"\n",
    "    daily_ret = df[\"Close\"].pct_change().std()\n",
    "    if freq == \"daily\":\n",
    "        vol = daily_ret * np.sqrt(252)\n",
    "    elif freq == \"weekly\":\n",
    "        vol = daily_ret * np.sqrt(52)\n",
    "    elif freq == \"monthly\":\n",
    "        vol = daily_ret * np.sqrt(12)\n",
    "    return vol"
   ]
  },
  {
   "cell_type": "code",
   "execution_count": 33,
   "id": "2ffff289-b028-4676-9e6d-27b0fd238632",
   "metadata": {},
   "outputs": [
    {
     "data": {
      "text/plain": [
       "0.23048979214458895"
      ]
     },
     "execution_count": 33,
     "metadata": {},
     "output_type": "execute_result"
    }
   ],
   "source": [
    "get_volatility(sp500, \"daily\")"
   ]
  },
  {
   "cell_type": "markdown",
   "id": "6a8674f1-2ece-4af1-9ec2-be69e4009232",
   "metadata": {},
   "source": [
    "# <font face=\"gotham\" color=\"purple\"> Sharpe Ratio and Sortino Ratio </font>"
   ]
  },
  {
   "cell_type": "markdown",
   "id": "a84a8708-266a-4c60-b4a3-098e1235ed6f",
   "metadata": {},
   "source": [
    "$$\n",
    "Sh.R = \\frac{r_p - r_{f}}{\\sigma_p}\n",
    "$$"
   ]
  },
  {
   "cell_type": "code",
   "execution_count": 102,
   "id": "762c886d-06e9-4885-8acd-db91b51a4f1f",
   "metadata": {},
   "outputs": [
    {
     "name": "stdout",
     "output_type": "stream",
     "text": [
      "[*********************100%***********************]  1 of 1 completed\n"
     ]
    }
   ],
   "source": [
    "cisco = yf.download(\n",
    "    [\"CSCO\"],\n",
    "    start=dt.datetime.today() - dt.timedelta(days=3500),\n",
    "    end=dt.datetime.today(),\n",
    "    progress=True,\n",
    "    actions=\"inline\",\n",
    "    interval=\"1d\",\n",
    ")"
   ]
  },
  {
   "cell_type": "code",
   "execution_count": 103,
   "id": "c5762300-b1e4-40f3-a107-bbbf5f9191f7",
   "metadata": {},
   "outputs": [],
   "source": [
    "def get_sharpe(df, rf):\n",
    "    sr = (get_cagr(df) - rf) / get_volatility(df, \"daily\")\n",
    "    print(\"Risk-free rate:{}%\".format(rf * 100))\n",
    "    print(\"Sharpe Ratio: {}\".format(sr))\n",
    "    return sr"
   ]
  },
  {
   "cell_type": "code",
   "execution_count": 104,
   "id": "5ed84f29-dccf-4ab5-9c90-9c72900707b2",
   "metadata": {},
   "outputs": [
    {
     "name": "stdout",
     "output_type": "stream",
     "text": [
      "CAGR: 7.24%\n",
      "Risk-free rate:4.5%\n",
      "Sharpe Ratio: 0.10847264982490404\n"
     ]
    }
   ],
   "source": [
    "sr = get_sharpe(cisco, 0.045)"
   ]
  },
  {
   "cell_type": "markdown",
   "id": "9f7b39a0-ff90-4323-adab-de2875e95e03",
   "metadata": {},
   "source": [
    "$$\n",
    "So. R = \\frac{r_p-r_f}{\\sigma_p^*}\n",
    "$$"
   ]
  },
  {
   "cell_type": "markdown",
   "id": "0fc38cc0-e26b-442e-a654-07384953c6cd",
   "metadata": {},
   "source": [
    "where $\\sigma_p^*$ only takes account of negative volatility."
   ]
  },
  {
   "cell_type": "code",
   "execution_count": 105,
   "id": "7dcd8464-571e-4517-bf03-ef29c9ca0874",
   "metadata": {},
   "outputs": [
    {
     "name": "stdout",
     "output_type": "stream",
     "text": [
      "CAGR: 7.24%\n",
      "Risk-free rate:4.5%\n",
      "Sortino Ratio: 0.13696458182646315\n"
     ]
    }
   ],
   "source": [
    "def get_sortino(df, rf):\n",
    "    df[\"daily_ret\"] = df[\"Close\"].pct_change()\n",
    "    neg_volatility = df[\"daily_ret\"][df[\"daily_ret\"] < 0].std() * np.sqrt(252)\n",
    "    sor = (get_cagr(df) - rf) / neg_volatility\n",
    "    print(\"Risk-free rate:{}%\".format(rf * 100))\n",
    "    print(\"Sortino Ratio: {}\".format(sor))\n",
    "    return sor\n",
    "\n",
    "\n",
    "sor = get_sortino(cisco, 0.045)"
   ]
  },
  {
   "cell_type": "markdown",
   "id": "54596e24-cb90-4f8e-a778-86666e6e8a33",
   "metadata": {},
   "source": [
    "# <font face=\"gotham\" color=\"purple\"> Max Drawdown and Calmar Ratio </font>"
   ]
  },
  {
   "cell_type": "markdown",
   "id": "d1270d70-ce93-42eb-b696-80855a56937a",
   "metadata": {},
   "source": [
    "Max drawdown is the percentage counts the maximum drop from peak return in a certain period."
   ]
  },
  {
   "cell_type": "code",
   "execution_count": 123,
   "id": "cc100a1c-f012-40c5-8545-c489b40a8d19",
   "metadata": {},
   "outputs": [],
   "source": [
    "def get_max_dd(df):\n",
    "    df[\"daily_ret\"] = df[\"Close\"].pct_change()\n",
    "    df[\"cum_ret\"] = (1 + df[\"daily_ret\"]).cumprod()\n",
    "    df[\"cum_trailing_max\"] = df[\"cum_ret\"].cummax()\n",
    "    df[\"drawdown\"] = df[\"cum_trailing_max\"] - df[\"cum_ret\"]\n",
    "    df[\"drawdown_pct\"] = df[\"drawdown\"] / df[\"cum_trailing_max\"]\n",
    "    max_dd = df[\"drawdown_pct\"].max()\n",
    "    print(\"Max drawdown: {:.4f}%\".format(max_dd * 100))\n",
    "    return max_dd"
   ]
  },
  {
   "cell_type": "code",
   "execution_count": 124,
   "id": "01f6dd0a-5856-4e4a-b533-23d082cd0994",
   "metadata": {},
   "outputs": [
    {
     "name": "stdout",
     "output_type": "stream",
     "text": [
      "Max drawdown: 42.8079%\n"
     ]
    }
   ],
   "source": [
    "mdd = get_max_dd(cisco)"
   ]
  },
  {
   "cell_type": "markdown",
   "id": "925a67d2-c8e6-470f-b3b1-8bee40422369",
   "metadata": {},
   "source": [
    "Calmar ratio is similar to Sharpe ratio, but the risk is replace by maximum drawdown. A hedge fund manager named Terry W. Young invented Calmar ratio, and 'Calmar' is an acronym of his company's name and its newsletter: **CAL**ifornia **M**anaged **A**ccounts **R**eports."
   ]
  },
  {
   "cell_type": "code",
   "execution_count": 125,
   "id": "030c4baf-82bf-4e8a-a71c-67b42c390bfd",
   "metadata": {},
   "outputs": [],
   "source": [
    "def get_calmar(df):\n",
    "    calmar = get_cagr(df) / get_max_dd(df)\n",
    "    print(\"Calmar ratio: {:.4f}%\".format(calmar))\n",
    "    return calmar"
   ]
  },
  {
   "cell_type": "code",
   "execution_count": 126,
   "id": "84ab5682-77ba-4b74-ae54-9cce04eb863d",
   "metadata": {},
   "outputs": [
    {
     "name": "stdout",
     "output_type": "stream",
     "text": [
      "CAGR: 7.24%\n",
      "Max drawdown: 42.8079%\n",
      "Calmar ratio: 0.1692%\n"
     ]
    },
    {
     "data": {
      "text/plain": [
       "0.16921135956307007"
      ]
     },
     "execution_count": 126,
     "metadata": {},
     "output_type": "execute_result"
    }
   ],
   "source": [
    "get_calmar(cisco)"
   ]
  },
  {
   "cell_type": "code",
   "execution_count": null,
   "id": "01f465ab-aeaa-4806-94ab-6100eee726ab",
   "metadata": {},
   "outputs": [],
   "source": []
  }
 ],
 "metadata": {
  "kernelspec": {
   "display_name": "Python 3 (ipykernel)",
   "language": "python",
   "name": "python3"
  },
  "language_info": {
   "codemirror_mode": {
    "name": "ipython",
    "version": 3
   },
   "file_extension": ".py",
   "mimetype": "text/x-python",
   "name": "python",
   "nbconvert_exporter": "python",
   "pygments_lexer": "ipython3",
   "version": "3.9.12"
  }
 },
 "nbformat": 4,
 "nbformat_minor": 5
}
